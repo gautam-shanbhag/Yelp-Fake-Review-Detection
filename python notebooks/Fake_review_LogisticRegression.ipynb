{
 "cells": [
  {
   "cell_type": "code",
   "execution_count": 1,
   "metadata": {
    "_cell_guid": "b1076dfc-b9ad-4769-8c92-a6c4dae69d19",
    "_kg_hide-input": false,
    "_uuid": "8f2839f25d086af736a60e9eeb907d3b93b6e0e5"
   },
   "outputs": [
    {
     "name": "stdout",
     "output_type": "stream",
     "text": [
      "['fake-review-dm', 'final-mergedtsv']\n"
     ]
    }
   ],
   "source": [
    "# This Python 3 environment comes with many helpful analytics libraries installed\n",
    "# It is defined by the kaggle/python docker image: https://github.com/kaggle/docker-python\n",
    "# For example, here's several helpful packages to load in \n",
    "\n",
    "import numpy as np # linear algebra\n",
    "import pandas as pd # data processing, CSV file I/O (e.g. pd.read_csv)\n",
    "\n",
    "# Input data files are available in the \"../input/\" directory.\n",
    "# For example, running this (by clicking run or pressing Shift+Enter) will list the files in the input directory\n",
    "\n",
    "import os\n",
    "print(os.listdir(\"../input\"))\n",
    "\n",
    "# Any results you write to the current directory are saved as output."
   ]
  },
  {
   "cell_type": "code",
   "execution_count": 2,
   "metadata": {
    "_cell_guid": "79c7e3d0-c299-4dcb-8224-4455121ee9b0",
    "_uuid": "d629ff2d2480ee46fbb7e2d37f6b5fab8052498a"
   },
   "outputs": [],
   "source": [
    "latest =pd.read_csv(\"../input/final-mergedtsv/final_merged.tsv\", header = 0,sep=\"\\t\")"
   ]
  },
  {
   "cell_type": "code",
   "execution_count": 3,
   "metadata": {},
   "outputs": [
    {
     "data": {
      "text/html": [
       "<div>\n",
       "<style scoped>\n",
       "    .dataframe tbody tr th:only-of-type {\n",
       "        vertical-align: middle;\n",
       "    }\n",
       "\n",
       "    .dataframe tbody tr th {\n",
       "        vertical-align: top;\n",
       "    }\n",
       "\n",
       "    .dataframe thead th {\n",
       "        text-align: right;\n",
       "    }\n",
       "</style>\n",
       "<table border=\"1\" class=\"dataframe\">\n",
       "  <thead>\n",
       "    <tr style=\"text-align: right;\">\n",
       "      <th></th>\n",
       "      <th>User_Id</th>\n",
       "      <th>Prod_Id</th>\n",
       "      <th>Date_x</th>\n",
       "      <th>Review</th>\n",
       "      <th>Rating</th>\n",
       "      <th>Label</th>\n",
       "      <th>Product_Name</th>\n",
       "      <th>Avg_Prod_Rating</th>\n",
       "      <th>Avg_user_rating</th>\n",
       "      <th>Review_Len</th>\n",
       "      <th>user_total_reviews</th>\n",
       "      <th>corpus</th>\n",
       "      <th>compound</th>\n",
       "      <th>neg</th>\n",
       "      <th>neu</th>\n",
       "      <th>pos</th>\n",
       "      <th>number_Cap_Words</th>\n",
       "      <th>number_digit_Words</th>\n",
       "      <th>noun_count</th>\n",
       "    </tr>\n",
       "  </thead>\n",
       "  <tbody>\n",
       "    <tr>\n",
       "      <th>0</th>\n",
       "      <td>923</td>\n",
       "      <td>0</td>\n",
       "      <td>08-12-2014</td>\n",
       "      <td>The food at snack is a selection of popular Gr...</td>\n",
       "      <td>3</td>\n",
       "      <td>-1</td>\n",
       "      <td>Snack</td>\n",
       "      <td>4.009524</td>\n",
       "      <td>4.435897</td>\n",
       "      <td>215</td>\n",
       "      <td>39</td>\n",
       "      <td>food snack select popular greek dish appet tra...</td>\n",
       "      <td>0.6486</td>\n",
       "      <td>0.061</td>\n",
       "      <td>0.693</td>\n",
       "      <td>0.247</td>\n",
       "      <td>0</td>\n",
       "      <td>0</td>\n",
       "      <td>3</td>\n",
       "    </tr>\n",
       "    <tr>\n",
       "      <th>1</th>\n",
       "      <td>923</td>\n",
       "      <td>19</td>\n",
       "      <td>14-01-2014</td>\n",
       "      <td>The restaurant is on the ground floor of a typ...</td>\n",
       "      <td>5</td>\n",
       "      <td>-1</td>\n",
       "      <td>Palo Santo</td>\n",
       "      <td>4.037152</td>\n",
       "      <td>4.435897</td>\n",
       "      <td>513</td>\n",
       "      <td>39</td>\n",
       "      <td>littl place soho wonder lamb sandwich glass wi...</td>\n",
       "      <td>-0.1280</td>\n",
       "      <td>0.189</td>\n",
       "      <td>0.673</td>\n",
       "      <td>0.138</td>\n",
       "      <td>0</td>\n",
       "      <td>0</td>\n",
       "      <td>9</td>\n",
       "    </tr>\n",
       "    <tr>\n",
       "      <th>2</th>\n",
       "      <td>923</td>\n",
       "      <td>40</td>\n",
       "      <td>30-05-2014</td>\n",
       "      <td>Really nice mousaka and lovely décor inside. A...</td>\n",
       "      <td>4</td>\n",
       "      <td>-1</td>\n",
       "      <td>Pylos</td>\n",
       "      <td>4.312869</td>\n",
       "      <td>4.435897</td>\n",
       "      <td>231</td>\n",
       "      <td>39</td>\n",
       "      <td>order lunch snack last friday time noth miss f...</td>\n",
       "      <td>0.7717</td>\n",
       "      <td>0.067</td>\n",
       "      <td>0.628</td>\n",
       "      <td>0.305</td>\n",
       "      <td>0</td>\n",
       "      <td>1</td>\n",
       "      <td>4</td>\n",
       "    </tr>\n",
       "    <tr>\n",
       "      <th>3</th>\n",
       "      <td>923</td>\n",
       "      <td>63</td>\n",
       "      <td>13-11-2014</td>\n",
       "      <td>I really enjoyed brunch at Jane. The ambiance ...</td>\n",
       "      <td>4</td>\n",
       "      <td>-1</td>\n",
       "      <td>Jane</td>\n",
       "      <td>3.937181</td>\n",
       "      <td>4.435897</td>\n",
       "      <td>169</td>\n",
       "      <td>39</td>\n",
       "      <td>beauti quaint littl restaur pretti street stro...</td>\n",
       "      <td>0.8910</td>\n",
       "      <td>0.042</td>\n",
       "      <td>0.712</td>\n",
       "      <td>0.246</td>\n",
       "      <td>0</td>\n",
       "      <td>0</td>\n",
       "      <td>2</td>\n",
       "    </tr>\n",
       "    <tr>\n",
       "      <th>4</th>\n",
       "      <td>923</td>\n",
       "      <td>79</td>\n",
       "      <td>30-03-2014</td>\n",
       "      <td>We ate at the Blue Ribbon with colleagues. The...</td>\n",
       "      <td>3</td>\n",
       "      <td>-1</td>\n",
       "      <td>Blue Ribbon Brasserie</td>\n",
       "      <td>4.280000</td>\n",
       "      <td>4.435897</td>\n",
       "      <td>255</td>\n",
       "      <td>39</td>\n",
       "      <td>snack great place casual sit lunch especi cold...</td>\n",
       "      <td>0.9769</td>\n",
       "      <td>0.000</td>\n",
       "      <td>0.661</td>\n",
       "      <td>0.339</td>\n",
       "      <td>0</td>\n",
       "      <td>0</td>\n",
       "      <td>3</td>\n",
       "    </tr>\n",
       "  </tbody>\n",
       "</table>\n",
       "</div>"
      ],
      "text/plain": [
       "   User_Id  Prod_Id    ...     number_digit_Words noun_count\n",
       "0      923        0    ...                      0          3\n",
       "1      923       19    ...                      0          9\n",
       "2      923       40    ...                      1          4\n",
       "3      923       63    ...                      0          2\n",
       "4      923       79    ...                      0          3\n",
       "\n",
       "[5 rows x 19 columns]"
      ]
     },
     "execution_count": 3,
     "metadata": {},
     "output_type": "execute_result"
    }
   ],
   "source": [
    "latest.head()"
   ]
  },
  {
   "cell_type": "code",
   "execution_count": 4,
   "metadata": {},
   "outputs": [],
   "source": [
    "latest.dropna(axis=0, inplace=True)"
   ]
  },
  {
   "cell_type": "markdown",
   "metadata": {},
   "source": [
    "**Split data for Fake Reviews & True Reviews to collect common words betweeen both to use as stop words**"
   ]
  },
  {
   "cell_type": "code",
   "execution_count": 5,
   "metadata": {},
   "outputs": [],
   "source": [
    "positive = latest[latest['Label']== 1]\n",
    "fake = latest[latest['Label'] == -1]\n",
    "true_word_list = []"
   ]
  },
  {
   "cell_type": "code",
   "execution_count": 6,
   "metadata": {},
   "outputs": [],
   "source": [
    "for i in range(0,positive['corpus'].count()):\n",
    "   true_word_temp = positive['corpus'].iloc[i].split()\n",
    "   true_word_list.append(true_word_temp)\n",
    "from itertools import chain\n",
    "list1 = list(chain.from_iterable(true_word_list))\n",
    "from collections import Counter \n",
    "true_mc = Counter(list1).most_common()\n",
    " \n",
    " \n",
    "\n",
    "fake_word_list= fake['corpus'].str.split(expand=True).stack()\n",
    "from collections import Counter \n",
    "fake_mc = Counter(fake_word_list).most_common() \n",
    "\n",
    " "
   ]
  },
  {
   "cell_type": "markdown",
   "metadata": {},
   "source": [
    "**collects top 20 common words -- > stored in df_common**"
   ]
  },
  {
   "cell_type": "code",
   "execution_count": 7,
   "metadata": {},
   "outputs": [
    {
     "data": {
      "text/plain": [
       "['come',\n",
       " 'one',\n",
       " 'tri',\n",
       " 'best',\n",
       " 'get',\n",
       " 'order',\n",
       " 'love',\n",
       " 'place',\n",
       " 'also',\n",
       " 'servic',\n",
       " 'time',\n",
       " 'delici',\n",
       " 'back',\n",
       " 'great',\n",
       " 'like',\n",
       " 'food',\n",
       " 'wait',\n",
       " 'restaur',\n",
       " 'good',\n",
       " 'realli',\n",
       " 'would',\n",
       " 'go']"
      ]
     },
     "execution_count": 7,
     "metadata": {},
     "output_type": "execute_result"
    }
   ],
   "source": [
    "df_true = pd.DataFrame(true_mc)\n",
    "df_false = pd.DataFrame(fake_mc)\n",
    "df_false1 = df_false[0:23]\n",
    "df_true1 = df_true[0:23]\n",
    "df_common = list(set(df_true1.iloc[:,0]) & set(df_false1.iloc[:,0]))\n",
    "df_common"
   ]
  },
  {
   "cell_type": "code",
   "execution_count": 8,
   "metadata": {},
   "outputs": [
    {
     "data": {
      "text/html": [
       "<div>\n",
       "<style scoped>\n",
       "    .dataframe tbody tr th:only-of-type {\n",
       "        vertical-align: middle;\n",
       "    }\n",
       "\n",
       "    .dataframe tbody tr th {\n",
       "        vertical-align: top;\n",
       "    }\n",
       "\n",
       "    .dataframe thead th {\n",
       "        text-align: right;\n",
       "    }\n",
       "</style>\n",
       "<table border=\"1\" class=\"dataframe\">\n",
       "  <thead>\n",
       "    <tr style=\"text-align: right;\">\n",
       "      <th></th>\n",
       "      <th>User_Id</th>\n",
       "      <th>Prod_Id</th>\n",
       "      <th>Date_x</th>\n",
       "      <th>Review</th>\n",
       "      <th>Rating</th>\n",
       "      <th>Label</th>\n",
       "      <th>Product_Name</th>\n",
       "      <th>Avg_Prod_Rating</th>\n",
       "      <th>Avg_user_rating</th>\n",
       "      <th>Review_Len</th>\n",
       "      <th>user_total_reviews</th>\n",
       "      <th>corpus</th>\n",
       "      <th>compound</th>\n",
       "      <th>neg</th>\n",
       "      <th>neu</th>\n",
       "      <th>pos</th>\n",
       "      <th>number_Cap_Words</th>\n",
       "      <th>number_digit_Words</th>\n",
       "      <th>noun_count</th>\n",
       "    </tr>\n",
       "  </thead>\n",
       "  <tbody>\n",
       "    <tr>\n",
       "      <th>0</th>\n",
       "      <td>923</td>\n",
       "      <td>0</td>\n",
       "      <td>08-12-2014</td>\n",
       "      <td>The food at snack is a selection of popular Gr...</td>\n",
       "      <td>3</td>\n",
       "      <td>-1</td>\n",
       "      <td>Snack</td>\n",
       "      <td>4.009524</td>\n",
       "      <td>4.435897</td>\n",
       "      <td>215</td>\n",
       "      <td>39</td>\n",
       "      <td>food snack select popular greek dish appet tra...</td>\n",
       "      <td>0.6486</td>\n",
       "      <td>0.061</td>\n",
       "      <td>0.693</td>\n",
       "      <td>0.247</td>\n",
       "      <td>0</td>\n",
       "      <td>0</td>\n",
       "      <td>3</td>\n",
       "    </tr>\n",
       "    <tr>\n",
       "      <th>1</th>\n",
       "      <td>923</td>\n",
       "      <td>19</td>\n",
       "      <td>14-01-2014</td>\n",
       "      <td>The restaurant is on the ground floor of a typ...</td>\n",
       "      <td>5</td>\n",
       "      <td>-1</td>\n",
       "      <td>Palo Santo</td>\n",
       "      <td>4.037152</td>\n",
       "      <td>4.435897</td>\n",
       "      <td>513</td>\n",
       "      <td>39</td>\n",
       "      <td>littl place soho wonder lamb sandwich glass wi...</td>\n",
       "      <td>-0.1280</td>\n",
       "      <td>0.189</td>\n",
       "      <td>0.673</td>\n",
       "      <td>0.138</td>\n",
       "      <td>0</td>\n",
       "      <td>0</td>\n",
       "      <td>9</td>\n",
       "    </tr>\n",
       "    <tr>\n",
       "      <th>2</th>\n",
       "      <td>923</td>\n",
       "      <td>40</td>\n",
       "      <td>30-05-2014</td>\n",
       "      <td>Really nice mousaka and lovely décor inside. A...</td>\n",
       "      <td>4</td>\n",
       "      <td>-1</td>\n",
       "      <td>Pylos</td>\n",
       "      <td>4.312869</td>\n",
       "      <td>4.435897</td>\n",
       "      <td>231</td>\n",
       "      <td>39</td>\n",
       "      <td>order lunch snack last friday time noth miss f...</td>\n",
       "      <td>0.7717</td>\n",
       "      <td>0.067</td>\n",
       "      <td>0.628</td>\n",
       "      <td>0.305</td>\n",
       "      <td>0</td>\n",
       "      <td>1</td>\n",
       "      <td>4</td>\n",
       "    </tr>\n",
       "    <tr>\n",
       "      <th>3</th>\n",
       "      <td>923</td>\n",
       "      <td>63</td>\n",
       "      <td>13-11-2014</td>\n",
       "      <td>I really enjoyed brunch at Jane. The ambiance ...</td>\n",
       "      <td>4</td>\n",
       "      <td>-1</td>\n",
       "      <td>Jane</td>\n",
       "      <td>3.937181</td>\n",
       "      <td>4.435897</td>\n",
       "      <td>169</td>\n",
       "      <td>39</td>\n",
       "      <td>beauti quaint littl restaur pretti street stro...</td>\n",
       "      <td>0.8910</td>\n",
       "      <td>0.042</td>\n",
       "      <td>0.712</td>\n",
       "      <td>0.246</td>\n",
       "      <td>0</td>\n",
       "      <td>0</td>\n",
       "      <td>2</td>\n",
       "    </tr>\n",
       "    <tr>\n",
       "      <th>4</th>\n",
       "      <td>923</td>\n",
       "      <td>79</td>\n",
       "      <td>30-03-2014</td>\n",
       "      <td>We ate at the Blue Ribbon with colleagues. The...</td>\n",
       "      <td>3</td>\n",
       "      <td>-1</td>\n",
       "      <td>Blue Ribbon Brasserie</td>\n",
       "      <td>4.280000</td>\n",
       "      <td>4.435897</td>\n",
       "      <td>255</td>\n",
       "      <td>39</td>\n",
       "      <td>snack great place casual sit lunch especi cold...</td>\n",
       "      <td>0.9769</td>\n",
       "      <td>0.000</td>\n",
       "      <td>0.661</td>\n",
       "      <td>0.339</td>\n",
       "      <td>0</td>\n",
       "      <td>0</td>\n",
       "      <td>3</td>\n",
       "    </tr>\n",
       "  </tbody>\n",
       "</table>\n",
       "</div>"
      ],
      "text/plain": [
       "   User_Id  Prod_Id    ...     number_digit_Words noun_count\n",
       "0      923        0    ...                      0          3\n",
       "1      923       19    ...                      0          9\n",
       "2      923       40    ...                      1          4\n",
       "3      923       63    ...                      0          2\n",
       "4      923       79    ...                      0          3\n",
       "\n",
       "[5 rows x 19 columns]"
      ]
     },
     "execution_count": 8,
     "metadata": {},
     "output_type": "execute_result"
    }
   ],
   "source": [
    "latest.head()"
   ]
  },
  {
   "cell_type": "code",
   "execution_count": 9,
   "metadata": {},
   "outputs": [],
   "source": [
    "from sklearn.feature_extraction.text import CountVectorizer\n",
    "from sklearn.model_selection import train_test_split\n",
    "from sklearn.linear_model import LogisticRegression\n",
    "from sklearn.preprocessing import LabelEncoder\n",
    "from sklearn.preprocessing import OneHotEncoder\n",
    "from sklearn.model_selection import RandomizedSearchCV"
   ]
  },
  {
   "cell_type": "markdown",
   "metadata": {},
   "source": [
    "**Split original data into train and test **"
   ]
  },
  {
   "cell_type": "code",
   "execution_count": 10,
   "metadata": {},
   "outputs": [],
   "source": [
    "sentences_train, sentences_test, y_train, y_test = train_test_split(latest.drop('Label',axis=1), latest['Label'], test_size=0.25, random_state=101)"
   ]
  },
  {
   "cell_type": "markdown",
   "metadata": {},
   "source": [
    "**Using Count Vectorizer only on corpus column of train data set to generate features \n",
    "also using ngram = 3 and removing stop words (df_common)**"
   ]
  },
  {
   "cell_type": "code",
   "execution_count": 11,
   "metadata": {},
   "outputs": [
    {
     "data": {
      "text/plain": [
       "CountVectorizer(analyzer='word', binary=False, decode_error='strict',\n",
       "        dtype=<class 'numpy.int64'>, encoding='utf-8', input='content',\n",
       "        lowercase=True, max_df=1.0, max_features=15000, min_df=1,\n",
       "        ngram_range=(2, 3), preprocessor=None,\n",
       "        stop_words=['come', 'one', 'tri', 'best', 'get', 'order', 'love', 'place', 'also', 'servic', 'time', 'delici', 'back', 'great', 'like', 'food', 'wait', 'restaur', 'good', 'realli', 'would', 'go'],\n",
       "        strip_accents=None, token_pattern='(?u)\\\\b\\\\w\\\\w+\\\\b',\n",
       "        tokenizer=None, vocabulary=None)"
      ]
     },
     "execution_count": 11,
     "metadata": {},
     "output_type": "execute_result"
    }
   ],
   "source": [
    "vectorizer = CountVectorizer(stop_words= df_common, ngram_range=(2,3), max_features= 15000)\n",
    "vectorizer.fit(sentences_train.corpus)"
   ]
  },
  {
   "cell_type": "markdown",
   "metadata": {},
   "source": [
    "**Transforming text values to numeric using above vectorizer on train and test dataset**"
   ]
  },
  {
   "cell_type": "code",
   "execution_count": 12,
   "metadata": {},
   "outputs": [],
   "source": [
    "x_train = vectorizer.transform(sentences_train.corpus)\n",
    "x_test  = vectorizer.transform(sentences_test.corpus)"
   ]
  },
  {
   "cell_type": "markdown",
   "metadata": {},
   "source": [
    "**Merging vectorised features with our extracted features using scipy library**"
   ]
  },
  {
   "cell_type": "code",
   "execution_count": 13,
   "metadata": {},
   "outputs": [],
   "source": [
    "import scipy as sp\n",
    "final_train = sp.sparse.hstack((x_train,sentences_train[['Rating','Avg_Prod_Rating','Avg_user_rating','Review_Len','user_total_reviews','compound','number_Cap_Words','number_digit_Words','noun_count']].values),format='csr')\n",
    "final_test = sp.sparse.hstack((x_test,sentences_test[['Rating','Avg_Prod_Rating','Avg_user_rating','Review_Len','user_total_reviews','compound','number_Cap_Words','number_digit_Words','noun_count']].values),format='csr')"
   ]
  },
  {
   "cell_type": "markdown",
   "metadata": {},
   "source": [
    "**Using SMOTE to handle imbalanced dataset**"
   ]
  },
  {
   "cell_type": "code",
   "execution_count": 14,
   "metadata": {},
   "outputs": [
    {
     "name": "stderr",
     "output_type": "stream",
     "text": [
      "Using TensorFlow backend.\n"
     ]
    }
   ],
   "source": [
    "from imblearn.over_sampling import SMOTE\n",
    "ros = SMOTE(random_state=0)\n",
    "final_train_dataset, y_dataset = ros.fit_resample(final_train, y_train)\n",
    "#final_train_dataset = final_train\n",
    "#y_dataset = y_train"
   ]
  },
  {
   "cell_type": "markdown",
   "metadata": {},
   "source": [
    "**Model to be fit**"
   ]
  },
  {
   "cell_type": "code",
   "execution_count": 15,
   "metadata": {},
   "outputs": [
    {
     "name": "stderr",
     "output_type": "stream",
     "text": [
      "/opt/conda/lib/python3.6/site-packages/sklearn/linear_model/logistic.py:433: FutureWarning: Default solver will be changed to 'lbfgs' in 0.22. Specify a solver to silence this warning.\n",
      "  FutureWarning)\n"
     ]
    },
    {
     "name": "stdout",
     "output_type": "stream",
     "text": [
      "Accuracy: 0.6458084619898423\n"
     ]
    }
   ],
   "source": [
    "#ML Model\n",
    "classifier = LogisticRegression()\n",
    "classifier.fit(final_train_dataset, y_dataset)\n",
    "score = classifier.score(final_test, y_test)\n",
    "\n",
    "print(\"Accuracy:\", score)\n"
   ]
  },
  {
   "cell_type": "markdown",
   "metadata": {},
   "source": [
    "**Accuracy + Report + Confusion Matrix**"
   ]
  },
  {
   "cell_type": "code",
   "execution_count": 16,
   "metadata": {},
   "outputs": [
    {
     "name": "stdout",
     "output_type": "stream",
     "text": [
      "              precision    recall  f1-score   support\n",
      "\n",
      "          -1       0.17      0.60      0.26     10398\n",
      "           1       0.93      0.65      0.77     88444\n",
      "\n",
      "   micro avg       0.65      0.65      0.65     98842\n",
      "   macro avg       0.55      0.63      0.51     98842\n",
      "weighted avg       0.85      0.65      0.71     98842\n",
      "\n"
     ]
    },
    {
     "data": {
      "text/plain": [
       "array([[ 6231,  4167],\n",
       "       [30842, 57602]])"
      ]
     },
     "execution_count": 16,
     "metadata": {},
     "output_type": "execute_result"
    }
   ],
   "source": [
    "from sklearn.metrics import confusion_matrix, classification_report\n",
    "predictions = classifier.predict(final_test)\n",
    "print(classification_report(y_test, predictions))\n",
    "confusion_matrix(y_test, predictions)"
   ]
  }
 ],
 "metadata": {
  "kernelspec": {
   "display_name": "Python 3",
   "language": "python",
   "name": "python3"
  },
  "language_info": {
   "codemirror_mode": {
    "name": "ipython",
    "version": 3
   },
   "file_extension": ".py",
   "mimetype": "text/x-python",
   "name": "python",
   "nbconvert_exporter": "python",
   "pygments_lexer": "ipython3",
   "version": "3.6.4"
  }
 },
 "nbformat": 4,
 "nbformat_minor": 1
}
