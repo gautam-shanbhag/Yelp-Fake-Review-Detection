{
  "nbformat": 4,
  "nbformat_minor": 0,
  "metadata": {
    "colab": {
      "name": "Preprocessing_and_knn_randomforest.ipynb",
      "version": "0.3.2",
      "provenance": [],
      "collapsed_sections": []
    },
    "kernelspec": {
      "name": "python3",
      "display_name": "Python 3"
    }
  },
  "cells": [
    {
      "metadata": {
        "id": "ReOpIJHemh32",
        "colab_type": "code",
        "colab": {
          "base_uri": "https://localhost:8080/",
          "height": 50
        },
        "outputId": "84ef8c95-816b-41c1-e101-2f727a0a6568"
      },
      "cell_type": "code",
      "source": [
        "import numpy as np # linear algebra\n",
        "import pandas as pd # data processing, CSV file I/O (e.g. pd.read_csv)\n",
        "# Code to read csv file into Colaboratory:\n",
        "!pip install -U -q PyDrive\n",
        "from pydrive.auth import GoogleAuth\n",
        "from pydrive.drive import GoogleDrive\n",
        "from google.colab import auth\n",
        "from oauth2client.client import GoogleCredentials\n",
        "# Authenticate and create the PyDrive client.\n",
        "auth.authenticate_user()\n",
        "gauth = GoogleAuth()\n",
        "gauth.credentials = GoogleCredentials.get_application_default()\n",
        "drive = GoogleDrive(gauth)"
      ],
      "execution_count": 1,
      "outputs": [
        {
          "output_type": "stream",
          "text": [
            "\u001b[?25l\r\u001b[K    1% |▎                               | 10kB 18.4MB/s eta 0:00:01\r\u001b[K    2% |▋                               | 20kB 1.8MB/s eta 0:00:01\r\u001b[K    3% |█                               | 30kB 2.6MB/s eta 0:00:01\r\u001b[K    4% |█▎                              | 40kB 1.7MB/s eta 0:00:01\r\u001b[K    5% |█▋                              | 51kB 2.1MB/s eta 0:00:01\r\u001b[K    6% |██                              | 61kB 2.5MB/s eta 0:00:01\r\u001b[K    7% |██▎                             | 71kB 2.9MB/s eta 0:00:01\r\u001b[K    8% |██▋                             | 81kB 3.3MB/s eta 0:00:01\r\u001b[K    9% |███                             | 92kB 3.6MB/s eta 0:00:01\r\u001b[K    10% |███▎                            | 102kB 2.8MB/s eta 0:00:01\r\u001b[K    11% |███▋                            | 112kB 2.8MB/s eta 0:00:01\r\u001b[K    12% |████                            | 122kB 4.0MB/s eta 0:00:01\r\u001b[K    13% |████▎                           | 133kB 3.9MB/s eta 0:00:01\r\u001b[K    14% |████▋                           | 143kB 7.4MB/s eta 0:00:01\r\u001b[K    15% |█████                           | 153kB 7.5MB/s eta 0:00:01\r\u001b[K    16% |█████▎                          | 163kB 7.5MB/s eta 0:00:01\r\u001b[K    17% |█████▋                          | 174kB 7.5MB/s eta 0:00:01\r\u001b[K    18% |██████                          | 184kB 7.5MB/s eta 0:00:01\r\u001b[K    19% |██████▎                         | 194kB 7.5MB/s eta 0:00:01\r\u001b[K    20% |██████▋                         | 204kB 39.6MB/s eta 0:00:01\r\u001b[K    21% |███████                         | 215kB 8.3MB/s eta 0:00:01\r\u001b[K    22% |███████▎                        | 225kB 8.2MB/s eta 0:00:01\r\u001b[K    23% |███████▋                        | 235kB 8.3MB/s eta 0:00:01\r\u001b[K    24% |████████                        | 245kB 8.3MB/s eta 0:00:01\r\u001b[K    25% |████████▎                       | 256kB 8.2MB/s eta 0:00:01\r\u001b[K    26% |████████▋                       | 266kB 8.0MB/s eta 0:00:01\r\u001b[K    27% |█████████                       | 276kB 8.1MB/s eta 0:00:01\r\u001b[K    29% |█████████▎                      | 286kB 8.1MB/s eta 0:00:01\r\u001b[K    30% |█████████▋                      | 296kB 8.1MB/s eta 0:00:01\r\u001b[K    31% |██████████                      | 307kB 8.3MB/s eta 0:00:01\r\u001b[K    32% |██████████▎                     | 317kB 43.8MB/s eta 0:00:01\r\u001b[K    33% |██████████▋                     | 327kB 46.2MB/s eta 0:00:01\r\u001b[K    34% |███████████                     | 337kB 48.5MB/s eta 0:00:01\r\u001b[K    35% |███████████▎                    | 348kB 44.0MB/s eta 0:00:01\r\u001b[K    36% |███████████▋                    | 358kB 44.0MB/s eta 0:00:01\r\u001b[K    37% |████████████                    | 368kB 51.6MB/s eta 0:00:01\r\u001b[K    38% |████████████▎                   | 378kB 52.0MB/s eta 0:00:01\r\u001b[K    39% |████████████▋                   | 389kB 53.6MB/s eta 0:00:01\r\u001b[K    40% |█████████████                   | 399kB 9.6MB/s eta 0:00:01\r\u001b[K    41% |█████████████▎                  | 409kB 9.5MB/s eta 0:00:01\r\u001b[K    42% |█████████████▋                  | 419kB 9.4MB/s eta 0:00:01\r\u001b[K    43% |██████████████                  | 430kB 9.4MB/s eta 0:00:01\r\u001b[K    44% |██████████████▎                 | 440kB 9.4MB/s eta 0:00:01\r\u001b[K    45% |██████████████▋                 | 450kB 9.5MB/s eta 0:00:01\r\u001b[K    46% |███████████████                 | 460kB 9.4MB/s eta 0:00:01\r\u001b[K    47% |███████████████▎                | 471kB 9.4MB/s eta 0:00:01\r\u001b[K    48% |███████████████▋                | 481kB 9.4MB/s eta 0:00:01\r\u001b[K    49% |████████████████                | 491kB 9.4MB/s eta 0:00:01\r\u001b[K    50% |████████████████▎               | 501kB 48.1MB/s eta 0:00:01\r\u001b[K    51% |████████████████▋               | 512kB 46.3MB/s eta 0:00:01\r\u001b[K    52% |█████████████████               | 522kB 48.3MB/s eta 0:00:01\r\u001b[K    53% |█████████████████▎              | 532kB 50.1MB/s eta 0:00:01\r\u001b[K    54% |█████████████████▋              | 542kB 50.3MB/s eta 0:00:01\r\u001b[K    55% |██████████████████              | 552kB 57.7MB/s eta 0:00:01\r\u001b[K    57% |██████████████████▎             | 563kB 58.6MB/s eta 0:00:01\r\u001b[K    58% |██████████████████▋             | 573kB 57.2MB/s eta 0:00:01\r\u001b[K    59% |███████████████████             | 583kB 56.7MB/s eta 0:00:01\r\u001b[K    60% |███████████████████▎            | 593kB 55.8MB/s eta 0:00:01\r\u001b[K    61% |███████████████████▋            | 604kB 55.6MB/s eta 0:00:01\r\u001b[K    62% |████████████████████            | 614kB 63.8MB/s eta 0:00:01\r\u001b[K    63% |████████████████████▎           | 624kB 62.0MB/s eta 0:00:01\r\u001b[K    64% |████████████████████▋           | 634kB 61.2MB/s eta 0:00:01\r\u001b[K    65% |█████████████████████           | 645kB 60.6MB/s eta 0:00:01\r\u001b[K    66% |█████████████████████▎          | 655kB 59.1MB/s eta 0:00:01\r\u001b[K    67% |█████████████████████▋          | 665kB 44.9MB/s eta 0:00:01\r\u001b[K    68% |██████████████████████          | 675kB 44.9MB/s eta 0:00:01\r\u001b[K    69% |██████████████████████▎         | 686kB 45.6MB/s eta 0:00:01\r\u001b[K    70% |██████████████████████▋         | 696kB 11.7MB/s eta 0:00:01\r\u001b[K    71% |███████████████████████         | 706kB 11.5MB/s eta 0:00:01\r\u001b[K    72% |███████████████████████▎        | 716kB 11.5MB/s eta 0:00:01\r\u001b[K    73% |███████████████████████▋        | 727kB 11.5MB/s eta 0:00:01\r\u001b[K    74% |████████████████████████        | 737kB 11.1MB/s eta 0:00:01\r\u001b[K    75% |████████████████████████▎       | 747kB 11.2MB/s eta 0:00:01\r\u001b[K    76% |████████████████████████▋       | 757kB 11.2MB/s eta 0:00:01\r\u001b[K    77% |████████████████████████▉       | 768kB 11.9MB/s eta 0:00:01\r\u001b[K    78% |█████████████████████████▏      | 778kB 11.9MB/s eta 0:00:01\r\u001b[K    79% |█████████████████████████▌      | 788kB 11.8MB/s eta 0:00:01\r\u001b[K    80% |█████████████████████████▉      | 798kB 48.3MB/s eta 0:00:01\r\u001b[K    81% |██████████████████████████▏     | 808kB 50.6MB/s eta 0:00:01\r\u001b[K    82% |██████████████████████████▌     | 819kB 50.3MB/s eta 0:00:01\r\u001b[K    83% |██████████████████████████▉     | 829kB 50.8MB/s eta 0:00:01\r\u001b[K    85% |███████████████████████████▏    | 839kB 59.5MB/s eta 0:00:01\r\u001b[K    86% |███████████████████████████▌    | 849kB 59.6MB/s eta 0:00:01\r\u001b[K    87% |███████████████████████████▉    | 860kB 50.2MB/s eta 0:00:01\r\u001b[K    88% |████████████████████████████▏   | 870kB 49.2MB/s eta 0:00:01\r\u001b[K    89% |████████████████████████████▌   | 880kB 50.1MB/s eta 0:00:01\r\u001b[K    90% |████████████████████████████▉   | 890kB 50.2MB/s eta 0:00:01\r\u001b[K    91% |█████████████████████████████▏  | 901kB 50.0MB/s eta 0:00:01\r\u001b[K    92% |█████████████████████████████▌  | 911kB 50.5MB/s eta 0:00:01\r\u001b[K    93% |█████████████████████████████▉  | 921kB 50.9MB/s eta 0:00:01\r\u001b[K    94% |██████████████████████████████▏ | 931kB 51.0MB/s eta 0:00:01\r\u001b[K    95% |██████████████████████████████▌ | 942kB 51.2MB/s eta 0:00:01\r\u001b[K    96% |██████████████████████████████▉ | 952kB 50.8MB/s eta 0:00:01\r\u001b[K    97% |███████████████████████████████▏| 962kB 60.9MB/s eta 0:00:01\r\u001b[K    98% |███████████████████████████████▌| 972kB 63.1MB/s eta 0:00:01\r\u001b[K    99% |███████████████████████████████▉| 983kB 62.0MB/s eta 0:00:01\r\u001b[K    100% |████████████████████████████████| 993kB 19.3MB/s \n",
            "\u001b[?25h  Building wheel for PyDrive (setup.py) ... \u001b[?25ldone\n",
            "\u001b[?25h"
          ],
          "name": "stdout"
        }
      ]
    },
    {
      "metadata": {
        "id": "1C4LyQBzmkDg",
        "colab_type": "code",
        "outputId": "894ced8e-7eea-4372-d756-1b8cc999c25f",
        "colab": {
          "base_uri": "https://localhost:8080/",
          "height": 34
        }
      },
      "cell_type": "code",
      "source": [
        "link = \"https://drive.google.com/open?id=1MP5Btx7fihtfxG0N8Rzq0UrYDW3yLauN\"\n",
        "fluff, id = link.split('=')\n",
        "print (id) # Verify that you have everything after '='\n",
        "downloaded = drive.CreateFile({'id':id}) \n",
        "downloaded.GetContentFile('final_merged.tsv')  \n",
        "final_data = pd.read_csv('final_merged.tsv' , sep = '\\t', header = 0)"
      ],
      "execution_count": 2,
      "outputs": [
        {
          "output_type": "stream",
          "text": [
            "1MP5Btx7fihtfxG0N8Rzq0UrYDW3yLauN\n"
          ],
          "name": "stdout"
        }
      ]
    },
    {
      "metadata": {
        "id": "o4bTzOqTm8j4",
        "colab_type": "code",
        "outputId": "d22f9132-bf66-4a54-aa68-67a1523658dc",
        "colab": {
          "base_uri": "https://localhost:8080/",
          "height": 736
        }
      },
      "cell_type": "code",
      "source": [
        "final_data.head()"
      ],
      "execution_count": 3,
      "outputs": [
        {
          "output_type": "execute_result",
          "data": {
            "text/html": [
              "<div>\n",
              "<style scoped>\n",
              "    .dataframe tbody tr th:only-of-type {\n",
              "        vertical-align: middle;\n",
              "    }\n",
              "\n",
              "    .dataframe tbody tr th {\n",
              "        vertical-align: top;\n",
              "    }\n",
              "\n",
              "    .dataframe thead th {\n",
              "        text-align: right;\n",
              "    }\n",
              "</style>\n",
              "<table border=\"1\" class=\"dataframe\">\n",
              "  <thead>\n",
              "    <tr style=\"text-align: right;\">\n",
              "      <th></th>\n",
              "      <th>User_Id</th>\n",
              "      <th>Prod_Id</th>\n",
              "      <th>Date_x</th>\n",
              "      <th>Review</th>\n",
              "      <th>Rating</th>\n",
              "      <th>Label</th>\n",
              "      <th>Product_Name</th>\n",
              "      <th>Avg_Prod_Rating</th>\n",
              "      <th>Avg_user_rating</th>\n",
              "      <th>Review_Len</th>\n",
              "      <th>user_total_reviews</th>\n",
              "      <th>corpus</th>\n",
              "      <th>compound</th>\n",
              "      <th>neg</th>\n",
              "      <th>neu</th>\n",
              "      <th>pos</th>\n",
              "      <th>number_Cap_Words</th>\n",
              "      <th>number_digit_Words</th>\n",
              "      <th>noun_count</th>\n",
              "    </tr>\n",
              "  </thead>\n",
              "  <tbody>\n",
              "    <tr>\n",
              "      <th>0</th>\n",
              "      <td>923</td>\n",
              "      <td>0</td>\n",
              "      <td>08-12-2014</td>\n",
              "      <td>The food at snack is a selection of popular Gr...</td>\n",
              "      <td>3</td>\n",
              "      <td>-1</td>\n",
              "      <td>Snack</td>\n",
              "      <td>4.009524</td>\n",
              "      <td>4.435897</td>\n",
              "      <td>215</td>\n",
              "      <td>39</td>\n",
              "      <td>food snack select popular greek dish appet tra...</td>\n",
              "      <td>0.6486</td>\n",
              "      <td>0.061</td>\n",
              "      <td>0.693</td>\n",
              "      <td>0.247</td>\n",
              "      <td>0</td>\n",
              "      <td>0</td>\n",
              "      <td>3</td>\n",
              "    </tr>\n",
              "    <tr>\n",
              "      <th>1</th>\n",
              "      <td>923</td>\n",
              "      <td>19</td>\n",
              "      <td>14-01-2014</td>\n",
              "      <td>The restaurant is on the ground floor of a typ...</td>\n",
              "      <td>5</td>\n",
              "      <td>-1</td>\n",
              "      <td>Palo Santo</td>\n",
              "      <td>4.037152</td>\n",
              "      <td>4.435897</td>\n",
              "      <td>513</td>\n",
              "      <td>39</td>\n",
              "      <td>littl place soho wonder lamb sandwich glass wi...</td>\n",
              "      <td>-0.1280</td>\n",
              "      <td>0.189</td>\n",
              "      <td>0.673</td>\n",
              "      <td>0.138</td>\n",
              "      <td>0</td>\n",
              "      <td>0</td>\n",
              "      <td>9</td>\n",
              "    </tr>\n",
              "    <tr>\n",
              "      <th>2</th>\n",
              "      <td>923</td>\n",
              "      <td>40</td>\n",
              "      <td>30-05-2014</td>\n",
              "      <td>Really nice mousaka and lovely décor inside. A...</td>\n",
              "      <td>4</td>\n",
              "      <td>-1</td>\n",
              "      <td>Pylos</td>\n",
              "      <td>4.312869</td>\n",
              "      <td>4.435897</td>\n",
              "      <td>231</td>\n",
              "      <td>39</td>\n",
              "      <td>order lunch snack last friday time noth miss f...</td>\n",
              "      <td>0.7717</td>\n",
              "      <td>0.067</td>\n",
              "      <td>0.628</td>\n",
              "      <td>0.305</td>\n",
              "      <td>0</td>\n",
              "      <td>1</td>\n",
              "      <td>4</td>\n",
              "    </tr>\n",
              "    <tr>\n",
              "      <th>3</th>\n",
              "      <td>923</td>\n",
              "      <td>63</td>\n",
              "      <td>13-11-2014</td>\n",
              "      <td>I really enjoyed brunch at Jane. The ambiance ...</td>\n",
              "      <td>4</td>\n",
              "      <td>-1</td>\n",
              "      <td>Jane</td>\n",
              "      <td>3.937181</td>\n",
              "      <td>4.435897</td>\n",
              "      <td>169</td>\n",
              "      <td>39</td>\n",
              "      <td>beauti quaint littl restaur pretti street stro...</td>\n",
              "      <td>0.8910</td>\n",
              "      <td>0.042</td>\n",
              "      <td>0.712</td>\n",
              "      <td>0.246</td>\n",
              "      <td>0</td>\n",
              "      <td>0</td>\n",
              "      <td>2</td>\n",
              "    </tr>\n",
              "    <tr>\n",
              "      <th>4</th>\n",
              "      <td>923</td>\n",
              "      <td>79</td>\n",
              "      <td>30-03-2014</td>\n",
              "      <td>We ate at the Blue Ribbon with colleagues. The...</td>\n",
              "      <td>3</td>\n",
              "      <td>-1</td>\n",
              "      <td>Blue Ribbon Brasserie</td>\n",
              "      <td>4.280000</td>\n",
              "      <td>4.435897</td>\n",
              "      <td>255</td>\n",
              "      <td>39</td>\n",
              "      <td>snack great place casual sit lunch especi cold...</td>\n",
              "      <td>0.9769</td>\n",
              "      <td>0.000</td>\n",
              "      <td>0.661</td>\n",
              "      <td>0.339</td>\n",
              "      <td>0</td>\n",
              "      <td>0</td>\n",
              "      <td>3</td>\n",
              "    </tr>\n",
              "  </tbody>\n",
              "</table>\n",
              "</div>"
            ],
            "text/plain": [
              "   User_Id  Prod_Id      Date_x  \\\n",
              "0      923        0  08-12-2014   \n",
              "1      923       19  14-01-2014   \n",
              "2      923       40  30-05-2014   \n",
              "3      923       63  13-11-2014   \n",
              "4      923       79  30-03-2014   \n",
              "\n",
              "                                             Review   Rating  Label  \\\n",
              "0  The food at snack is a selection of popular Gr...       3     -1   \n",
              "1  The restaurant is on the ground floor of a typ...       5     -1   \n",
              "2  Really nice mousaka and lovely décor inside. A...       4     -1   \n",
              "3  I really enjoyed brunch at Jane. The ambiance ...       4     -1   \n",
              "4  We ate at the Blue Ribbon with colleagues. The...       3     -1   \n",
              "\n",
              "            Product_Name  Avg_Prod_Rating  Avg_user_rating  Review_Len  \\\n",
              "0                  Snack         4.009524         4.435897         215   \n",
              "1             Palo Santo         4.037152         4.435897         513   \n",
              "2                  Pylos         4.312869         4.435897         231   \n",
              "3                   Jane         3.937181         4.435897         169   \n",
              "4  Blue Ribbon Brasserie         4.280000         4.435897         255   \n",
              "\n",
              "   user_total_reviews                                             corpus  \\\n",
              "0                  39  food snack select popular greek dish appet tra...   \n",
              "1                  39  littl place soho wonder lamb sandwich glass wi...   \n",
              "2                  39  order lunch snack last friday time noth miss f...   \n",
              "3                  39  beauti quaint littl restaur pretti street stro...   \n",
              "4                  39  snack great place casual sit lunch especi cold...   \n",
              "\n",
              "   compound    neg    neu    pos  number_Cap_Words  number_digit_Words  \\\n",
              "0    0.6486  0.061  0.693  0.247                 0                   0   \n",
              "1   -0.1280  0.189  0.673  0.138                 0                   0   \n",
              "2    0.7717  0.067  0.628  0.305                 0                   1   \n",
              "3    0.8910  0.042  0.712  0.246                 0                   0   \n",
              "4    0.9769  0.000  0.661  0.339                 0                   0   \n",
              "\n",
              "   noun_count  \n",
              "0           3  \n",
              "1           9  \n",
              "2           4  \n",
              "3           2  \n",
              "4           3  "
            ]
          },
          "metadata": {
            "tags": []
          },
          "execution_count": 3
        }
      ]
    },
    {
      "metadata": {
        "id": "2gF31pdfEn1z",
        "colab_type": "code",
        "outputId": "56d75d72-db21-4292-a25c-d18fc94eaeea",
        "colab": {
          "base_uri": "https://localhost:8080/",
          "height": 736
        }
      },
      "cell_type": "code",
      "source": [
        "scr_final_data=final_data.drop(['Date_x','Review ','neg','neu','pos'], axis=1)\n",
        "scr_final_data.head()"
      ],
      "execution_count": 4,
      "outputs": [
        {
          "output_type": "execute_result",
          "data": {
            "text/html": [
              "<div>\n",
              "<style scoped>\n",
              "    .dataframe tbody tr th:only-of-type {\n",
              "        vertical-align: middle;\n",
              "    }\n",
              "\n",
              "    .dataframe tbody tr th {\n",
              "        vertical-align: top;\n",
              "    }\n",
              "\n",
              "    .dataframe thead th {\n",
              "        text-align: right;\n",
              "    }\n",
              "</style>\n",
              "<table border=\"1\" class=\"dataframe\">\n",
              "  <thead>\n",
              "    <tr style=\"text-align: right;\">\n",
              "      <th></th>\n",
              "      <th>User_Id</th>\n",
              "      <th>Prod_Id</th>\n",
              "      <th>Rating</th>\n",
              "      <th>Label</th>\n",
              "      <th>Product_Name</th>\n",
              "      <th>Avg_Prod_Rating</th>\n",
              "      <th>Avg_user_rating</th>\n",
              "      <th>Review_Len</th>\n",
              "      <th>user_total_reviews</th>\n",
              "      <th>corpus</th>\n",
              "      <th>compound</th>\n",
              "      <th>number_Cap_Words</th>\n",
              "      <th>number_digit_Words</th>\n",
              "      <th>noun_count</th>\n",
              "    </tr>\n",
              "  </thead>\n",
              "  <tbody>\n",
              "    <tr>\n",
              "      <th>0</th>\n",
              "      <td>923</td>\n",
              "      <td>0</td>\n",
              "      <td>3</td>\n",
              "      <td>-1</td>\n",
              "      <td>Snack</td>\n",
              "      <td>4.009524</td>\n",
              "      <td>4.435897</td>\n",
              "      <td>215</td>\n",
              "      <td>39</td>\n",
              "      <td>food snack select popular greek dish appet tra...</td>\n",
              "      <td>0.6486</td>\n",
              "      <td>0</td>\n",
              "      <td>0</td>\n",
              "      <td>3</td>\n",
              "    </tr>\n",
              "    <tr>\n",
              "      <th>1</th>\n",
              "      <td>923</td>\n",
              "      <td>19</td>\n",
              "      <td>5</td>\n",
              "      <td>-1</td>\n",
              "      <td>Palo Santo</td>\n",
              "      <td>4.037152</td>\n",
              "      <td>4.435897</td>\n",
              "      <td>513</td>\n",
              "      <td>39</td>\n",
              "      <td>littl place soho wonder lamb sandwich glass wi...</td>\n",
              "      <td>-0.1280</td>\n",
              "      <td>0</td>\n",
              "      <td>0</td>\n",
              "      <td>9</td>\n",
              "    </tr>\n",
              "    <tr>\n",
              "      <th>2</th>\n",
              "      <td>923</td>\n",
              "      <td>40</td>\n",
              "      <td>4</td>\n",
              "      <td>-1</td>\n",
              "      <td>Pylos</td>\n",
              "      <td>4.312869</td>\n",
              "      <td>4.435897</td>\n",
              "      <td>231</td>\n",
              "      <td>39</td>\n",
              "      <td>order lunch snack last friday time noth miss f...</td>\n",
              "      <td>0.7717</td>\n",
              "      <td>0</td>\n",
              "      <td>1</td>\n",
              "      <td>4</td>\n",
              "    </tr>\n",
              "    <tr>\n",
              "      <th>3</th>\n",
              "      <td>923</td>\n",
              "      <td>63</td>\n",
              "      <td>4</td>\n",
              "      <td>-1</td>\n",
              "      <td>Jane</td>\n",
              "      <td>3.937181</td>\n",
              "      <td>4.435897</td>\n",
              "      <td>169</td>\n",
              "      <td>39</td>\n",
              "      <td>beauti quaint littl restaur pretti street stro...</td>\n",
              "      <td>0.8910</td>\n",
              "      <td>0</td>\n",
              "      <td>0</td>\n",
              "      <td>2</td>\n",
              "    </tr>\n",
              "    <tr>\n",
              "      <th>4</th>\n",
              "      <td>923</td>\n",
              "      <td>79</td>\n",
              "      <td>3</td>\n",
              "      <td>-1</td>\n",
              "      <td>Blue Ribbon Brasserie</td>\n",
              "      <td>4.280000</td>\n",
              "      <td>4.435897</td>\n",
              "      <td>255</td>\n",
              "      <td>39</td>\n",
              "      <td>snack great place casual sit lunch especi cold...</td>\n",
              "      <td>0.9769</td>\n",
              "      <td>0</td>\n",
              "      <td>0</td>\n",
              "      <td>3</td>\n",
              "    </tr>\n",
              "  </tbody>\n",
              "</table>\n",
              "</div>"
            ],
            "text/plain": [
              "   User_Id  Prod_Id  Rating  Label           Product_Name  Avg_Prod_Rating  \\\n",
              "0      923        0       3     -1                  Snack         4.009524   \n",
              "1      923       19       5     -1             Palo Santo         4.037152   \n",
              "2      923       40       4     -1                  Pylos         4.312869   \n",
              "3      923       63       4     -1                   Jane         3.937181   \n",
              "4      923       79       3     -1  Blue Ribbon Brasserie         4.280000   \n",
              "\n",
              "   Avg_user_rating  Review_Len  user_total_reviews  \\\n",
              "0         4.435897         215                  39   \n",
              "1         4.435897         513                  39   \n",
              "2         4.435897         231                  39   \n",
              "3         4.435897         169                  39   \n",
              "4         4.435897         255                  39   \n",
              "\n",
              "                                              corpus  compound  \\\n",
              "0  food snack select popular greek dish appet tra...    0.6486   \n",
              "1  littl place soho wonder lamb sandwich glass wi...   -0.1280   \n",
              "2  order lunch snack last friday time noth miss f...    0.7717   \n",
              "3  beauti quaint littl restaur pretti street stro...    0.8910   \n",
              "4  snack great place casual sit lunch especi cold...    0.9769   \n",
              "\n",
              "   number_Cap_Words  number_digit_Words  noun_count  \n",
              "0                 0                   0           3  \n",
              "1                 0                   0           9  \n",
              "2                 0                   1           4  \n",
              "3                 0                   0           2  \n",
              "4                 0                   0           3  "
            ]
          },
          "metadata": {
            "tags": []
          },
          "execution_count": 4
        }
      ]
    },
    {
      "metadata": {
        "id": "Wk7NV_16Eh66",
        "colab_type": "code",
        "outputId": "c747176f-dcef-4971-a437-a89116737a4b",
        "colab": {
          "base_uri": "https://localhost:8080/",
          "height": 420
        }
      },
      "cell_type": "code",
      "source": [
        "final_data.info()"
      ],
      "execution_count": 5,
      "outputs": [
        {
          "output_type": "stream",
          "text": [
            "<class 'pandas.core.frame.DataFrame'>\n",
            "RangeIndex: 395422 entries, 0 to 395421\n",
            "Data columns (total 19 columns):\n",
            "User_Id               395422 non-null int64\n",
            "Prod_Id               395422 non-null int64\n",
            "Date_x                395422 non-null object\n",
            "Review                395422 non-null object\n",
            "Rating                395422 non-null int64\n",
            "Label                 395422 non-null int64\n",
            "Product_Name          395422 non-null object\n",
            "Avg_Prod_Rating       395422 non-null float64\n",
            "Avg_user_rating       395422 non-null float64\n",
            "Review_Len            395422 non-null int64\n",
            "user_total_reviews    395422 non-null int64\n",
            "corpus                395422 non-null object\n",
            "compound              395365 non-null float64\n",
            "neg                   395365 non-null float64\n",
            "neu                   395365 non-null float64\n",
            "pos                   395365 non-null float64\n",
            "number_Cap_Words      395422 non-null int64\n",
            "number_digit_Words    395422 non-null int64\n",
            "noun_count            395422 non-null int64\n",
            "dtypes: float64(6), int64(9), object(4)\n",
            "memory usage: 57.3+ MB\n"
          ],
          "name": "stdout"
        }
      ]
    },
    {
      "metadata": {
        "id": "2tFAEKkQFCde",
        "colab_type": "code",
        "colab": {}
      },
      "cell_type": "code",
      "source": [
        "final_data=final_data.dropna()"
      ],
      "execution_count": 0,
      "outputs": []
    },
    {
      "metadata": {
        "id": "LcGSW4x0FORz",
        "colab_type": "code",
        "outputId": "6e852f90-d23b-4d36-f6c6-1126fde9cbda",
        "colab": {
          "base_uri": "https://localhost:8080/",
          "height": 420
        }
      },
      "cell_type": "code",
      "source": [
        "final_data.info()"
      ],
      "execution_count": 7,
      "outputs": [
        {
          "output_type": "stream",
          "text": [
            "<class 'pandas.core.frame.DataFrame'>\n",
            "Int64Index: 395365 entries, 0 to 395364\n",
            "Data columns (total 19 columns):\n",
            "User_Id               395365 non-null int64\n",
            "Prod_Id               395365 non-null int64\n",
            "Date_x                395365 non-null object\n",
            "Review                395365 non-null object\n",
            "Rating                395365 non-null int64\n",
            "Label                 395365 non-null int64\n",
            "Product_Name          395365 non-null object\n",
            "Avg_Prod_Rating       395365 non-null float64\n",
            "Avg_user_rating       395365 non-null float64\n",
            "Review_Len            395365 non-null int64\n",
            "user_total_reviews    395365 non-null int64\n",
            "corpus                395365 non-null object\n",
            "compound              395365 non-null float64\n",
            "neg                   395365 non-null float64\n",
            "neu                   395365 non-null float64\n",
            "pos                   395365 non-null float64\n",
            "number_Cap_Words      395365 non-null int64\n",
            "number_digit_Words    395365 non-null int64\n",
            "noun_count            395365 non-null int64\n",
            "dtypes: float64(6), int64(9), object(4)\n",
            "memory usage: 60.3+ MB\n"
          ],
          "name": "stdout"
        }
      ]
    },
    {
      "metadata": {
        "id": "DHEu9ABhoA5O",
        "colab_type": "code",
        "outputId": "be91ddd6-a4d4-499a-e683-b83255ad1a20",
        "colab": {
          "base_uri": "https://localhost:8080/",
          "height": 101
        }
      },
      "cell_type": "code",
      "source": [
        "final_data.columns"
      ],
      "execution_count": 8,
      "outputs": [
        {
          "output_type": "execute_result",
          "data": {
            "text/plain": [
              "Index(['User_Id', 'Prod_Id', 'Date_x', 'Review ', 'Rating', 'Label',\n",
              "       'Product_Name', 'Avg_Prod_Rating', 'Avg_user_rating', 'Review_Len',\n",
              "       'user_total_reviews', 'corpus', 'compound', 'neg', 'neu', 'pos',\n",
              "       'number_Cap_Words', 'number_digit_Words', 'noun_count'],\n",
              "      dtype='object')"
            ]
          },
          "metadata": {
            "tags": []
          },
          "execution_count": 8
        }
      ]
    },
    {
      "metadata": {
        "id": "RW8KnWxJc9X2",
        "colab_type": "text"
      },
      "cell_type": "markdown",
      "source": [
        "**Find common words in True and Fake reviews**"
      ]
    },
    {
      "metadata": {
        "id": "_I_LJwccnH8N",
        "colab_type": "code",
        "outputId": "cf0ddb80-4eee-4580-ba69-179ae48b00d4",
        "colab": {
          "base_uri": "https://localhost:8080/",
          "height": 386
        }
      },
      "cell_type": "code",
      "source": [
        "positive = final_data[final_data['Label']== 1]\n",
        "true_word_list = []\n",
        "for i in range(0,positive['corpus'].count()):\n",
        "   true_word_temp = positive['corpus'].iloc[i].split()\n",
        "   true_word_list.append(true_word_temp)\n",
        "from itertools import chain\n",
        "list1 = list(chain.from_iterable(true_word_list))\n",
        "from collections import Counter \n",
        "true_mc = Counter(list1).most_common()\n",
        " \n",
        " \n",
        "fake = final_data[final_data['Label'] == -1]\n",
        "fake_word_list= fake['corpus'].str.split(expand=True).stack()\n",
        "from collections import Counter \n",
        "fake_mc = Counter(fake_word_list).most_common() \n",
        "fake_mc\n",
        " \n",
        "df_true = pd.DataFrame(true_mc)\n",
        "df_false = pd.DataFrame(fake_mc)\n",
        "df_false1 = df_false[0:23]\n",
        "df_true1 = df_true[0:23]\n",
        "df_common = list(set(df_true1.iloc[:,0]) & set(df_false1.iloc[:,0]))\n",
        "df_common"
      ],
      "execution_count": 9,
      "outputs": [
        {
          "output_type": "execute_result",
          "data": {
            "text/plain": [
              "['restaur',\n",
              " 'order',\n",
              " 'come',\n",
              " 'go',\n",
              " 'love',\n",
              " 'tri',\n",
              " 'realli',\n",
              " 'great',\n",
              " 'would',\n",
              " 'good',\n",
              " 'best',\n",
              " 'one',\n",
              " 'also',\n",
              " 'servic',\n",
              " 'back',\n",
              " 'like',\n",
              " 'time',\n",
              " 'food',\n",
              " 'wait',\n",
              " 'place',\n",
              " 'get',\n",
              " 'delici']"
            ]
          },
          "metadata": {
            "tags": []
          },
          "execution_count": 9
        }
      ]
    },
    {
      "metadata": {
        "id": "1yMkjVjVpQOq",
        "colab_type": "code",
        "outputId": "7df7a522-d53e-4247-e575-a646aae1be58",
        "colab": {
          "base_uri": "https://localhost:8080/",
          "height": 34
        }
      },
      "cell_type": "code",
      "source": [
        "len(df_common)"
      ],
      "execution_count": 10,
      "outputs": [
        {
          "output_type": "execute_result",
          "data": {
            "text/plain": [
              "22"
            ]
          },
          "metadata": {
            "tags": []
          },
          "execution_count": 10
        }
      ]
    },
    {
      "metadata": {
        "id": "wlvhRhjp69BP",
        "colab_type": "code",
        "outputId": "33c83b4d-0d5f-4998-e585-a3586e8a6302",
        "colab": {
          "base_uri": "https://localhost:8080/",
          "height": 262
        }
      },
      "cell_type": "code",
      "source": [
        "corr_final_data=final_data.drop(['User_Id','Prod_Id','Date_x','Review ','Product_Name','neg','neu','pos'], axis=1)\n",
        "corr_final_data.head()"
      ],
      "execution_count": 11,
      "outputs": [
        {
          "output_type": "execute_result",
          "data": {
            "text/html": [
              "<div>\n",
              "<style scoped>\n",
              "    .dataframe tbody tr th:only-of-type {\n",
              "        vertical-align: middle;\n",
              "    }\n",
              "\n",
              "    .dataframe tbody tr th {\n",
              "        vertical-align: top;\n",
              "    }\n",
              "\n",
              "    .dataframe thead th {\n",
              "        text-align: right;\n",
              "    }\n",
              "</style>\n",
              "<table border=\"1\" class=\"dataframe\">\n",
              "  <thead>\n",
              "    <tr style=\"text-align: right;\">\n",
              "      <th></th>\n",
              "      <th>Rating</th>\n",
              "      <th>Label</th>\n",
              "      <th>Avg_Prod_Rating</th>\n",
              "      <th>Avg_user_rating</th>\n",
              "      <th>Review_Len</th>\n",
              "      <th>user_total_reviews</th>\n",
              "      <th>corpus</th>\n",
              "      <th>compound</th>\n",
              "      <th>number_Cap_Words</th>\n",
              "      <th>number_digit_Words</th>\n",
              "      <th>noun_count</th>\n",
              "    </tr>\n",
              "  </thead>\n",
              "  <tbody>\n",
              "    <tr>\n",
              "      <th>0</th>\n",
              "      <td>3</td>\n",
              "      <td>-1</td>\n",
              "      <td>4.009524</td>\n",
              "      <td>4.435897</td>\n",
              "      <td>215</td>\n",
              "      <td>39</td>\n",
              "      <td>food snack select popular greek dish appet tra...</td>\n",
              "      <td>0.6486</td>\n",
              "      <td>0</td>\n",
              "      <td>0</td>\n",
              "      <td>3</td>\n",
              "    </tr>\n",
              "    <tr>\n",
              "      <th>1</th>\n",
              "      <td>5</td>\n",
              "      <td>-1</td>\n",
              "      <td>4.037152</td>\n",
              "      <td>4.435897</td>\n",
              "      <td>513</td>\n",
              "      <td>39</td>\n",
              "      <td>littl place soho wonder lamb sandwich glass wi...</td>\n",
              "      <td>-0.1280</td>\n",
              "      <td>0</td>\n",
              "      <td>0</td>\n",
              "      <td>9</td>\n",
              "    </tr>\n",
              "    <tr>\n",
              "      <th>2</th>\n",
              "      <td>4</td>\n",
              "      <td>-1</td>\n",
              "      <td>4.312869</td>\n",
              "      <td>4.435897</td>\n",
              "      <td>231</td>\n",
              "      <td>39</td>\n",
              "      <td>order lunch snack last friday time noth miss f...</td>\n",
              "      <td>0.7717</td>\n",
              "      <td>0</td>\n",
              "      <td>1</td>\n",
              "      <td>4</td>\n",
              "    </tr>\n",
              "    <tr>\n",
              "      <th>3</th>\n",
              "      <td>4</td>\n",
              "      <td>-1</td>\n",
              "      <td>3.937181</td>\n",
              "      <td>4.435897</td>\n",
              "      <td>169</td>\n",
              "      <td>39</td>\n",
              "      <td>beauti quaint littl restaur pretti street stro...</td>\n",
              "      <td>0.8910</td>\n",
              "      <td>0</td>\n",
              "      <td>0</td>\n",
              "      <td>2</td>\n",
              "    </tr>\n",
              "    <tr>\n",
              "      <th>4</th>\n",
              "      <td>3</td>\n",
              "      <td>-1</td>\n",
              "      <td>4.280000</td>\n",
              "      <td>4.435897</td>\n",
              "      <td>255</td>\n",
              "      <td>39</td>\n",
              "      <td>snack great place casual sit lunch especi cold...</td>\n",
              "      <td>0.9769</td>\n",
              "      <td>0</td>\n",
              "      <td>0</td>\n",
              "      <td>3</td>\n",
              "    </tr>\n",
              "  </tbody>\n",
              "</table>\n",
              "</div>"
            ],
            "text/plain": [
              "   Rating  Label  Avg_Prod_Rating  Avg_user_rating  Review_Len  \\\n",
              "0       3     -1         4.009524         4.435897         215   \n",
              "1       5     -1         4.037152         4.435897         513   \n",
              "2       4     -1         4.312869         4.435897         231   \n",
              "3       4     -1         3.937181         4.435897         169   \n",
              "4       3     -1         4.280000         4.435897         255   \n",
              "\n",
              "   user_total_reviews                                             corpus  \\\n",
              "0                  39  food snack select popular greek dish appet tra...   \n",
              "1                  39  littl place soho wonder lamb sandwich glass wi...   \n",
              "2                  39  order lunch snack last friday time noth miss f...   \n",
              "3                  39  beauti quaint littl restaur pretti street stro...   \n",
              "4                  39  snack great place casual sit lunch especi cold...   \n",
              "\n",
              "   compound  number_Cap_Words  number_digit_Words  noun_count  \n",
              "0    0.6486                 0                   0           3  \n",
              "1   -0.1280                 0                   0           9  \n",
              "2    0.7717                 0                   1           4  \n",
              "3    0.8910                 0                   0           2  \n",
              "4    0.9769                 0                   0           3  "
            ]
          },
          "metadata": {
            "tags": []
          },
          "execution_count": 11
        }
      ]
    },
    {
      "metadata": {
        "id": "g_7xUE8f7EiA",
        "colab_type": "code",
        "outputId": "e4f68b6a-cfdf-40e0-fa59-5b944a95bfdc",
        "colab": {
          "base_uri": "https://localhost:8080/",
          "height": 238
        }
      },
      "cell_type": "code",
      "source": [
        "import pandas as pd\n",
        "import numpy as np\n",
        "\n",
        "rs = np.random.RandomState(0)\n",
        "corr = corr_final_data.corr()\n",
        "corr.style.background_gradient(cmap='coolwarm')\n",
        "# 'RdBu_r' & 'BrBG' are other good diverging colormaps"
      ],
      "execution_count": 12,
      "outputs": [
        {
          "output_type": "execute_result",
          "data": {
            "text/html": [
              "<style  type=\"text/css\" >\n",
              "    #T_39d6ca92_650b_11e9_867d_0242ac1c0002row0_col0 {\n",
              "            background-color:  #b40426;\n",
              "        }    #T_39d6ca92_650b_11e9_867d_0242ac1c0002row0_col1 {\n",
              "            background-color:  #4358cb;\n",
              "        }    #T_39d6ca92_650b_11e9_867d_0242ac1c0002row0_col2 {\n",
              "            background-color:  #86a9fc;\n",
              "        }    #T_39d6ca92_650b_11e9_867d_0242ac1c0002row0_col3 {\n",
              "            background-color:  #ef886b;\n",
              "        }    #T_39d6ca92_650b_11e9_867d_0242ac1c0002row0_col4 {\n",
              "            background-color:  #3b4cc0;\n",
              "        }    #T_39d6ca92_650b_11e9_867d_0242ac1c0002row0_col5 {\n",
              "            background-color:  #3d50c3;\n",
              "        }    #T_39d6ca92_650b_11e9_867d_0242ac1c0002row0_col6 {\n",
              "            background-color:  #3b4cc0;\n",
              "        }    #T_39d6ca92_650b_11e9_867d_0242ac1c0002row0_col7 {\n",
              "            background-color:  #3d50c3;\n",
              "        }    #T_39d6ca92_650b_11e9_867d_0242ac1c0002row0_col8 {\n",
              "            background-color:  #3b4cc0;\n",
              "        }    #T_39d6ca92_650b_11e9_867d_0242ac1c0002row0_col9 {\n",
              "            background-color:  #3e51c5;\n",
              "        }    #T_39d6ca92_650b_11e9_867d_0242ac1c0002row1_col0 {\n",
              "            background-color:  #5f7fe8;\n",
              "        }    #T_39d6ca92_650b_11e9_867d_0242ac1c0002row1_col1 {\n",
              "            background-color:  #b40426;\n",
              "        }    #T_39d6ca92_650b_11e9_867d_0242ac1c0002row1_col2 {\n",
              "            background-color:  #3e51c5;\n",
              "        }    #T_39d6ca92_650b_11e9_867d_0242ac1c0002row1_col3 {\n",
              "            background-color:  #6282ea;\n",
              "        }    #T_39d6ca92_650b_11e9_867d_0242ac1c0002row1_col4 {\n",
              "            background-color:  #7ea1fa;\n",
              "        }    #T_39d6ca92_650b_11e9_867d_0242ac1c0002row1_col5 {\n",
              "            background-color:  #7a9df8;\n",
              "        }    #T_39d6ca92_650b_11e9_867d_0242ac1c0002row1_col6 {\n",
              "            background-color:  #3c4ec2;\n",
              "        }    #T_39d6ca92_650b_11e9_867d_0242ac1c0002row1_col7 {\n",
              "            background-color:  #4c66d6;\n",
              "        }    #T_39d6ca92_650b_11e9_867d_0242ac1c0002row1_col8 {\n",
              "            background-color:  #6a8bef;\n",
              "        }    #T_39d6ca92_650b_11e9_867d_0242ac1c0002row1_col9 {\n",
              "            background-color:  #6b8df0;\n",
              "        }    #T_39d6ca92_650b_11e9_867d_0242ac1c0002row2_col0 {\n",
              "            background-color:  #9dbdff;\n",
              "        }    #T_39d6ca92_650b_11e9_867d_0242ac1c0002row2_col1 {\n",
              "            background-color:  #3b4cc0;\n",
              "        }    #T_39d6ca92_650b_11e9_867d_0242ac1c0002row2_col2 {\n",
              "            background-color:  #b40426;\n",
              "        }    #T_39d6ca92_650b_11e9_867d_0242ac1c0002row2_col3 {\n",
              "            background-color:  #88abfd;\n",
              "        }    #T_39d6ca92_650b_11e9_867d_0242ac1c0002row2_col4 {\n",
              "            background-color:  #5470de;\n",
              "        }    #T_39d6ca92_650b_11e9_867d_0242ac1c0002row2_col5 {\n",
              "            background-color:  #4961d2;\n",
              "        }    #T_39d6ca92_650b_11e9_867d_0242ac1c0002row2_col6 {\n",
              "            background-color:  #3b4cc0;\n",
              "        }    #T_39d6ca92_650b_11e9_867d_0242ac1c0002row2_col7 {\n",
              "            background-color:  #4358cb;\n",
              "        }    #T_39d6ca92_650b_11e9_867d_0242ac1c0002row2_col8 {\n",
              "            background-color:  #536edd;\n",
              "        }    #T_39d6ca92_650b_11e9_867d_0242ac1c0002row2_col9 {\n",
              "            background-color:  #445acc;\n",
              "        }    #T_39d6ca92_650b_11e9_867d_0242ac1c0002row3_col0 {\n",
              "            background-color:  #ee8669;\n",
              "        }    #T_39d6ca92_650b_11e9_867d_0242ac1c0002row3_col1 {\n",
              "            background-color:  #465ecf;\n",
              "        }    #T_39d6ca92_650b_11e9_867d_0242ac1c0002row3_col2 {\n",
              "            background-color:  #7093f3;\n",
              "        }    #T_39d6ca92_650b_11e9_867d_0242ac1c0002row3_col3 {\n",
              "            background-color:  #b40426;\n",
              "        }    #T_39d6ca92_650b_11e9_867d_0242ac1c0002row3_col4 {\n",
              "            background-color:  #3b4cc0;\n",
              "        }    #T_39d6ca92_650b_11e9_867d_0242ac1c0002row3_col5 {\n",
              "            background-color:  #3b4cc0;\n",
              "        }    #T_39d6ca92_650b_11e9_867d_0242ac1c0002row3_col6 {\n",
              "            background-color:  #3b4cc0;\n",
              "        }    #T_39d6ca92_650b_11e9_867d_0242ac1c0002row3_col7 {\n",
              "            background-color:  #3b4cc0;\n",
              "        }    #T_39d6ca92_650b_11e9_867d_0242ac1c0002row3_col8 {\n",
              "            background-color:  #3b4cc0;\n",
              "        }    #T_39d6ca92_650b_11e9_867d_0242ac1c0002row3_col9 {\n",
              "            background-color:  #3b4cc0;\n",
              "        }    #T_39d6ca92_650b_11e9_867d_0242ac1c0002row4_col0 {\n",
              "            background-color:  #3b4cc0;\n",
              "        }    #T_39d6ca92_650b_11e9_867d_0242ac1c0002row4_col1 {\n",
              "            background-color:  #6384eb;\n",
              "        }    #T_39d6ca92_650b_11e9_867d_0242ac1c0002row4_col2 {\n",
              "            background-color:  #3c4ec2;\n",
              "        }    #T_39d6ca92_650b_11e9_867d_0242ac1c0002row4_col3 {\n",
              "            background-color:  #3b4cc0;\n",
              "        }    #T_39d6ca92_650b_11e9_867d_0242ac1c0002row4_col4 {\n",
              "            background-color:  #b40426;\n",
              "        }    #T_39d6ca92_650b_11e9_867d_0242ac1c0002row4_col5 {\n",
              "            background-color:  #88abfd;\n",
              "        }    #T_39d6ca92_650b_11e9_867d_0242ac1c0002row4_col6 {\n",
              "            background-color:  #3e51c5;\n",
              "        }    #T_39d6ca92_650b_11e9_867d_0242ac1c0002row4_col7 {\n",
              "            background-color:  #aec9fc;\n",
              "        }    #T_39d6ca92_650b_11e9_867d_0242ac1c0002row4_col8 {\n",
              "            background-color:  #dadce0;\n",
              "        }    #T_39d6ca92_650b_11e9_867d_0242ac1c0002row4_col9 {\n",
              "            background-color:  #d65244;\n",
              "        }    #T_39d6ca92_650b_11e9_867d_0242ac1c0002row5_col0 {\n",
              "            background-color:  #4b64d5;\n",
              "        }    #T_39d6ca92_650b_11e9_867d_0242ac1c0002row5_col1 {\n",
              "            background-color:  #6b8df0;\n",
              "        }    #T_39d6ca92_650b_11e9_867d_0242ac1c0002row5_col2 {\n",
              "            background-color:  #3f53c6;\n",
              "        }    #T_39d6ca92_650b_11e9_867d_0242ac1c0002row5_col3 {\n",
              "            background-color:  #485fd1;\n",
              "        }    #T_39d6ca92_650b_11e9_867d_0242ac1c0002row5_col4 {\n",
              "            background-color:  #94b6ff;\n",
              "        }    #T_39d6ca92_650b_11e9_867d_0242ac1c0002row5_col5 {\n",
              "            background-color:  #b40426;\n",
              "        }    #T_39d6ca92_650b_11e9_867d_0242ac1c0002row5_col6 {\n",
              "            background-color:  #3f53c6;\n",
              "        }    #T_39d6ca92_650b_11e9_867d_0242ac1c0002row5_col7 {\n",
              "            background-color:  #516ddb;\n",
              "        }    #T_39d6ca92_650b_11e9_867d_0242ac1c0002row5_col8 {\n",
              "            background-color:  #7396f5;\n",
              "        }    #T_39d6ca92_650b_11e9_867d_0242ac1c0002row5_col9 {\n",
              "            background-color:  #85a8fc;\n",
              "        }    #T_39d6ca92_650b_11e9_867d_0242ac1c0002row6_col0 {\n",
              "            background-color:  #5a78e4;\n",
              "        }    #T_39d6ca92_650b_11e9_867d_0242ac1c0002row6_col1 {\n",
              "            background-color:  #3e51c5;\n",
              "        }    #T_39d6ca92_650b_11e9_867d_0242ac1c0002row6_col2 {\n",
              "            background-color:  #4257c9;\n",
              "        }    #T_39d6ca92_650b_11e9_867d_0242ac1c0002row6_col3 {\n",
              "            background-color:  #5977e3;\n",
              "        }    #T_39d6ca92_650b_11e9_867d_0242ac1c0002row6_col4 {\n",
              "            background-color:  #5b7ae5;\n",
              "        }    #T_39d6ca92_650b_11e9_867d_0242ac1c0002row6_col5 {\n",
              "            background-color:  #516ddb;\n",
              "        }    #T_39d6ca92_650b_11e9_867d_0242ac1c0002row6_col6 {\n",
              "            background-color:  #b40426;\n",
              "        }    #T_39d6ca92_650b_11e9_867d_0242ac1c0002row6_col7 {\n",
              "            background-color:  #445acc;\n",
              "        }    #T_39d6ca92_650b_11e9_867d_0242ac1c0002row6_col8 {\n",
              "            background-color:  #5b7ae5;\n",
              "        }    #T_39d6ca92_650b_11e9_867d_0242ac1c0002row6_col9 {\n",
              "            background-color:  #485fd1;\n",
              "        }    #T_39d6ca92_650b_11e9_867d_0242ac1c0002row7_col0 {\n",
              "            background-color:  #5470de;\n",
              "        }    #T_39d6ca92_650b_11e9_867d_0242ac1c0002row7_col1 {\n",
              "            background-color:  #465ecf;\n",
              "        }    #T_39d6ca92_650b_11e9_867d_0242ac1c0002row7_col2 {\n",
              "            background-color:  #4055c8;\n",
              "        }    #T_39d6ca92_650b_11e9_867d_0242ac1c0002row7_col3 {\n",
              "            background-color:  #506bda;\n",
              "        }    #T_39d6ca92_650b_11e9_867d_0242ac1c0002row7_col4 {\n",
              "            background-color:  #bed2f6;\n",
              "        }    #T_39d6ca92_650b_11e9_867d_0242ac1c0002row7_col5 {\n",
              "            background-color:  #5a78e4;\n",
              "        }    #T_39d6ca92_650b_11e9_867d_0242ac1c0002row7_col6 {\n",
              "            background-color:  #3c4ec2;\n",
              "        }    #T_39d6ca92_650b_11e9_867d_0242ac1c0002row7_col7 {\n",
              "            background-color:  #b40426;\n",
              "        }    #T_39d6ca92_650b_11e9_867d_0242ac1c0002row7_col8 {\n",
              "            background-color:  #93b5fe;\n",
              "        }    #T_39d6ca92_650b_11e9_867d_0242ac1c0002row7_col9 {\n",
              "            background-color:  #c1d4f4;\n",
              "        }    #T_39d6ca92_650b_11e9_867d_0242ac1c0002row8_col0 {\n",
              "            background-color:  #3b4cc0;\n",
              "        }    #T_39d6ca92_650b_11e9_867d_0242ac1c0002row8_col1 {\n",
              "            background-color:  #4e68d8;\n",
              "        }    #T_39d6ca92_650b_11e9_867d_0242ac1c0002row8_col2 {\n",
              "            background-color:  #3b4cc0;\n",
              "        }    #T_39d6ca92_650b_11e9_867d_0242ac1c0002row8_col3 {\n",
              "            background-color:  #3b4cc0;\n",
              "        }    #T_39d6ca92_650b_11e9_867d_0242ac1c0002row8_col4 {\n",
              "            background-color:  #d9dce1;\n",
              "        }    #T_39d6ca92_650b_11e9_867d_0242ac1c0002row8_col5 {\n",
              "            background-color:  #6687ed;\n",
              "        }    #T_39d6ca92_650b_11e9_867d_0242ac1c0002row8_col6 {\n",
              "            background-color:  #3d50c3;\n",
              "        }    #T_39d6ca92_650b_11e9_867d_0242ac1c0002row8_col7 {\n",
              "            background-color:  #7ea1fa;\n",
              "        }    #T_39d6ca92_650b_11e9_867d_0242ac1c0002row8_col8 {\n",
              "            background-color:  #b40426;\n",
              "        }    #T_39d6ca92_650b_11e9_867d_0242ac1c0002row8_col9 {\n",
              "            background-color:  #c3d5f4;\n",
              "        }    #T_39d6ca92_650b_11e9_867d_0242ac1c0002row9_col0 {\n",
              "            background-color:  #5470de;\n",
              "        }    #T_39d6ca92_650b_11e9_867d_0242ac1c0002row9_col1 {\n",
              "            background-color:  #6384eb;\n",
              "        }    #T_39d6ca92_650b_11e9_867d_0242ac1c0002row9_col2 {\n",
              "            background-color:  #4055c8;\n",
              "        }    #T_39d6ca92_650b_11e9_867d_0242ac1c0002row9_col3 {\n",
              "            background-color:  #4f69d9;\n",
              "        }    #T_39d6ca92_650b_11e9_867d_0242ac1c0002row9_col4 {\n",
              "            background-color:  #d44e41;\n",
              "        }    #T_39d6ca92_650b_11e9_867d_0242ac1c0002row9_col5 {\n",
              "            background-color:  #8caffe;\n",
              "        }    #T_39d6ca92_650b_11e9_867d_0242ac1c0002row9_col6 {\n",
              "            background-color:  #3d50c3;\n",
              "        }    #T_39d6ca92_650b_11e9_867d_0242ac1c0002row9_col7 {\n",
              "            background-color:  #c1d4f4;\n",
              "        }    #T_39d6ca92_650b_11e9_867d_0242ac1c0002row9_col8 {\n",
              "            background-color:  #cfdaea;\n",
              "        }    #T_39d6ca92_650b_11e9_867d_0242ac1c0002row9_col9 {\n",
              "            background-color:  #b40426;\n",
              "        }</style>  \n",
              "<table id=\"T_39d6ca92_650b_11e9_867d_0242ac1c0002\" > \n",
              "<thead>    <tr> \n",
              "        <th class=\"blank level0\" ></th> \n",
              "        <th class=\"col_heading level0 col0\" >Rating</th> \n",
              "        <th class=\"col_heading level0 col1\" >Label</th> \n",
              "        <th class=\"col_heading level0 col2\" >Avg_Prod_Rating</th> \n",
              "        <th class=\"col_heading level0 col3\" >Avg_user_rating</th> \n",
              "        <th class=\"col_heading level0 col4\" >Review_Len</th> \n",
              "        <th class=\"col_heading level0 col5\" >user_total_reviews</th> \n",
              "        <th class=\"col_heading level0 col6\" >compound</th> \n",
              "        <th class=\"col_heading level0 col7\" >number_Cap_Words</th> \n",
              "        <th class=\"col_heading level0 col8\" >number_digit_Words</th> \n",
              "        <th class=\"col_heading level0 col9\" >noun_count</th> \n",
              "    </tr></thead> \n",
              "<tbody>    <tr> \n",
              "        <th id=\"T_39d6ca92_650b_11e9_867d_0242ac1c0002level0_row0\" class=\"row_heading level0 row0\" >Rating</th> \n",
              "        <td id=\"T_39d6ca92_650b_11e9_867d_0242ac1c0002row0_col0\" class=\"data row0 col0\" >1</td> \n",
              "        <td id=\"T_39d6ca92_650b_11e9_867d_0242ac1c0002row0_col1\" class=\"data row0 col1\" >0.0157391</td> \n",
              "        <td id=\"T_39d6ca92_650b_11e9_867d_0242ac1c0002row0_col2\" class=\"data row0 col2\" >0.209491</td> \n",
              "        <td id=\"T_39d6ca92_650b_11e9_867d_0242ac1c0002row0_col3\" class=\"data row0 col3\" >0.768428</td> \n",
              "        <td id=\"T_39d6ca92_650b_11e9_867d_0242ac1c0002row0_col4\" class=\"data row0 col4\" >-0.116101</td> \n",
              "        <td id=\"T_39d6ca92_650b_11e9_867d_0242ac1c0002row0_col5\" class=\"data row0 col5\" >-0.0550489</td> \n",
              "        <td id=\"T_39d6ca92_650b_11e9_867d_0242ac1c0002row0_col6\" class=\"data row0 col6\" >-0.00489899</td> \n",
              "        <td id=\"T_39d6ca92_650b_11e9_867d_0242ac1c0002row0_col7\" class=\"data row0 col7\" >-0.0255559</td> \n",
              "        <td id=\"T_39d6ca92_650b_11e9_867d_0242ac1c0002row0_col8\" class=\"data row0 col8\" >-0.119337</td> \n",
              "        <td id=\"T_39d6ca92_650b_11e9_867d_0242ac1c0002row0_col9\" class=\"data row0 col9\" >-0.0247461</td> \n",
              "    </tr>    <tr> \n",
              "        <th id=\"T_39d6ca92_650b_11e9_867d_0242ac1c0002level0_row1\" class=\"row_heading level0 row1\" >Label</th> \n",
              "        <td id=\"T_39d6ca92_650b_11e9_867d_0242ac1c0002row1_col0\" class=\"data row1 col0\" >0.0157391</td> \n",
              "        <td id=\"T_39d6ca92_650b_11e9_867d_0242ac1c0002row1_col1\" class=\"data row1 col1\" >1</td> \n",
              "        <td id=\"T_39d6ca92_650b_11e9_867d_0242ac1c0002row1_col2\" class=\"data row1 col2\" >-0.0148146</td> \n",
              "        <td id=\"T_39d6ca92_650b_11e9_867d_0242ac1c0002row1_col3\" class=\"data row1 col3\" >0.0271157</td> \n",
              "        <td id=\"T_39d6ca92_650b_11e9_867d_0242ac1c0002row1_col4\" class=\"data row1 col4\" >0.116445</td> \n",
              "        <td id=\"T_39d6ca92_650b_11e9_867d_0242ac1c0002row1_col5\" class=\"data row1 col5\" >0.142345</td> \n",
              "        <td id=\"T_39d6ca92_650b_11e9_867d_0242ac1c0002row1_col6\" class=\"data row1 col6\" >-0.000908934</td> \n",
              "        <td id=\"T_39d6ca92_650b_11e9_867d_0242ac1c0002row1_col7\" class=\"data row1 col7\" >0.0249411</td> \n",
              "        <td id=\"T_39d6ca92_650b_11e9_867d_0242ac1c0002row1_col8\" class=\"data row1 col8\" >0.0489283</td> \n",
              "        <td id=\"T_39d6ca92_650b_11e9_867d_0242ac1c0002row1_col9\" class=\"data row1 col9\" >0.118481</td> \n",
              "    </tr>    <tr> \n",
              "        <th id=\"T_39d6ca92_650b_11e9_867d_0242ac1c0002level0_row2\" class=\"row_heading level0 row2\" >Avg_Prod_Rating</th> \n",
              "        <td id=\"T_39d6ca92_650b_11e9_867d_0242ac1c0002row2_col0\" class=\"data row2 col0\" >0.209491</td> \n",
              "        <td id=\"T_39d6ca92_650b_11e9_867d_0242ac1c0002row2_col1\" class=\"data row2 col1\" >-0.0148146</td> \n",
              "        <td id=\"T_39d6ca92_650b_11e9_867d_0242ac1c0002row2_col2\" class=\"data row2 col2\" >1</td> \n",
              "        <td id=\"T_39d6ca92_650b_11e9_867d_0242ac1c0002row2_col3\" class=\"data row2 col3\" >0.146065</td> \n",
              "        <td id=\"T_39d6ca92_650b_11e9_867d_0242ac1c0002row2_col4\" class=\"data row2 col4\" >-0.0222627</td> \n",
              "        <td id=\"T_39d6ca92_650b_11e9_867d_0242ac1c0002row2_col5\" class=\"data row2 col5\" >-0.0136901</td> \n",
              "        <td id=\"T_39d6ca92_650b_11e9_867d_0242ac1c0002row2_col6\" class=\"data row2 col6\" >-0.00261982</td> \n",
              "        <td id=\"T_39d6ca92_650b_11e9_867d_0242ac1c0002row2_col7\" class=\"data row2 col7\" >-0.00683503</td> \n",
              "        <td id=\"T_39d6ca92_650b_11e9_867d_0242ac1c0002row2_col8\" class=\"data row2 col8\" >-0.0298818</td> \n",
              "        <td id=\"T_39d6ca92_650b_11e9_867d_0242ac1c0002row2_col9\" class=\"data row2 col9\" >-0.00727138</td> \n",
              "    </tr>    <tr> \n",
              "        <th id=\"T_39d6ca92_650b_11e9_867d_0242ac1c0002level0_row3\" class=\"row_heading level0 row3\" >Avg_user_rating</th> \n",
              "        <td id=\"T_39d6ca92_650b_11e9_867d_0242ac1c0002row3_col0\" class=\"data row3 col0\" >0.768428</td> \n",
              "        <td id=\"T_39d6ca92_650b_11e9_867d_0242ac1c0002row3_col1\" class=\"data row3 col1\" >0.0271157</td> \n",
              "        <td id=\"T_39d6ca92_650b_11e9_867d_0242ac1c0002row3_col2\" class=\"data row3 col2\" >0.146065</td> \n",
              "        <td id=\"T_39d6ca92_650b_11e9_867d_0242ac1c0002row3_col3\" class=\"data row3 col3\" >1</td> \n",
              "        <td id=\"T_39d6ca92_650b_11e9_867d_0242ac1c0002row3_col4\" class=\"data row3 col4\" >-0.112679</td> \n",
              "        <td id=\"T_39d6ca92_650b_11e9_867d_0242ac1c0002row3_col5\" class=\"data row3 col5\" >-0.066869</td> \n",
              "        <td id=\"T_39d6ca92_650b_11e9_867d_0242ac1c0002row3_col6\" class=\"data row3 col6\" >-0.00608913</td> \n",
              "        <td id=\"T_39d6ca92_650b_11e9_867d_0242ac1c0002row3_col7\" class=\"data row3 col7\" >-0.0367776</td> \n",
              "        <td id=\"T_39d6ca92_650b_11e9_867d_0242ac1c0002row3_col8\" class=\"data row3 col8\" >-0.116402</td> \n",
              "        <td id=\"T_39d6ca92_650b_11e9_867d_0242ac1c0002row3_col9\" class=\"data row3 col9\" >-0.0406289</td> \n",
              "    </tr>    <tr> \n",
              "        <th id=\"T_39d6ca92_650b_11e9_867d_0242ac1c0002level0_row4\" class=\"row_heading level0 row4\" >Review_Len</th> \n",
              "        <td id=\"T_39d6ca92_650b_11e9_867d_0242ac1c0002row4_col0\" class=\"data row4 col0\" >-0.116101</td> \n",
              "        <td id=\"T_39d6ca92_650b_11e9_867d_0242ac1c0002row4_col1\" class=\"data row4 col1\" >0.116445</td> \n",
              "        <td id=\"T_39d6ca92_650b_11e9_867d_0242ac1c0002row4_col2\" class=\"data row4 col2\" >-0.0222627</td> \n",
              "        <td id=\"T_39d6ca92_650b_11e9_867d_0242ac1c0002row4_col3\" class=\"data row4 col3\" >-0.112679</td> \n",
              "        <td id=\"T_39d6ca92_650b_11e9_867d_0242ac1c0002row4_col4\" class=\"data row4 col4\" >1</td> \n",
              "        <td id=\"T_39d6ca92_650b_11e9_867d_0242ac1c0002row4_col5\" class=\"data row4 col5\" >0.184742</td> \n",
              "        <td id=\"T_39d6ca92_650b_11e9_867d_0242ac1c0002row4_col6\" class=\"data row4 col6\" >0.00571971</td> \n",
              "        <td id=\"T_39d6ca92_650b_11e9_867d_0242ac1c0002row4_col7\" class=\"data row4 col7\" >0.319973</td> \n",
              "        <td id=\"T_39d6ca92_650b_11e9_867d_0242ac1c0002row4_col8\" class=\"data row4 col8\" >0.42836</td> \n",
              "        <td id=\"T_39d6ca92_650b_11e9_867d_0242ac1c0002row4_col9\" class=\"data row4 col9\" >0.897774</td> \n",
              "    </tr>    <tr> \n",
              "        <th id=\"T_39d6ca92_650b_11e9_867d_0242ac1c0002level0_row5\" class=\"row_heading level0 row5\" >user_total_reviews</th> \n",
              "        <td id=\"T_39d6ca92_650b_11e9_867d_0242ac1c0002row5_col0\" class=\"data row5 col0\" >-0.0550489</td> \n",
              "        <td id=\"T_39d6ca92_650b_11e9_867d_0242ac1c0002row5_col1\" class=\"data row5 col1\" >0.142345</td> \n",
              "        <td id=\"T_39d6ca92_650b_11e9_867d_0242ac1c0002row5_col2\" class=\"data row5 col2\" >-0.0136901</td> \n",
              "        <td id=\"T_39d6ca92_650b_11e9_867d_0242ac1c0002row5_col3\" class=\"data row5 col3\" >-0.066869</td> \n",
              "        <td id=\"T_39d6ca92_650b_11e9_867d_0242ac1c0002row5_col4\" class=\"data row5 col4\" >0.184742</td> \n",
              "        <td id=\"T_39d6ca92_650b_11e9_867d_0242ac1c0002row5_col5\" class=\"data row5 col5\" >1</td> \n",
              "        <td id=\"T_39d6ca92_650b_11e9_867d_0242ac1c0002row5_col6\" class=\"data row5 col6\" >0.0129324</td> \n",
              "        <td id=\"T_39d6ca92_650b_11e9_867d_0242ac1c0002row5_col7\" class=\"data row5 col7\" >0.0415358</td> \n",
              "        <td id=\"T_39d6ca92_650b_11e9_867d_0242ac1c0002row5_col8\" class=\"data row5 col8\" >0.0793073</td> \n",
              "        <td id=\"T_39d6ca92_650b_11e9_867d_0242ac1c0002row5_col9\" class=\"data row5 col9\" >0.198087</td> \n",
              "    </tr>    <tr> \n",
              "        <th id=\"T_39d6ca92_650b_11e9_867d_0242ac1c0002level0_row6\" class=\"row_heading level0 row6\" >compound</th> \n",
              "        <td id=\"T_39d6ca92_650b_11e9_867d_0242ac1c0002row6_col0\" class=\"data row6 col0\" >-0.00489899</td> \n",
              "        <td id=\"T_39d6ca92_650b_11e9_867d_0242ac1c0002row6_col1\" class=\"data row6 col1\" >-0.000908934</td> \n",
              "        <td id=\"T_39d6ca92_650b_11e9_867d_0242ac1c0002row6_col2\" class=\"data row6 col2\" >-0.00261982</td> \n",
              "        <td id=\"T_39d6ca92_650b_11e9_867d_0242ac1c0002row6_col3\" class=\"data row6 col3\" >-0.00608913</td> \n",
              "        <td id=\"T_39d6ca92_650b_11e9_867d_0242ac1c0002row6_col4\" class=\"data row6 col4\" >0.00571971</td> \n",
              "        <td id=\"T_39d6ca92_650b_11e9_867d_0242ac1c0002row6_col5\" class=\"data row6 col5\" >0.0129324</td> \n",
              "        <td id=\"T_39d6ca92_650b_11e9_867d_0242ac1c0002row6_col6\" class=\"data row6 col6\" >1</td> \n",
              "        <td id=\"T_39d6ca92_650b_11e9_867d_0242ac1c0002row6_col7\" class=\"data row6 col7\" >-0.000990036</td> \n",
              "        <td id=\"T_39d6ca92_650b_11e9_867d_0242ac1c0002row6_col8\" class=\"data row6 col8\" >0.00214676</td> \n",
              "        <td id=\"T_39d6ca92_650b_11e9_867d_0242ac1c0002row6_col9\" class=\"data row6 col9\" >0.00543442</td> \n",
              "    </tr>    <tr> \n",
              "        <th id=\"T_39d6ca92_650b_11e9_867d_0242ac1c0002level0_row7\" class=\"row_heading level0 row7\" >number_Cap_Words</th> \n",
              "        <td id=\"T_39d6ca92_650b_11e9_867d_0242ac1c0002row7_col0\" class=\"data row7 col0\" >-0.0255559</td> \n",
              "        <td id=\"T_39d6ca92_650b_11e9_867d_0242ac1c0002row7_col1\" class=\"data row7 col1\" >0.0249411</td> \n",
              "        <td id=\"T_39d6ca92_650b_11e9_867d_0242ac1c0002row7_col2\" class=\"data row7 col2\" >-0.00683503</td> \n",
              "        <td id=\"T_39d6ca92_650b_11e9_867d_0242ac1c0002row7_col3\" class=\"data row7 col3\" >-0.0367776</td> \n",
              "        <td id=\"T_39d6ca92_650b_11e9_867d_0242ac1c0002row7_col4\" class=\"data row7 col4\" >0.319973</td> \n",
              "        <td id=\"T_39d6ca92_650b_11e9_867d_0242ac1c0002row7_col5\" class=\"data row7 col5\" >0.0415358</td> \n",
              "        <td id=\"T_39d6ca92_650b_11e9_867d_0242ac1c0002row7_col6\" class=\"data row7 col6\" >-0.000990036</td> \n",
              "        <td id=\"T_39d6ca92_650b_11e9_867d_0242ac1c0002row7_col7\" class=\"data row7 col7\" >1</td> \n",
              "        <td id=\"T_39d6ca92_650b_11e9_867d_0242ac1c0002row7_col8\" class=\"data row7 col8\" >0.179104</td> \n",
              "        <td id=\"T_39d6ca92_650b_11e9_867d_0242ac1c0002row7_col9\" class=\"data row7 col9\" >0.382036</td> \n",
              "    </tr>    <tr> \n",
              "        <th id=\"T_39d6ca92_650b_11e9_867d_0242ac1c0002level0_row8\" class=\"row_heading level0 row8\" >number_digit_Words</th> \n",
              "        <td id=\"T_39d6ca92_650b_11e9_867d_0242ac1c0002row8_col0\" class=\"data row8 col0\" >-0.119337</td> \n",
              "        <td id=\"T_39d6ca92_650b_11e9_867d_0242ac1c0002row8_col1\" class=\"data row8 col1\" >0.0489283</td> \n",
              "        <td id=\"T_39d6ca92_650b_11e9_867d_0242ac1c0002row8_col2\" class=\"data row8 col2\" >-0.0298818</td> \n",
              "        <td id=\"T_39d6ca92_650b_11e9_867d_0242ac1c0002row8_col3\" class=\"data row8 col3\" >-0.116402</td> \n",
              "        <td id=\"T_39d6ca92_650b_11e9_867d_0242ac1c0002row8_col4\" class=\"data row8 col4\" >0.42836</td> \n",
              "        <td id=\"T_39d6ca92_650b_11e9_867d_0242ac1c0002row8_col5\" class=\"data row8 col5\" >0.0793073</td> \n",
              "        <td id=\"T_39d6ca92_650b_11e9_867d_0242ac1c0002row8_col6\" class=\"data row8 col6\" >0.00214676</td> \n",
              "        <td id=\"T_39d6ca92_650b_11e9_867d_0242ac1c0002row8_col7\" class=\"data row8 col7\" >0.179104</td> \n",
              "        <td id=\"T_39d6ca92_650b_11e9_867d_0242ac1c0002row8_col8\" class=\"data row8 col8\" >1</td> \n",
              "        <td id=\"T_39d6ca92_650b_11e9_867d_0242ac1c0002row8_col9\" class=\"data row8 col9\" >0.384896</td> \n",
              "    </tr>    <tr> \n",
              "        <th id=\"T_39d6ca92_650b_11e9_867d_0242ac1c0002level0_row9\" class=\"row_heading level0 row9\" >noun_count</th> \n",
              "        <td id=\"T_39d6ca92_650b_11e9_867d_0242ac1c0002row9_col0\" class=\"data row9 col0\" >-0.0247461</td> \n",
              "        <td id=\"T_39d6ca92_650b_11e9_867d_0242ac1c0002row9_col1\" class=\"data row9 col1\" >0.118481</td> \n",
              "        <td id=\"T_39d6ca92_650b_11e9_867d_0242ac1c0002row9_col2\" class=\"data row9 col2\" >-0.00727138</td> \n",
              "        <td id=\"T_39d6ca92_650b_11e9_867d_0242ac1c0002row9_col3\" class=\"data row9 col3\" >-0.0406289</td> \n",
              "        <td id=\"T_39d6ca92_650b_11e9_867d_0242ac1c0002row9_col4\" class=\"data row9 col4\" >0.897774</td> \n",
              "        <td id=\"T_39d6ca92_650b_11e9_867d_0242ac1c0002row9_col5\" class=\"data row9 col5\" >0.198087</td> \n",
              "        <td id=\"T_39d6ca92_650b_11e9_867d_0242ac1c0002row9_col6\" class=\"data row9 col6\" >0.00543442</td> \n",
              "        <td id=\"T_39d6ca92_650b_11e9_867d_0242ac1c0002row9_col7\" class=\"data row9 col7\" >0.382036</td> \n",
              "        <td id=\"T_39d6ca92_650b_11e9_867d_0242ac1c0002row9_col8\" class=\"data row9 col8\" >0.384896</td> \n",
              "        <td id=\"T_39d6ca92_650b_11e9_867d_0242ac1c0002row9_col9\" class=\"data row9 col9\" >1</td> \n",
              "    </tr></tbody> \n",
              "</table> "
            ],
            "text/plain": [
              "<pandas.io.formats.style.Styler at 0x7f1c63d10d30>"
            ]
          },
          "metadata": {
            "tags": []
          },
          "execution_count": 12
        }
      ]
    },
    {
      "metadata": {
        "id": "NizB30b32MNI",
        "colab_type": "code",
        "outputId": "73efa121-3bb9-417e-e029-e0f845db29e5",
        "colab": {
          "base_uri": "https://localhost:8080/",
          "height": 195
        }
      },
      "cell_type": "code",
      "source": [
        "X_final_data=final_data.drop(['User_Id','Prod_Id','Date_x','Review ','Label','Product_Name','neg','neu','pos'], axis=1)\n",
        "X_final_data.head()"
      ],
      "execution_count": 13,
      "outputs": [
        {
          "output_type": "execute_result",
          "data": {
            "text/html": [
              "<div>\n",
              "<style scoped>\n",
              "    .dataframe tbody tr th:only-of-type {\n",
              "        vertical-align: middle;\n",
              "    }\n",
              "\n",
              "    .dataframe tbody tr th {\n",
              "        vertical-align: top;\n",
              "    }\n",
              "\n",
              "    .dataframe thead th {\n",
              "        text-align: right;\n",
              "    }\n",
              "</style>\n",
              "<table border=\"1\" class=\"dataframe\">\n",
              "  <thead>\n",
              "    <tr style=\"text-align: right;\">\n",
              "      <th></th>\n",
              "      <th>Rating</th>\n",
              "      <th>Avg_Prod_Rating</th>\n",
              "      <th>Avg_user_rating</th>\n",
              "      <th>Review_Len</th>\n",
              "      <th>user_total_reviews</th>\n",
              "      <th>corpus</th>\n",
              "      <th>compound</th>\n",
              "      <th>number_Cap_Words</th>\n",
              "      <th>number_digit_Words</th>\n",
              "      <th>noun_count</th>\n",
              "    </tr>\n",
              "  </thead>\n",
              "  <tbody>\n",
              "    <tr>\n",
              "      <th>0</th>\n",
              "      <td>3</td>\n",
              "      <td>4.009524</td>\n",
              "      <td>4.435897</td>\n",
              "      <td>215</td>\n",
              "      <td>39</td>\n",
              "      <td>food snack select popular greek dish appet tra...</td>\n",
              "      <td>0.6486</td>\n",
              "      <td>0</td>\n",
              "      <td>0</td>\n",
              "      <td>3</td>\n",
              "    </tr>\n",
              "    <tr>\n",
              "      <th>1</th>\n",
              "      <td>5</td>\n",
              "      <td>4.037152</td>\n",
              "      <td>4.435897</td>\n",
              "      <td>513</td>\n",
              "      <td>39</td>\n",
              "      <td>littl place soho wonder lamb sandwich glass wi...</td>\n",
              "      <td>-0.1280</td>\n",
              "      <td>0</td>\n",
              "      <td>0</td>\n",
              "      <td>9</td>\n",
              "    </tr>\n",
              "    <tr>\n",
              "      <th>2</th>\n",
              "      <td>4</td>\n",
              "      <td>4.312869</td>\n",
              "      <td>4.435897</td>\n",
              "      <td>231</td>\n",
              "      <td>39</td>\n",
              "      <td>order lunch snack last friday time noth miss f...</td>\n",
              "      <td>0.7717</td>\n",
              "      <td>0</td>\n",
              "      <td>1</td>\n",
              "      <td>4</td>\n",
              "    </tr>\n",
              "    <tr>\n",
              "      <th>3</th>\n",
              "      <td>4</td>\n",
              "      <td>3.937181</td>\n",
              "      <td>4.435897</td>\n",
              "      <td>169</td>\n",
              "      <td>39</td>\n",
              "      <td>beauti quaint littl restaur pretti street stro...</td>\n",
              "      <td>0.8910</td>\n",
              "      <td>0</td>\n",
              "      <td>0</td>\n",
              "      <td>2</td>\n",
              "    </tr>\n",
              "    <tr>\n",
              "      <th>4</th>\n",
              "      <td>3</td>\n",
              "      <td>4.280000</td>\n",
              "      <td>4.435897</td>\n",
              "      <td>255</td>\n",
              "      <td>39</td>\n",
              "      <td>snack great place casual sit lunch especi cold...</td>\n",
              "      <td>0.9769</td>\n",
              "      <td>0</td>\n",
              "      <td>0</td>\n",
              "      <td>3</td>\n",
              "    </tr>\n",
              "  </tbody>\n",
              "</table>\n",
              "</div>"
            ],
            "text/plain": [
              "   Rating  Avg_Prod_Rating  Avg_user_rating  Review_Len  user_total_reviews  \\\n",
              "0       3         4.009524         4.435897         215                  39   \n",
              "1       5         4.037152         4.435897         513                  39   \n",
              "2       4         4.312869         4.435897         231                  39   \n",
              "3       4         3.937181         4.435897         169                  39   \n",
              "4       3         4.280000         4.435897         255                  39   \n",
              "\n",
              "                                              corpus  compound  \\\n",
              "0  food snack select popular greek dish appet tra...    0.6486   \n",
              "1  littl place soho wonder lamb sandwich glass wi...   -0.1280   \n",
              "2  order lunch snack last friday time noth miss f...    0.7717   \n",
              "3  beauti quaint littl restaur pretti street stro...    0.8910   \n",
              "4  snack great place casual sit lunch especi cold...    0.9769   \n",
              "\n",
              "   number_Cap_Words  number_digit_Words  noun_count  \n",
              "0                 0                   0           3  \n",
              "1                 0                   0           9  \n",
              "2                 0                   1           4  \n",
              "3                 0                   0           2  \n",
              "4                 0                   0           3  "
            ]
          },
          "metadata": {
            "tags": []
          },
          "execution_count": 13
        }
      ]
    },
    {
      "metadata": {
        "id": "B59S7mUo6jl9",
        "colab_type": "code",
        "outputId": "a005e36c-858e-4797-e747-71dc38127fad",
        "colab": {
          "base_uri": "https://localhost:8080/",
          "height": 218
        }
      },
      "cell_type": "code",
      "source": [
        "import pandas as pd\n",
        "import numpy as np\n",
        "\n",
        "rs = np.random.RandomState(0)\n",
        "corr = X_final_data.corr()\n",
        "corr.style.background_gradient(cmap='coolwarm')\n",
        "# 'RdBu_r' & 'BrBG' are other good diverging colormaps"
      ],
      "execution_count": 14,
      "outputs": [
        {
          "output_type": "execute_result",
          "data": {
            "text/html": [
              "<style  type=\"text/css\" >\n",
              "    #T_4a1d77d4_650b_11e9_867d_0242ac1c0002row0_col0 {\n",
              "            background-color:  #b40426;\n",
              "        }    #T_4a1d77d4_650b_11e9_867d_0242ac1c0002row0_col1 {\n",
              "            background-color:  #86a9fc;\n",
              "        }    #T_4a1d77d4_650b_11e9_867d_0242ac1c0002row0_col2 {\n",
              "            background-color:  #ef886b;\n",
              "        }    #T_4a1d77d4_650b_11e9_867d_0242ac1c0002row0_col3 {\n",
              "            background-color:  #3b4cc0;\n",
              "        }    #T_4a1d77d4_650b_11e9_867d_0242ac1c0002row0_col4 {\n",
              "            background-color:  #3d50c3;\n",
              "        }    #T_4a1d77d4_650b_11e9_867d_0242ac1c0002row0_col5 {\n",
              "            background-color:  #3b4cc0;\n",
              "        }    #T_4a1d77d4_650b_11e9_867d_0242ac1c0002row0_col6 {\n",
              "            background-color:  #3d50c3;\n",
              "        }    #T_4a1d77d4_650b_11e9_867d_0242ac1c0002row0_col7 {\n",
              "            background-color:  #3b4cc0;\n",
              "        }    #T_4a1d77d4_650b_11e9_867d_0242ac1c0002row0_col8 {\n",
              "            background-color:  #3e51c5;\n",
              "        }    #T_4a1d77d4_650b_11e9_867d_0242ac1c0002row1_col0 {\n",
              "            background-color:  #9dbdff;\n",
              "        }    #T_4a1d77d4_650b_11e9_867d_0242ac1c0002row1_col1 {\n",
              "            background-color:  #b40426;\n",
              "        }    #T_4a1d77d4_650b_11e9_867d_0242ac1c0002row1_col2 {\n",
              "            background-color:  #88abfd;\n",
              "        }    #T_4a1d77d4_650b_11e9_867d_0242ac1c0002row1_col3 {\n",
              "            background-color:  #5470de;\n",
              "        }    #T_4a1d77d4_650b_11e9_867d_0242ac1c0002row1_col4 {\n",
              "            background-color:  #4961d2;\n",
              "        }    #T_4a1d77d4_650b_11e9_867d_0242ac1c0002row1_col5 {\n",
              "            background-color:  #3b4cc0;\n",
              "        }    #T_4a1d77d4_650b_11e9_867d_0242ac1c0002row1_col6 {\n",
              "            background-color:  #4358cb;\n",
              "        }    #T_4a1d77d4_650b_11e9_867d_0242ac1c0002row1_col7 {\n",
              "            background-color:  #536edd;\n",
              "        }    #T_4a1d77d4_650b_11e9_867d_0242ac1c0002row1_col8 {\n",
              "            background-color:  #445acc;\n",
              "        }    #T_4a1d77d4_650b_11e9_867d_0242ac1c0002row2_col0 {\n",
              "            background-color:  #ee8669;\n",
              "        }    #T_4a1d77d4_650b_11e9_867d_0242ac1c0002row2_col1 {\n",
              "            background-color:  #7093f3;\n",
              "        }    #T_4a1d77d4_650b_11e9_867d_0242ac1c0002row2_col2 {\n",
              "            background-color:  #b40426;\n",
              "        }    #T_4a1d77d4_650b_11e9_867d_0242ac1c0002row2_col3 {\n",
              "            background-color:  #3b4cc0;\n",
              "        }    #T_4a1d77d4_650b_11e9_867d_0242ac1c0002row2_col4 {\n",
              "            background-color:  #3b4cc0;\n",
              "        }    #T_4a1d77d4_650b_11e9_867d_0242ac1c0002row2_col5 {\n",
              "            background-color:  #3b4cc0;\n",
              "        }    #T_4a1d77d4_650b_11e9_867d_0242ac1c0002row2_col6 {\n",
              "            background-color:  #3b4cc0;\n",
              "        }    #T_4a1d77d4_650b_11e9_867d_0242ac1c0002row2_col7 {\n",
              "            background-color:  #3b4cc0;\n",
              "        }    #T_4a1d77d4_650b_11e9_867d_0242ac1c0002row2_col8 {\n",
              "            background-color:  #3b4cc0;\n",
              "        }    #T_4a1d77d4_650b_11e9_867d_0242ac1c0002row3_col0 {\n",
              "            background-color:  #3b4cc0;\n",
              "        }    #T_4a1d77d4_650b_11e9_867d_0242ac1c0002row3_col1 {\n",
              "            background-color:  #3c4ec2;\n",
              "        }    #T_4a1d77d4_650b_11e9_867d_0242ac1c0002row3_col2 {\n",
              "            background-color:  #3b4cc0;\n",
              "        }    #T_4a1d77d4_650b_11e9_867d_0242ac1c0002row3_col3 {\n",
              "            background-color:  #b40426;\n",
              "        }    #T_4a1d77d4_650b_11e9_867d_0242ac1c0002row3_col4 {\n",
              "            background-color:  #88abfd;\n",
              "        }    #T_4a1d77d4_650b_11e9_867d_0242ac1c0002row3_col5 {\n",
              "            background-color:  #3e51c5;\n",
              "        }    #T_4a1d77d4_650b_11e9_867d_0242ac1c0002row3_col6 {\n",
              "            background-color:  #aec9fc;\n",
              "        }    #T_4a1d77d4_650b_11e9_867d_0242ac1c0002row3_col7 {\n",
              "            background-color:  #dadce0;\n",
              "        }    #T_4a1d77d4_650b_11e9_867d_0242ac1c0002row3_col8 {\n",
              "            background-color:  #d65244;\n",
              "        }    #T_4a1d77d4_650b_11e9_867d_0242ac1c0002row4_col0 {\n",
              "            background-color:  #4b64d5;\n",
              "        }    #T_4a1d77d4_650b_11e9_867d_0242ac1c0002row4_col1 {\n",
              "            background-color:  #3f53c6;\n",
              "        }    #T_4a1d77d4_650b_11e9_867d_0242ac1c0002row4_col2 {\n",
              "            background-color:  #485fd1;\n",
              "        }    #T_4a1d77d4_650b_11e9_867d_0242ac1c0002row4_col3 {\n",
              "            background-color:  #94b6ff;\n",
              "        }    #T_4a1d77d4_650b_11e9_867d_0242ac1c0002row4_col4 {\n",
              "            background-color:  #b40426;\n",
              "        }    #T_4a1d77d4_650b_11e9_867d_0242ac1c0002row4_col5 {\n",
              "            background-color:  #3f53c6;\n",
              "        }    #T_4a1d77d4_650b_11e9_867d_0242ac1c0002row4_col6 {\n",
              "            background-color:  #516ddb;\n",
              "        }    #T_4a1d77d4_650b_11e9_867d_0242ac1c0002row4_col7 {\n",
              "            background-color:  #7396f5;\n",
              "        }    #T_4a1d77d4_650b_11e9_867d_0242ac1c0002row4_col8 {\n",
              "            background-color:  #85a8fc;\n",
              "        }    #T_4a1d77d4_650b_11e9_867d_0242ac1c0002row5_col0 {\n",
              "            background-color:  #5a78e4;\n",
              "        }    #T_4a1d77d4_650b_11e9_867d_0242ac1c0002row5_col1 {\n",
              "            background-color:  #4257c9;\n",
              "        }    #T_4a1d77d4_650b_11e9_867d_0242ac1c0002row5_col2 {\n",
              "            background-color:  #5977e3;\n",
              "        }    #T_4a1d77d4_650b_11e9_867d_0242ac1c0002row5_col3 {\n",
              "            background-color:  #5b7ae5;\n",
              "        }    #T_4a1d77d4_650b_11e9_867d_0242ac1c0002row5_col4 {\n",
              "            background-color:  #516ddb;\n",
              "        }    #T_4a1d77d4_650b_11e9_867d_0242ac1c0002row5_col5 {\n",
              "            background-color:  #b40426;\n",
              "        }    #T_4a1d77d4_650b_11e9_867d_0242ac1c0002row5_col6 {\n",
              "            background-color:  #445acc;\n",
              "        }    #T_4a1d77d4_650b_11e9_867d_0242ac1c0002row5_col7 {\n",
              "            background-color:  #5b7ae5;\n",
              "        }    #T_4a1d77d4_650b_11e9_867d_0242ac1c0002row5_col8 {\n",
              "            background-color:  #485fd1;\n",
              "        }    #T_4a1d77d4_650b_11e9_867d_0242ac1c0002row6_col0 {\n",
              "            background-color:  #5470de;\n",
              "        }    #T_4a1d77d4_650b_11e9_867d_0242ac1c0002row6_col1 {\n",
              "            background-color:  #4055c8;\n",
              "        }    #T_4a1d77d4_650b_11e9_867d_0242ac1c0002row6_col2 {\n",
              "            background-color:  #506bda;\n",
              "        }    #T_4a1d77d4_650b_11e9_867d_0242ac1c0002row6_col3 {\n",
              "            background-color:  #bed2f6;\n",
              "        }    #T_4a1d77d4_650b_11e9_867d_0242ac1c0002row6_col4 {\n",
              "            background-color:  #5a78e4;\n",
              "        }    #T_4a1d77d4_650b_11e9_867d_0242ac1c0002row6_col5 {\n",
              "            background-color:  #3c4ec2;\n",
              "        }    #T_4a1d77d4_650b_11e9_867d_0242ac1c0002row6_col6 {\n",
              "            background-color:  #b40426;\n",
              "        }    #T_4a1d77d4_650b_11e9_867d_0242ac1c0002row6_col7 {\n",
              "            background-color:  #93b5fe;\n",
              "        }    #T_4a1d77d4_650b_11e9_867d_0242ac1c0002row6_col8 {\n",
              "            background-color:  #c1d4f4;\n",
              "        }    #T_4a1d77d4_650b_11e9_867d_0242ac1c0002row7_col0 {\n",
              "            background-color:  #3b4cc0;\n",
              "        }    #T_4a1d77d4_650b_11e9_867d_0242ac1c0002row7_col1 {\n",
              "            background-color:  #3b4cc0;\n",
              "        }    #T_4a1d77d4_650b_11e9_867d_0242ac1c0002row7_col2 {\n",
              "            background-color:  #3b4cc0;\n",
              "        }    #T_4a1d77d4_650b_11e9_867d_0242ac1c0002row7_col3 {\n",
              "            background-color:  #d9dce1;\n",
              "        }    #T_4a1d77d4_650b_11e9_867d_0242ac1c0002row7_col4 {\n",
              "            background-color:  #6687ed;\n",
              "        }    #T_4a1d77d4_650b_11e9_867d_0242ac1c0002row7_col5 {\n",
              "            background-color:  #3d50c3;\n",
              "        }    #T_4a1d77d4_650b_11e9_867d_0242ac1c0002row7_col6 {\n",
              "            background-color:  #7ea1fa;\n",
              "        }    #T_4a1d77d4_650b_11e9_867d_0242ac1c0002row7_col7 {\n",
              "            background-color:  #b40426;\n",
              "        }    #T_4a1d77d4_650b_11e9_867d_0242ac1c0002row7_col8 {\n",
              "            background-color:  #c3d5f4;\n",
              "        }    #T_4a1d77d4_650b_11e9_867d_0242ac1c0002row8_col0 {\n",
              "            background-color:  #5470de;\n",
              "        }    #T_4a1d77d4_650b_11e9_867d_0242ac1c0002row8_col1 {\n",
              "            background-color:  #4055c8;\n",
              "        }    #T_4a1d77d4_650b_11e9_867d_0242ac1c0002row8_col2 {\n",
              "            background-color:  #4f69d9;\n",
              "        }    #T_4a1d77d4_650b_11e9_867d_0242ac1c0002row8_col3 {\n",
              "            background-color:  #d44e41;\n",
              "        }    #T_4a1d77d4_650b_11e9_867d_0242ac1c0002row8_col4 {\n",
              "            background-color:  #8caffe;\n",
              "        }    #T_4a1d77d4_650b_11e9_867d_0242ac1c0002row8_col5 {\n",
              "            background-color:  #3d50c3;\n",
              "        }    #T_4a1d77d4_650b_11e9_867d_0242ac1c0002row8_col6 {\n",
              "            background-color:  #c1d4f4;\n",
              "        }    #T_4a1d77d4_650b_11e9_867d_0242ac1c0002row8_col7 {\n",
              "            background-color:  #cfdaea;\n",
              "        }    #T_4a1d77d4_650b_11e9_867d_0242ac1c0002row8_col8 {\n",
              "            background-color:  #b40426;\n",
              "        }</style>  \n",
              "<table id=\"T_4a1d77d4_650b_11e9_867d_0242ac1c0002\" > \n",
              "<thead>    <tr> \n",
              "        <th class=\"blank level0\" ></th> \n",
              "        <th class=\"col_heading level0 col0\" >Rating</th> \n",
              "        <th class=\"col_heading level0 col1\" >Avg_Prod_Rating</th> \n",
              "        <th class=\"col_heading level0 col2\" >Avg_user_rating</th> \n",
              "        <th class=\"col_heading level0 col3\" >Review_Len</th> \n",
              "        <th class=\"col_heading level0 col4\" >user_total_reviews</th> \n",
              "        <th class=\"col_heading level0 col5\" >compound</th> \n",
              "        <th class=\"col_heading level0 col6\" >number_Cap_Words</th> \n",
              "        <th class=\"col_heading level0 col7\" >number_digit_Words</th> \n",
              "        <th class=\"col_heading level0 col8\" >noun_count</th> \n",
              "    </tr></thead> \n",
              "<tbody>    <tr> \n",
              "        <th id=\"T_4a1d77d4_650b_11e9_867d_0242ac1c0002level0_row0\" class=\"row_heading level0 row0\" >Rating</th> \n",
              "        <td id=\"T_4a1d77d4_650b_11e9_867d_0242ac1c0002row0_col0\" class=\"data row0 col0\" >1</td> \n",
              "        <td id=\"T_4a1d77d4_650b_11e9_867d_0242ac1c0002row0_col1\" class=\"data row0 col1\" >0.209491</td> \n",
              "        <td id=\"T_4a1d77d4_650b_11e9_867d_0242ac1c0002row0_col2\" class=\"data row0 col2\" >0.768428</td> \n",
              "        <td id=\"T_4a1d77d4_650b_11e9_867d_0242ac1c0002row0_col3\" class=\"data row0 col3\" >-0.116101</td> \n",
              "        <td id=\"T_4a1d77d4_650b_11e9_867d_0242ac1c0002row0_col4\" class=\"data row0 col4\" >-0.0550489</td> \n",
              "        <td id=\"T_4a1d77d4_650b_11e9_867d_0242ac1c0002row0_col5\" class=\"data row0 col5\" >-0.00489899</td> \n",
              "        <td id=\"T_4a1d77d4_650b_11e9_867d_0242ac1c0002row0_col6\" class=\"data row0 col6\" >-0.0255559</td> \n",
              "        <td id=\"T_4a1d77d4_650b_11e9_867d_0242ac1c0002row0_col7\" class=\"data row0 col7\" >-0.119337</td> \n",
              "        <td id=\"T_4a1d77d4_650b_11e9_867d_0242ac1c0002row0_col8\" class=\"data row0 col8\" >-0.0247461</td> \n",
              "    </tr>    <tr> \n",
              "        <th id=\"T_4a1d77d4_650b_11e9_867d_0242ac1c0002level0_row1\" class=\"row_heading level0 row1\" >Avg_Prod_Rating</th> \n",
              "        <td id=\"T_4a1d77d4_650b_11e9_867d_0242ac1c0002row1_col0\" class=\"data row1 col0\" >0.209491</td> \n",
              "        <td id=\"T_4a1d77d4_650b_11e9_867d_0242ac1c0002row1_col1\" class=\"data row1 col1\" >1</td> \n",
              "        <td id=\"T_4a1d77d4_650b_11e9_867d_0242ac1c0002row1_col2\" class=\"data row1 col2\" >0.146065</td> \n",
              "        <td id=\"T_4a1d77d4_650b_11e9_867d_0242ac1c0002row1_col3\" class=\"data row1 col3\" >-0.0222627</td> \n",
              "        <td id=\"T_4a1d77d4_650b_11e9_867d_0242ac1c0002row1_col4\" class=\"data row1 col4\" >-0.0136901</td> \n",
              "        <td id=\"T_4a1d77d4_650b_11e9_867d_0242ac1c0002row1_col5\" class=\"data row1 col5\" >-0.00261982</td> \n",
              "        <td id=\"T_4a1d77d4_650b_11e9_867d_0242ac1c0002row1_col6\" class=\"data row1 col6\" >-0.00683503</td> \n",
              "        <td id=\"T_4a1d77d4_650b_11e9_867d_0242ac1c0002row1_col7\" class=\"data row1 col7\" >-0.0298818</td> \n",
              "        <td id=\"T_4a1d77d4_650b_11e9_867d_0242ac1c0002row1_col8\" class=\"data row1 col8\" >-0.00727138</td> \n",
              "    </tr>    <tr> \n",
              "        <th id=\"T_4a1d77d4_650b_11e9_867d_0242ac1c0002level0_row2\" class=\"row_heading level0 row2\" >Avg_user_rating</th> \n",
              "        <td id=\"T_4a1d77d4_650b_11e9_867d_0242ac1c0002row2_col0\" class=\"data row2 col0\" >0.768428</td> \n",
              "        <td id=\"T_4a1d77d4_650b_11e9_867d_0242ac1c0002row2_col1\" class=\"data row2 col1\" >0.146065</td> \n",
              "        <td id=\"T_4a1d77d4_650b_11e9_867d_0242ac1c0002row2_col2\" class=\"data row2 col2\" >1</td> \n",
              "        <td id=\"T_4a1d77d4_650b_11e9_867d_0242ac1c0002row2_col3\" class=\"data row2 col3\" >-0.112679</td> \n",
              "        <td id=\"T_4a1d77d4_650b_11e9_867d_0242ac1c0002row2_col4\" class=\"data row2 col4\" >-0.066869</td> \n",
              "        <td id=\"T_4a1d77d4_650b_11e9_867d_0242ac1c0002row2_col5\" class=\"data row2 col5\" >-0.00608913</td> \n",
              "        <td id=\"T_4a1d77d4_650b_11e9_867d_0242ac1c0002row2_col6\" class=\"data row2 col6\" >-0.0367776</td> \n",
              "        <td id=\"T_4a1d77d4_650b_11e9_867d_0242ac1c0002row2_col7\" class=\"data row2 col7\" >-0.116402</td> \n",
              "        <td id=\"T_4a1d77d4_650b_11e9_867d_0242ac1c0002row2_col8\" class=\"data row2 col8\" >-0.0406289</td> \n",
              "    </tr>    <tr> \n",
              "        <th id=\"T_4a1d77d4_650b_11e9_867d_0242ac1c0002level0_row3\" class=\"row_heading level0 row3\" >Review_Len</th> \n",
              "        <td id=\"T_4a1d77d4_650b_11e9_867d_0242ac1c0002row3_col0\" class=\"data row3 col0\" >-0.116101</td> \n",
              "        <td id=\"T_4a1d77d4_650b_11e9_867d_0242ac1c0002row3_col1\" class=\"data row3 col1\" >-0.0222627</td> \n",
              "        <td id=\"T_4a1d77d4_650b_11e9_867d_0242ac1c0002row3_col2\" class=\"data row3 col2\" >-0.112679</td> \n",
              "        <td id=\"T_4a1d77d4_650b_11e9_867d_0242ac1c0002row3_col3\" class=\"data row3 col3\" >1</td> \n",
              "        <td id=\"T_4a1d77d4_650b_11e9_867d_0242ac1c0002row3_col4\" class=\"data row3 col4\" >0.184742</td> \n",
              "        <td id=\"T_4a1d77d4_650b_11e9_867d_0242ac1c0002row3_col5\" class=\"data row3 col5\" >0.00571971</td> \n",
              "        <td id=\"T_4a1d77d4_650b_11e9_867d_0242ac1c0002row3_col6\" class=\"data row3 col6\" >0.319973</td> \n",
              "        <td id=\"T_4a1d77d4_650b_11e9_867d_0242ac1c0002row3_col7\" class=\"data row3 col7\" >0.42836</td> \n",
              "        <td id=\"T_4a1d77d4_650b_11e9_867d_0242ac1c0002row3_col8\" class=\"data row3 col8\" >0.897774</td> \n",
              "    </tr>    <tr> \n",
              "        <th id=\"T_4a1d77d4_650b_11e9_867d_0242ac1c0002level0_row4\" class=\"row_heading level0 row4\" >user_total_reviews</th> \n",
              "        <td id=\"T_4a1d77d4_650b_11e9_867d_0242ac1c0002row4_col0\" class=\"data row4 col0\" >-0.0550489</td> \n",
              "        <td id=\"T_4a1d77d4_650b_11e9_867d_0242ac1c0002row4_col1\" class=\"data row4 col1\" >-0.0136901</td> \n",
              "        <td id=\"T_4a1d77d4_650b_11e9_867d_0242ac1c0002row4_col2\" class=\"data row4 col2\" >-0.066869</td> \n",
              "        <td id=\"T_4a1d77d4_650b_11e9_867d_0242ac1c0002row4_col3\" class=\"data row4 col3\" >0.184742</td> \n",
              "        <td id=\"T_4a1d77d4_650b_11e9_867d_0242ac1c0002row4_col4\" class=\"data row4 col4\" >1</td> \n",
              "        <td id=\"T_4a1d77d4_650b_11e9_867d_0242ac1c0002row4_col5\" class=\"data row4 col5\" >0.0129324</td> \n",
              "        <td id=\"T_4a1d77d4_650b_11e9_867d_0242ac1c0002row4_col6\" class=\"data row4 col6\" >0.0415358</td> \n",
              "        <td id=\"T_4a1d77d4_650b_11e9_867d_0242ac1c0002row4_col7\" class=\"data row4 col7\" >0.0793073</td> \n",
              "        <td id=\"T_4a1d77d4_650b_11e9_867d_0242ac1c0002row4_col8\" class=\"data row4 col8\" >0.198087</td> \n",
              "    </tr>    <tr> \n",
              "        <th id=\"T_4a1d77d4_650b_11e9_867d_0242ac1c0002level0_row5\" class=\"row_heading level0 row5\" >compound</th> \n",
              "        <td id=\"T_4a1d77d4_650b_11e9_867d_0242ac1c0002row5_col0\" class=\"data row5 col0\" >-0.00489899</td> \n",
              "        <td id=\"T_4a1d77d4_650b_11e9_867d_0242ac1c0002row5_col1\" class=\"data row5 col1\" >-0.00261982</td> \n",
              "        <td id=\"T_4a1d77d4_650b_11e9_867d_0242ac1c0002row5_col2\" class=\"data row5 col2\" >-0.00608913</td> \n",
              "        <td id=\"T_4a1d77d4_650b_11e9_867d_0242ac1c0002row5_col3\" class=\"data row5 col3\" >0.00571971</td> \n",
              "        <td id=\"T_4a1d77d4_650b_11e9_867d_0242ac1c0002row5_col4\" class=\"data row5 col4\" >0.0129324</td> \n",
              "        <td id=\"T_4a1d77d4_650b_11e9_867d_0242ac1c0002row5_col5\" class=\"data row5 col5\" >1</td> \n",
              "        <td id=\"T_4a1d77d4_650b_11e9_867d_0242ac1c0002row5_col6\" class=\"data row5 col6\" >-0.000990036</td> \n",
              "        <td id=\"T_4a1d77d4_650b_11e9_867d_0242ac1c0002row5_col7\" class=\"data row5 col7\" >0.00214676</td> \n",
              "        <td id=\"T_4a1d77d4_650b_11e9_867d_0242ac1c0002row5_col8\" class=\"data row5 col8\" >0.00543442</td> \n",
              "    </tr>    <tr> \n",
              "        <th id=\"T_4a1d77d4_650b_11e9_867d_0242ac1c0002level0_row6\" class=\"row_heading level0 row6\" >number_Cap_Words</th> \n",
              "        <td id=\"T_4a1d77d4_650b_11e9_867d_0242ac1c0002row6_col0\" class=\"data row6 col0\" >-0.0255559</td> \n",
              "        <td id=\"T_4a1d77d4_650b_11e9_867d_0242ac1c0002row6_col1\" class=\"data row6 col1\" >-0.00683503</td> \n",
              "        <td id=\"T_4a1d77d4_650b_11e9_867d_0242ac1c0002row6_col2\" class=\"data row6 col2\" >-0.0367776</td> \n",
              "        <td id=\"T_4a1d77d4_650b_11e9_867d_0242ac1c0002row6_col3\" class=\"data row6 col3\" >0.319973</td> \n",
              "        <td id=\"T_4a1d77d4_650b_11e9_867d_0242ac1c0002row6_col4\" class=\"data row6 col4\" >0.0415358</td> \n",
              "        <td id=\"T_4a1d77d4_650b_11e9_867d_0242ac1c0002row6_col5\" class=\"data row6 col5\" >-0.000990036</td> \n",
              "        <td id=\"T_4a1d77d4_650b_11e9_867d_0242ac1c0002row6_col6\" class=\"data row6 col6\" >1</td> \n",
              "        <td id=\"T_4a1d77d4_650b_11e9_867d_0242ac1c0002row6_col7\" class=\"data row6 col7\" >0.179104</td> \n",
              "        <td id=\"T_4a1d77d4_650b_11e9_867d_0242ac1c0002row6_col8\" class=\"data row6 col8\" >0.382036</td> \n",
              "    </tr>    <tr> \n",
              "        <th id=\"T_4a1d77d4_650b_11e9_867d_0242ac1c0002level0_row7\" class=\"row_heading level0 row7\" >number_digit_Words</th> \n",
              "        <td id=\"T_4a1d77d4_650b_11e9_867d_0242ac1c0002row7_col0\" class=\"data row7 col0\" >-0.119337</td> \n",
              "        <td id=\"T_4a1d77d4_650b_11e9_867d_0242ac1c0002row7_col1\" class=\"data row7 col1\" >-0.0298818</td> \n",
              "        <td id=\"T_4a1d77d4_650b_11e9_867d_0242ac1c0002row7_col2\" class=\"data row7 col2\" >-0.116402</td> \n",
              "        <td id=\"T_4a1d77d4_650b_11e9_867d_0242ac1c0002row7_col3\" class=\"data row7 col3\" >0.42836</td> \n",
              "        <td id=\"T_4a1d77d4_650b_11e9_867d_0242ac1c0002row7_col4\" class=\"data row7 col4\" >0.0793073</td> \n",
              "        <td id=\"T_4a1d77d4_650b_11e9_867d_0242ac1c0002row7_col5\" class=\"data row7 col5\" >0.00214676</td> \n",
              "        <td id=\"T_4a1d77d4_650b_11e9_867d_0242ac1c0002row7_col6\" class=\"data row7 col6\" >0.179104</td> \n",
              "        <td id=\"T_4a1d77d4_650b_11e9_867d_0242ac1c0002row7_col7\" class=\"data row7 col7\" >1</td> \n",
              "        <td id=\"T_4a1d77d4_650b_11e9_867d_0242ac1c0002row7_col8\" class=\"data row7 col8\" >0.384896</td> \n",
              "    </tr>    <tr> \n",
              "        <th id=\"T_4a1d77d4_650b_11e9_867d_0242ac1c0002level0_row8\" class=\"row_heading level0 row8\" >noun_count</th> \n",
              "        <td id=\"T_4a1d77d4_650b_11e9_867d_0242ac1c0002row8_col0\" class=\"data row8 col0\" >-0.0247461</td> \n",
              "        <td id=\"T_4a1d77d4_650b_11e9_867d_0242ac1c0002row8_col1\" class=\"data row8 col1\" >-0.00727138</td> \n",
              "        <td id=\"T_4a1d77d4_650b_11e9_867d_0242ac1c0002row8_col2\" class=\"data row8 col2\" >-0.0406289</td> \n",
              "        <td id=\"T_4a1d77d4_650b_11e9_867d_0242ac1c0002row8_col3\" class=\"data row8 col3\" >0.897774</td> \n",
              "        <td id=\"T_4a1d77d4_650b_11e9_867d_0242ac1c0002row8_col4\" class=\"data row8 col4\" >0.198087</td> \n",
              "        <td id=\"T_4a1d77d4_650b_11e9_867d_0242ac1c0002row8_col5\" class=\"data row8 col5\" >0.00543442</td> \n",
              "        <td id=\"T_4a1d77d4_650b_11e9_867d_0242ac1c0002row8_col6\" class=\"data row8 col6\" >0.382036</td> \n",
              "        <td id=\"T_4a1d77d4_650b_11e9_867d_0242ac1c0002row8_col7\" class=\"data row8 col7\" >0.384896</td> \n",
              "        <td id=\"T_4a1d77d4_650b_11e9_867d_0242ac1c0002row8_col8\" class=\"data row8 col8\" >1</td> \n",
              "    </tr></tbody> \n",
              "</table> "
            ],
            "text/plain": [
              "<pandas.io.formats.style.Styler at 0x7f1c19ac3cf8>"
            ]
          },
          "metadata": {
            "tags": []
          },
          "execution_count": 14
        }
      ]
    },
    {
      "metadata": {
        "id": "2yooRyEr7hmc",
        "colab_type": "code",
        "outputId": "7823a9d2-ec1b-4fb7-803f-27a59cbff34a",
        "colab": {
          "base_uri": "https://localhost:8080/",
          "height": 195
        }
      },
      "cell_type": "code",
      "source": [
        "Y_final_data=final_data[['Label']]\n",
        "Y_final_data.head()\n"
      ],
      "execution_count": 15,
      "outputs": [
        {
          "output_type": "execute_result",
          "data": {
            "text/html": [
              "<div>\n",
              "<style scoped>\n",
              "    .dataframe tbody tr th:only-of-type {\n",
              "        vertical-align: middle;\n",
              "    }\n",
              "\n",
              "    .dataframe tbody tr th {\n",
              "        vertical-align: top;\n",
              "    }\n",
              "\n",
              "    .dataframe thead th {\n",
              "        text-align: right;\n",
              "    }\n",
              "</style>\n",
              "<table border=\"1\" class=\"dataframe\">\n",
              "  <thead>\n",
              "    <tr style=\"text-align: right;\">\n",
              "      <th></th>\n",
              "      <th>Label</th>\n",
              "    </tr>\n",
              "  </thead>\n",
              "  <tbody>\n",
              "    <tr>\n",
              "      <th>0</th>\n",
              "      <td>-1</td>\n",
              "    </tr>\n",
              "    <tr>\n",
              "      <th>1</th>\n",
              "      <td>-1</td>\n",
              "    </tr>\n",
              "    <tr>\n",
              "      <th>2</th>\n",
              "      <td>-1</td>\n",
              "    </tr>\n",
              "    <tr>\n",
              "      <th>3</th>\n",
              "      <td>-1</td>\n",
              "    </tr>\n",
              "    <tr>\n",
              "      <th>4</th>\n",
              "      <td>-1</td>\n",
              "    </tr>\n",
              "  </tbody>\n",
              "</table>\n",
              "</div>"
            ],
            "text/plain": [
              "   Label\n",
              "0     -1\n",
              "1     -1\n",
              "2     -1\n",
              "3     -1\n",
              "4     -1"
            ]
          },
          "metadata": {
            "tags": []
          },
          "execution_count": 15
        }
      ]
    },
    {
      "metadata": {
        "id": "VNeUOn1bbH80",
        "colab_type": "text"
      },
      "cell_type": "markdown",
      "source": [
        "**Splitting the dataset into train and test**"
      ]
    },
    {
      "metadata": {
        "id": "ZbEsZ5vmsVqC",
        "colab_type": "code",
        "colab": {}
      },
      "cell_type": "code",
      "source": [
        "from sklearn.feature_extraction.text import CountVectorizer\n",
        "from sklearn.model_selection import train_test_split\n",
        "from sklearn.linear_model import LogisticRegression\n",
        "from sklearn.preprocessing import LabelEncoder\n",
        "from sklearn.preprocessing import OneHotEncoder\n",
        "from sklearn.model_selection import RandomizedSearchCV\n",
        " \n",
        "#Split\n",
        "sentences_train, sentences_test, y_train, y_test = train_test_split(X_final_data, Y_final_data, test_size=0.25, random_state=101)\n"
      ],
      "execution_count": 0,
      "outputs": []
    },
    {
      "metadata": {
        "id": "4b2UX-ivbQOy",
        "colab_type": "text"
      },
      "cell_type": "markdown",
      "source": [
        "**Vectorize using CountVectorizer**"
      ]
    },
    {
      "metadata": {
        "id": "lhsxc3hi82YJ",
        "colab_type": "code",
        "colab": {}
      },
      "cell_type": "code",
      "source": [
        "#Vectorize\n",
        "vectorizer = CountVectorizer(stop_words= df_common, ngram_range=(3,3), max_features= 15000)\n",
        "vectorizer.fit(sentences_train['corpus'])\n",
        " \n",
        "X_train_corpus = vectorizer.transform(sentences_train['corpus'])\n",
        "X_test_corpus  = vectorizer.transform(sentences_test['corpus'])"
      ],
      "execution_count": 0,
      "outputs": []
    },
    {
      "metadata": {
        "id": "S87I589q9-qu",
        "colab_type": "code",
        "outputId": "bbd11a44-e220-4807-a525-a41af2d3104c",
        "colab": {
          "base_uri": "https://localhost:8080/",
          "height": 34
        }
      },
      "cell_type": "code",
      "source": [
        "X_train_corpus.shape"
      ],
      "execution_count": 20,
      "outputs": [
        {
          "output_type": "execute_result",
          "data": {
            "text/plain": [
              "(296523, 15000)"
            ]
          },
          "metadata": {
            "tags": []
          },
          "execution_count": 20
        }
      ]
    },
    {
      "metadata": {
        "id": "i_gq_KlV-BR-",
        "colab_type": "code",
        "outputId": "ac640c3d-d1e4-4ea8-f904-5108c109a3c3",
        "colab": {
          "base_uri": "https://localhost:8080/",
          "height": 34
        }
      },
      "cell_type": "code",
      "source": [
        "X_test_corpus.shape"
      ],
      "execution_count": 21,
      "outputs": [
        {
          "output_type": "execute_result",
          "data": {
            "text/plain": [
              "(98842, 15000)"
            ]
          },
          "metadata": {
            "tags": []
          },
          "execution_count": 21
        }
      ]
    },
    {
      "metadata": {
        "id": "9QOCcdHZbaFE",
        "colab_type": "text"
      },
      "cell_type": "markdown",
      "source": [
        "**Merging the final features**"
      ]
    },
    {
      "metadata": {
        "id": "JVE3hEIT9sAu",
        "colab_type": "code",
        "colab": {}
      },
      "cell_type": "code",
      "source": [
        "#merge text and features\n",
        "import scipy as sp\n",
        "final_X_train = sp.sparse.hstack((X_train_corpus,sentences_train[['Rating','Avg_Prod_Rating','Avg_user_rating','Review_Len','user_total_reviews','compound','number_Cap_Words','number_digit_Words','noun_count']].values),format='csr')\n",
        "final_X_test = sp.sparse.hstack((X_test_corpus,sentences_test[['Rating','Avg_Prod_Rating','Avg_user_rating','Review_Len','user_total_reviews','compound','number_Cap_Words','number_digit_Words','noun_count']].values),format='csr')"
      ],
      "execution_count": 0,
      "outputs": []
    },
    {
      "metadata": {
        "id": "yKHCCHqa_Y-8",
        "colab_type": "code",
        "outputId": "b3e2faff-7a86-472b-fd6b-be66727e88a1",
        "colab": {
          "base_uri": "https://localhost:8080/",
          "height": 34
        }
      },
      "cell_type": "code",
      "source": [
        "final_X_train.shape"
      ],
      "execution_count": 23,
      "outputs": [
        {
          "output_type": "execute_result",
          "data": {
            "text/plain": [
              "(296523, 15009)"
            ]
          },
          "metadata": {
            "tags": []
          },
          "execution_count": 23
        }
      ]
    },
    {
      "metadata": {
        "id": "87XK_Ja-_hed",
        "colab_type": "code",
        "outputId": "82a9f546-92c2-4104-b798-7e95288c04cd",
        "colab": {
          "base_uri": "https://localhost:8080/",
          "height": 34
        }
      },
      "cell_type": "code",
      "source": [
        "final_X_test.shape"
      ],
      "execution_count": 24,
      "outputs": [
        {
          "output_type": "execute_result",
          "data": {
            "text/plain": [
              "(98842, 15009)"
            ]
          },
          "metadata": {
            "tags": []
          },
          "execution_count": 24
        }
      ]
    },
    {
      "metadata": {
        "id": "HUeJV-3pbdKj",
        "colab_type": "text"
      },
      "cell_type": "markdown",
      "source": [
        "**Applying Random Over Sampling on Train data**"
      ]
    },
    {
      "metadata": {
        "id": "gUebObB590ll",
        "colab_type": "code",
        "outputId": "fc6a7150-1a35-45d5-b7d8-7b02427c3fcd",
        "colab": {
          "base_uri": "https://localhost:8080/",
          "height": 87
        }
      },
      "cell_type": "code",
      "source": [
        "#ROS:\n",
        "from imblearn.over_sampling import RandomOverSampler\n",
        "ros = RandomOverSampler(random_state=0)\n",
        "X_resampled, y_resampled = ros.fit_resample(final_X_train, y_train)\n",
        "from collections import Counter\n",
        "print(sorted(Counter(y_resampled).items()))"
      ],
      "execution_count": 25,
      "outputs": [
        {
          "output_type": "stream",
          "text": [
            "/usr/local/lib/python3.6/dist-packages/sklearn/utils/validation.py:761: DataConversionWarning: A column-vector y was passed when a 1d array was expected. Please change the shape of y to (n_samples, ), for example using ravel().\n",
            "  y = column_or_1d(y, warn=True)\n"
          ],
          "name": "stderr"
        },
        {
          "output_type": "stream",
          "text": [
            "[(-1, 265849), (1, 265849)]\n"
          ],
          "name": "stdout"
        }
      ]
    },
    {
      "metadata": {
        "id": "iA7aXJUSHP0a",
        "colab_type": "code",
        "outputId": "aca31753-3653-415d-9d45-c7594d8c3041",
        "colab": {
          "base_uri": "https://localhost:8080/",
          "height": 34
        }
      },
      "cell_type": "code",
      "source": [
        "X_resampled.shape"
      ],
      "execution_count": 26,
      "outputs": [
        {
          "output_type": "execute_result",
          "data": {
            "text/plain": [
              "(531698, 15009)"
            ]
          },
          "metadata": {
            "tags": []
          },
          "execution_count": 26
        }
      ]
    },
    {
      "metadata": {
        "id": "VJkZ__ZRHTX6",
        "colab_type": "code",
        "outputId": "490837a8-7a2b-48f1-80e3-2ff5c212fa6b",
        "colab": {
          "base_uri": "https://localhost:8080/",
          "height": 34
        }
      },
      "cell_type": "code",
      "source": [
        "y_resampled.shape"
      ],
      "execution_count": 27,
      "outputs": [
        {
          "output_type": "execute_result",
          "data": {
            "text/plain": [
              "(531698,)"
            ]
          },
          "metadata": {
            "tags": []
          },
          "execution_count": 27
        }
      ]
    },
    {
      "metadata": {
        "id": "gODPJaI-cBeL",
        "colab_type": "text"
      },
      "cell_type": "markdown",
      "source": [
        "**Random Forest Classifier**"
      ]
    },
    {
      "metadata": {
        "id": "vdY9KnVhs_O-",
        "colab_type": "code",
        "colab": {}
      },
      "cell_type": "code",
      "source": [
        "#Import Random Forest Model\n",
        "from sklearn.ensemble import RandomForestClassifier\n",
        "\n",
        "#Create a Gaussian Classifier\n",
        "clf=RandomForestClassifier(n_estimators=1000)\n",
        "\n",
        "#Train the model using the training sets y_pred=clf.predict(X_test)\n",
        "clf.fit(X_resampled,y_resampled)\n",
        "\n",
        "y_pred=clf.predict(final_X_test)\n",
        " \n",
        "\n"
      ],
      "execution_count": 0,
      "outputs": []
    },
    {
      "metadata": {
        "id": "GIJHrcKKeO_L",
        "colab_type": "text"
      },
      "cell_type": "markdown",
      "source": [
        "**Evaluation of Random Forest Classifier**"
      ]
    },
    {
      "metadata": {
        "id": "Y2AN8zYteZqQ",
        "colab_type": "code",
        "colab": {}
      },
      "cell_type": "code",
      "source": [
        "from sklearn.metrics import confusion_matrix,classification_report\n",
        "c_matrix=confusion_matrix(y_test, y_pred)\n",
        "c_matrix"
      ],
      "execution_count": 0,
      "outputs": []
    },
    {
      "metadata": {
        "id": "eNCH4-0IebfI",
        "colab_type": "code",
        "colab": {}
      },
      "cell_type": "code",
      "source": [
        "c1_matrix=classification_report(y_test, y_pred)\n",
        "print(c1_matrix)"
      ],
      "execution_count": 0,
      "outputs": []
    },
    {
      "metadata": {
        "id": "QTpWy8qcekJp",
        "colab_type": "code",
        "colab": {}
      },
      "cell_type": "code",
      "source": [
        "#Import scikit-learn metrics module for accuracy calculation\n",
        "from sklearn import metrics\n",
        "print(\"Accuracy:\",metrics.accuracy_score(y_test, y_pred))"
      ],
      "execution_count": 0,
      "outputs": []
    },
    {
      "metadata": {
        "id": "GgWR2wN2d5c1",
        "colab_type": "text"
      },
      "cell_type": "markdown",
      "source": [
        "**K-Nearest Neighbors Classification**"
      ]
    },
    {
      "metadata": {
        "id": "68Q-FhbepL80",
        "colab_type": "code",
        "colab": {}
      },
      "cell_type": "code",
      "source": [
        "#knn model\n",
        "from sklearn.neighbors import KNeighborsClassifier\n",
        "knn = KNeighborsClassifier(n_neighbors=729)\n",
        "knn.fit(X_resampled,y_resampled)\n",
        "y_pred = knn.predict(final_X_test)\n"
      ],
      "execution_count": 0,
      "outputs": []
    },
    {
      "metadata": {
        "id": "MhgRWfeIetN5",
        "colab_type": "text"
      },
      "cell_type": "markdown",
      "source": [
        "**Evaluation of KNN model**"
      ]
    },
    {
      "metadata": {
        "id": "qTdlG1jsWhGf",
        "colab_type": "code",
        "outputId": "7f7c245f-87ac-4aaa-b10f-faa4724ae14d",
        "colab": {
          "base_uri": "https://localhost:8080/",
          "height": 50
        }
      },
      "cell_type": "code",
      "source": [
        "from sklearn.metrics import confusion_matrix,classification_report\n",
        "c_matrix=confusion_matrix(y_test, y_pred)\n",
        "c_matrix"
      ],
      "execution_count": 31,
      "outputs": [
        {
          "output_type": "execute_result",
          "data": {
            "text/plain": [
              "array([[ 7813,  2585],\n",
              "       [33127, 55317]])"
            ]
          },
          "metadata": {
            "tags": []
          },
          "execution_count": 31
        }
      ]
    },
    {
      "metadata": {
        "id": "u2Uhc4owWh1w",
        "colab_type": "code",
        "outputId": "80584cfc-0224-4ab7-ec04-2717dae92097",
        "colab": {
          "base_uri": "https://localhost:8080/",
          "height": 168
        }
      },
      "cell_type": "code",
      "source": [
        "c1_matrix=classification_report(y_test, y_pred)\n",
        "print(c1_matrix)"
      ],
      "execution_count": 32,
      "outputs": [
        {
          "output_type": "stream",
          "text": [
            "              precision    recall  f1-score   support\n",
            "\n",
            "          -1       0.19      0.75      0.30     10398\n",
            "           1       0.96      0.63      0.76     88444\n",
            "\n",
            "   micro avg       0.64      0.64      0.64     98842\n",
            "   macro avg       0.57      0.69      0.53     98842\n",
            "weighted avg       0.87      0.64      0.71     98842\n",
            "\n"
          ],
          "name": "stdout"
        }
      ]
    },
    {
      "metadata": {
        "id": "TepayXwBpxQ2",
        "colab_type": "code",
        "outputId": "b357dc3e-d394-40a4-acc7-463db6bfb92b",
        "colab": {
          "base_uri": "https://localhost:8080/",
          "height": 34
        }
      },
      "cell_type": "code",
      "source": [
        "#Import scikit-learn metrics module for accuracy calculation\n",
        "from sklearn import metrics\n",
        "# Model Accuracy, how often is the classifier correct?\n",
        "print(\"Accuracy:\",metrics.accuracy_score(y_test, y_pred))"
      ],
      "execution_count": 33,
      "outputs": [
        {
          "output_type": "stream",
          "text": [
            "Accuracy: 0.6386961008478177\n"
          ],
          "name": "stdout"
        }
      ]
    },
    {
      "metadata": {
        "id": "71JsIeWffBY_",
        "colab_type": "code",
        "colab": {}
      },
      "cell_type": "code",
      "source": [
        ""
      ],
      "execution_count": 0,
      "outputs": []
    }
  ]
}