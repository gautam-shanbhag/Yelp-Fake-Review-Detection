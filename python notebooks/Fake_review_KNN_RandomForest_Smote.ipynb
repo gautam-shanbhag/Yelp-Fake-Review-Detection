{
  "nbformat": 4,
  "nbformat_minor": 0,
  "metadata": {
    "colab": {
      "name": "fake-review-dm.ipynb",
      "version": "0.3.2",
      "provenance": [],
      "collapsed_sections": []
    },
    "kernelspec": {
      "name": "python3",
      "display_name": "Python 3"
    },
    "accelerator": "GPU"
  },
  "cells": [
    {
      "metadata": {
        "id": "1l9E7wptUDuV",
        "colab_type": "text"
      },
      "cell_type": "markdown",
      "source": [
        "# Fake Review Detection on Yelp Data set \n",
        "### Feature extraction \n",
        "### KNN\n",
        "\n"
      ]
    },
    {
      "metadata": {
        "id": "Y_3Nk1RWUkmQ",
        "colab_type": "text"
      },
      "cell_type": "markdown",
      "source": [
        "Loading the necessary Libraries"
      ]
    },
    {
      "metadata": {
        "_cell_guid": "b1076dfc-b9ad-4769-8c92-a6c4dae69d19",
        "_uuid": "8f2839f25d086af736a60e9eeb907d3b93b6e0e5",
        "id": "5lhaFWM8wKDg",
        "colab_type": "code",
        "outputId": "d7010d04-fce0-40f4-e483-970d14b323fc",
        "colab": {
          "base_uri": "https://localhost:8080/",
          "height": 119
        }
      },
      "cell_type": "code",
      "source": [
        "# This Python 3 environment comes with many helpful analytics libraries installed\n",
        "# It is defined by the kaggle/python docker image: https://github.com/kaggle/docker-python\n",
        "# For example, here's several helpful packages to load in \n",
        "\n",
        "import numpy as np # linear algebra\n",
        "import pandas as pd # data processing, CSV file I/O (e.g. pd.read_csv)\n",
        "import matplotlib.pyplot as plt\n",
        "import seaborn as sns\n",
        "from wordcloud import WordCloud, STOPWORDS\n",
        "import nltk\n",
        "nltk.download('vader_lexicon')\n",
        "import re;\n",
        "nltk.download('brown')\n",
        "nltk.download('punkt')\n",
        "from textblob import TextBlob\n",
        "from sklearn.feature_extraction.text import TfidfVectorizer\n",
        "from sklearn.model_selection import train_test_split\n",
        "from sklearn.linear_model import LogisticRegression\n",
        "from sklearn.preprocessing import LabelEncoder\n",
        "from sklearn.preprocessing import OneHotEncoder\n",
        "from sklearn.model_selection import RandomizedSearchCV\n",
        "import scipy as sp\n",
        "from sklearn.metrics import accuracy_score\n",
        "from imblearn.over_sampling import SMOTE\n",
        "from sklearn.metrics import confusion_matrix, classification_report\n",
        "from sklearn.metrics import roc_curve  \n",
        "from sklearn.metrics import roc_auc_score\n",
        "from sklearn.metrics import accuracy_score"
      ],
      "execution_count": 0,
      "outputs": [
        {
          "output_type": "stream",
          "text": [
            "[nltk_data] Downloading package vader_lexicon to /root/nltk_data...\n",
            "[nltk_data]   Package vader_lexicon is already up-to-date!\n",
            "[nltk_data] Downloading package brown to /root/nltk_data...\n",
            "[nltk_data]   Package brown is already up-to-date!\n",
            "[nltk_data] Downloading package punkt to /root/nltk_data...\n",
            "[nltk_data]   Package punkt is already up-to-date!\n"
          ],
          "name": "stdout"
        }
      ]
    },
    {
      "metadata": {
        "id": "vuTDUt-iUsEF",
        "colab_type": "text"
      },
      "cell_type": "markdown",
      "source": [
        "Loading data from google drive"
      ]
    },
    {
      "metadata": {
        "id": "edyTm6PowolC",
        "colab_type": "code",
        "outputId": "fef15cf3-4396-48e2-e740-c0dbcedb4243",
        "colab": {
          "base_uri": "https://localhost:8080/",
          "height": 51
        }
      },
      "cell_type": "code",
      "source": [
        "# Code to read csv file into Colaboratory:\n",
        "!pip install -U -q PyDrive\n",
        "from pydrive.auth import GoogleAuth\n",
        "from pydrive.drive import GoogleDrive\n",
        "from google.colab import auth\n",
        "from oauth2client.client import GoogleCredentials\n",
        "# Authenticate and create the PyDrive client.\n",
        "auth.authenticate_user()\n",
        "gauth = GoogleAuth()\n",
        "gauth.credentials = GoogleCredentials.get_application_default()\n",
        "drive = GoogleDrive(gauth)"
      ],
      "execution_count": 0,
      "outputs": [
        {
          "output_type": "stream",
          "text": [
            "\u001b[?25l\r\u001b[K    1% |▎                               | 10kB 19.4MB/s eta 0:00:01\r\u001b[K    2% |▋                               | 20kB 1.8MB/s eta 0:00:01\r\u001b[K    3% |█                               | 30kB 2.6MB/s eta 0:00:01\r\u001b[K    4% |█▎                              | 40kB 1.7MB/s eta 0:00:01\r\u001b[K    5% |█▋                              | 51kB 2.1MB/s eta 0:00:01\r\u001b[K    6% |██                              | 61kB 2.5MB/s eta 0:00:01\r\u001b[K    7% |██▎                             | 71kB 2.9MB/s eta 0:00:01\r\u001b[K    8% |██▋                             | 81kB 3.3MB/s eta 0:00:01\r\u001b[K    9% |███                             | 92kB 3.7MB/s eta 0:00:01\r\u001b[K    10% |███▎                            | 102kB 2.8MB/s eta 0:00:01\r\u001b[K    11% |███▋                            | 112kB 2.9MB/s eta 0:00:01\r\u001b[K    12% |████                            | 122kB 4.1MB/s eta 0:00:01\r\u001b[K    13% |████▎                           | 133kB 4.0MB/s eta 0:00:01\r\u001b[K    14% |████▋                           | 143kB 7.6MB/s eta 0:00:01\r\u001b[K    15% |█████                           | 153kB 7.7MB/s eta 0:00:01\r\u001b[K    16% |█████▎                          | 163kB 7.6MB/s eta 0:00:01\r\u001b[K    17% |█████▋                          | 174kB 7.7MB/s eta 0:00:01\r\u001b[K    18% |██████                          | 184kB 7.7MB/s eta 0:00:01\r\u001b[K    19% |██████▎                         | 194kB 7.7MB/s eta 0:00:01\r\u001b[K    20% |██████▋                         | 204kB 37.4MB/s eta 0:00:01\r\u001b[K    21% |███████                         | 215kB 8.5MB/s eta 0:00:01\r\u001b[K    22% |███████▎                        | 225kB 8.5MB/s eta 0:00:01\r\u001b[K    23% |███████▋                        | 235kB 8.6MB/s eta 0:00:01\r\u001b[K    24% |████████                        | 245kB 8.5MB/s eta 0:00:01\r\u001b[K    25% |████████▎                       | 256kB 8.5MB/s eta 0:00:01\r\u001b[K    26% |████████▋                       | 266kB 8.3MB/s eta 0:00:01\r\u001b[K    27% |█████████                       | 276kB 8.4MB/s eta 0:00:01\r\u001b[K    29% |█████████▎                      | 286kB 8.4MB/s eta 0:00:01\r\u001b[K    30% |█████████▋                      | 296kB 8.4MB/s eta 0:00:01\r\u001b[K    31% |██████████                      | 307kB 8.6MB/s eta 0:00:01\r\u001b[K    32% |██████████▎                     | 317kB 41.7MB/s eta 0:00:01\r\u001b[K    33% |██████████▋                     | 327kB 42.2MB/s eta 0:00:01\r\u001b[K    34% |███████████                     | 337kB 43.5MB/s eta 0:00:01\r\u001b[K    35% |███████████▎                    | 348kB 40.6MB/s eta 0:00:01\r\u001b[K    36% |███████████▋                    | 358kB 41.1MB/s eta 0:00:01\r\u001b[K    37% |████████████                    | 368kB 46.4MB/s eta 0:00:01\r\u001b[K    38% |████████████▎                   | 378kB 46.2MB/s eta 0:00:01\r\u001b[K    39% |████████████▋                   | 389kB 45.7MB/s eta 0:00:01\r\u001b[K    40% |█████████████                   | 399kB 9.9MB/s eta 0:00:01\r\u001b[K    41% |█████████████▎                  | 409kB 9.8MB/s eta 0:00:01\r\u001b[K    42% |█████████████▋                  | 419kB 9.8MB/s eta 0:00:01\r\u001b[K    43% |██████████████                  | 430kB 9.7MB/s eta 0:00:01\r\u001b[K    44% |██████████████▎                 | 440kB 9.7MB/s eta 0:00:01\r\u001b[K    45% |██████████████▋                 | 450kB 9.8MB/s eta 0:00:01\r\u001b[K    46% |███████████████                 | 460kB 9.8MB/s eta 0:00:01\r\u001b[K    47% |███████████████▎                | 471kB 9.8MB/s eta 0:00:01\r\u001b[K    48% |███████████████▋                | 481kB 9.8MB/s eta 0:00:01\r\u001b[K    49% |████████████████                | 491kB 9.7MB/s eta 0:00:01\r\u001b[K    50% |████████████████▎               | 501kB 43.6MB/s eta 0:00:01\r\u001b[K    51% |████████████████▋               | 512kB 41.4MB/s eta 0:00:01\r\u001b[K    52% |█████████████████               | 522kB 41.4MB/s eta 0:00:01\r\u001b[K    53% |█████████████████▎              | 532kB 44.3MB/s eta 0:00:01\r\u001b[K    54% |█████████████████▋              | 542kB 9.1MB/s eta 0:00:01\r\u001b[K    55% |██████████████████              | 552kB 9.2MB/s eta 0:00:01\r\u001b[K    57% |██████████████████▎             | 563kB 9.1MB/s eta 0:00:01\r\u001b[K    58% |██████████████████▋             | 573kB 9.0MB/s eta 0:00:01\r\u001b[K    59% |███████████████████             | 583kB 9.0MB/s eta 0:00:01\r\u001b[K    60% |███████████████████▎            | 593kB 9.1MB/s eta 0:00:01\r\u001b[K    61% |███████████████████▋            | 604kB 9.1MB/s eta 0:00:01\r\u001b[K    62% |████████████████████            | 614kB 9.2MB/s eta 0:00:01\r\u001b[K    63% |████████████████████▎           | 624kB 9.2MB/s eta 0:00:01\r\u001b[K    64% |████████████████████▋           | 634kB 9.2MB/s eta 0:00:01\r\u001b[K    65% |█████████████████████           | 645kB 44.8MB/s eta 0:00:01\r\u001b[K    66% |█████████████████████▎          | 655kB 45.2MB/s eta 0:00:01\r\u001b[K    67% |█████████████████████▋          | 665kB 39.6MB/s eta 0:00:01\r\u001b[K    68% |██████████████████████          | 675kB 41.2MB/s eta 0:00:01\r\u001b[K    69% |██████████████████████▎         | 686kB 41.4MB/s eta 0:00:01\r\u001b[K    70% |██████████████████████▋         | 696kB 42.1MB/s eta 0:00:01\r\u001b[K    71% |███████████████████████         | 706kB 42.4MB/s eta 0:00:01\r\u001b[K    72% |███████████████████████▎        | 716kB 42.4MB/s eta 0:00:01\r\u001b[K    73% |███████████████████████▋        | 727kB 41.5MB/s eta 0:00:01\r\u001b[K    74% |████████████████████████        | 737kB 41.2MB/s eta 0:00:01\r\u001b[K    75% |████████████████████████▎       | 747kB 42.1MB/s eta 0:00:01\r\u001b[K    76% |████████████████████████▋       | 757kB 43.2MB/s eta 0:00:01\r\u001b[K    77% |████████████████████████▉       | 768kB 53.3MB/s eta 0:00:01\r\u001b[K    78% |█████████████████████████▏      | 778kB 54.0MB/s eta 0:00:01\r\u001b[K    79% |█████████████████████████▌      | 788kB 51.1MB/s eta 0:00:01\r\u001b[K    80% |█████████████████████████▉      | 798kB 51.1MB/s eta 0:00:01\r\u001b[K    81% |██████████████████████████▏     | 808kB 51.0MB/s eta 0:00:01\r\u001b[K    82% |██████████████████████████▌     | 819kB 50.9MB/s eta 0:00:01\r\u001b[K    83% |██████████████████████████▉     | 829kB 52.7MB/s eta 0:00:01\r\u001b[K    85% |███████████████████████████▏    | 839kB 52.1MB/s eta 0:00:01\r\u001b[K    86% |███████████████████████████▌    | 849kB 51.2MB/s eta 0:00:01\r\u001b[K    87% |███████████████████████████▉    | 860kB 46.5MB/s eta 0:00:01\r\u001b[K    88% |████████████████████████████▏   | 870kB 45.9MB/s eta 0:00:01\r\u001b[K    89% |████████████████████████████▌   | 880kB 45.8MB/s eta 0:00:01\r\u001b[K    90% |████████████████████████████▉   | 890kB 48.0MB/s eta 0:00:01\r\u001b[K    91% |█████████████████████████████▏  | 901kB 47.8MB/s eta 0:00:01\r\u001b[K    92% |█████████████████████████████▌  | 911kB 48.0MB/s eta 0:00:01\r\u001b[K    93% |█████████████████████████████▉  | 921kB 47.5MB/s eta 0:00:01\r\u001b[K    94% |██████████████████████████████▏ | 931kB 47.0MB/s eta 0:00:01\r\u001b[K    95% |██████████████████████████████▌ | 942kB 48.1MB/s eta 0:00:01\r\u001b[K    96% |██████████████████████████████▉ | 952kB 47.4MB/s eta 0:00:01\r\u001b[K    97% |███████████████████████████████▏| 962kB 52.6MB/s eta 0:00:01\r\u001b[K    98% |███████████████████████████████▌| 972kB 53.4MB/s eta 0:00:01\r\u001b[K    99% |███████████████████████████████▉| 983kB 53.3MB/s eta 0:00:01\r\u001b[K    100% |████████████████████████████████| 993kB 19.1MB/s \n",
            "\u001b[?25h  Building wheel for PyDrive (setup.py) ... \u001b[?25ldone\n",
            "\u001b[?25h"
          ],
          "name": "stdout"
        }
      ]
    },
    {
      "metadata": {
        "_cell_guid": "79c7e3d0-c299-4dcb-8224-4455121ee9b0",
        "_uuid": "d629ff2d2480ee46fbb7e2d37f6b5fab8052498a",
        "id": "O0Sa8stewKDt",
        "colab_type": "code",
        "outputId": "b594b5cd-59d6-4a4d-cf63-13d94680c955",
        "colab": {
          "base_uri": "https://localhost:8080/",
          "height": 34
        }
      },
      "cell_type": "code",
      "source": [
        "link = \"https://drive.google.com/open?id=1a8hdz_EP8FDscPqHHHGMGMXBdMNBOUmY\"\n",
        "fluff, id = link.split('=')\n",
        "print (id) # Verify that you have everything after '='\n",
        "downloaded = drive.CreateFile({'id':id}) \n",
        "downloaded.GetContentFile('metadata.tsv')  \n",
        "metadata = pd.read_csv('metadata.tsv' , sep = '\\t', header = 0)"
      ],
      "execution_count": 0,
      "outputs": [
        {
          "output_type": "stream",
          "text": [
            "1a8hdz_EP8FDscPqHHHGMGMXBdMNBOUmY\n"
          ],
          "name": "stdout"
        }
      ]
    },
    {
      "metadata": {
        "_uuid": "2f4f38c356ff1ee73e2e4b4b1683039a2c2373d4",
        "id": "eInJRU9DwKD3",
        "colab_type": "code",
        "outputId": "fd57c04c-6eec-4e05-858d-5b1effe03948",
        "colab": {
          "base_uri": "https://localhost:8080/",
          "height": 374
        }
      },
      "cell_type": "code",
      "source": [
        "metadata.info()\n",
        "metadata.head(5)"
      ],
      "execution_count": 0,
      "outputs": [
        {
          "output_type": "stream",
          "text": [
            "<class 'pandas.core.frame.DataFrame'>\n",
            "RangeIndex: 359052 entries, 0 to 359051\n",
            "Data columns (total 5 columns):\n",
            "User Id       359052 non-null int64\n",
            "Product Id    359052 non-null int64\n",
            "Rating        359052 non-null int64\n",
            "Label         359052 non-null int64\n",
            "Date          359052 non-null object\n",
            "dtypes: int64(4), object(1)\n",
            "memory usage: 13.7+ MB\n"
          ],
          "name": "stdout"
        },
        {
          "output_type": "execute_result",
          "data": {
            "text/html": [
              "<div>\n",
              "<style scoped>\n",
              "    .dataframe tbody tr th:only-of-type {\n",
              "        vertical-align: middle;\n",
              "    }\n",
              "\n",
              "    .dataframe tbody tr th {\n",
              "        vertical-align: top;\n",
              "    }\n",
              "\n",
              "    .dataframe thead th {\n",
              "        text-align: right;\n",
              "    }\n",
              "</style>\n",
              "<table border=\"1\" class=\"dataframe\">\n",
              "  <thead>\n",
              "    <tr style=\"text-align: right;\">\n",
              "      <th></th>\n",
              "      <th>User Id</th>\n",
              "      <th>Product Id</th>\n",
              "      <th>Rating</th>\n",
              "      <th>Label</th>\n",
              "      <th>Date</th>\n",
              "    </tr>\n",
              "  </thead>\n",
              "  <tbody>\n",
              "    <tr>\n",
              "      <th>0</th>\n",
              "      <td>923</td>\n",
              "      <td>0</td>\n",
              "      <td>3</td>\n",
              "      <td>-1</td>\n",
              "      <td>08-12-2014</td>\n",
              "    </tr>\n",
              "    <tr>\n",
              "      <th>1</th>\n",
              "      <td>924</td>\n",
              "      <td>0</td>\n",
              "      <td>3</td>\n",
              "      <td>-1</td>\n",
              "      <td>16-05-2013</td>\n",
              "    </tr>\n",
              "    <tr>\n",
              "      <th>2</th>\n",
              "      <td>925</td>\n",
              "      <td>0</td>\n",
              "      <td>4</td>\n",
              "      <td>-1</td>\n",
              "      <td>01-07-2013</td>\n",
              "    </tr>\n",
              "    <tr>\n",
              "      <th>3</th>\n",
              "      <td>926</td>\n",
              "      <td>0</td>\n",
              "      <td>4</td>\n",
              "      <td>-1</td>\n",
              "      <td>28-07-2011</td>\n",
              "    </tr>\n",
              "    <tr>\n",
              "      <th>4</th>\n",
              "      <td>927</td>\n",
              "      <td>0</td>\n",
              "      <td>4</td>\n",
              "      <td>-1</td>\n",
              "      <td>01-11-2010</td>\n",
              "    </tr>\n",
              "  </tbody>\n",
              "</table>\n",
              "</div>"
            ],
            "text/plain": [
              "   User Id  Product Id  Rating  Label        Date\n",
              "0      923           0       3     -1  08-12-2014\n",
              "1      924           0       3     -1  16-05-2013\n",
              "2      925           0       4     -1  01-07-2013\n",
              "3      926           0       4     -1  28-07-2011\n",
              "4      927           0       4     -1  01-11-2010"
            ]
          },
          "metadata": {
            "tags": []
          },
          "execution_count": 4
        }
      ]
    },
    {
      "metadata": {
        "_uuid": "53510a04ecdec14611f2cc3b0bb567369d8cc3ae",
        "id": "gygJdbOvwKED",
        "colab_type": "code",
        "outputId": "a0d6ded3-0d50-415b-c158-1f62a6efcd2f",
        "colab": {
          "base_uri": "https://localhost:8080/",
          "height": 34
        }
      },
      "cell_type": "code",
      "source": [
        "link = \"https://drive.google.com/open?id=1WyDdzVO2Ps93eY3BMJf4-oyeWi7ZRW42\"\n",
        "fluff, id = link.split('=')\n",
        "print (id) # Verify that you have everything after '='\n",
        "downloaded = drive.CreateFile({'id':id}) \n",
        "downloaded.GetContentFile('productIdMapping.tsv')  \n",
        "ProdIdMap =pd.read_csv(\"productIdMapping.tsv\", sep = '\\t', header = 0)"
      ],
      "execution_count": 0,
      "outputs": [
        {
          "output_type": "stream",
          "text": [
            "1WyDdzVO2Ps93eY3BMJf4-oyeWi7ZRW42\n"
          ],
          "name": "stdout"
        }
      ]
    },
    {
      "metadata": {
        "_uuid": "b4fc20507117b08e36de20d9c934526cd1a9b654",
        "id": "rdttsKdKwKEL",
        "colab_type": "code",
        "outputId": "4d422e8c-ab6d-47ab-b402-aed428514e90",
        "colab": {
          "base_uri": "https://localhost:8080/",
          "height": 323
        }
      },
      "cell_type": "code",
      "source": [
        "ProdIdMap.info()\n",
        "ProdIdMap.head(5)"
      ],
      "execution_count": 0,
      "outputs": [
        {
          "output_type": "stream",
          "text": [
            "<class 'pandas.core.frame.DataFrame'>\n",
            "RangeIndex: 923 entries, 0 to 922\n",
            "Data columns (total 2 columns):\n",
            "Product_Name    923 non-null object\n",
            "Prod_Id         923 non-null int64\n",
            "dtypes: int64(1), object(1)\n",
            "memory usage: 14.5+ KB\n"
          ],
          "name": "stdout"
        },
        {
          "output_type": "execute_result",
          "data": {
            "text/html": [
              "<div>\n",
              "<style scoped>\n",
              "    .dataframe tbody tr th:only-of-type {\n",
              "        vertical-align: middle;\n",
              "    }\n",
              "\n",
              "    .dataframe tbody tr th {\n",
              "        vertical-align: top;\n",
              "    }\n",
              "\n",
              "    .dataframe thead th {\n",
              "        text-align: right;\n",
              "    }\n",
              "</style>\n",
              "<table border=\"1\" class=\"dataframe\">\n",
              "  <thead>\n",
              "    <tr style=\"text-align: right;\">\n",
              "      <th></th>\n",
              "      <th>Product_Name</th>\n",
              "      <th>Prod_Id</th>\n",
              "    </tr>\n",
              "  </thead>\n",
              "  <tbody>\n",
              "    <tr>\n",
              "      <th>0</th>\n",
              "      <td>Snack</td>\n",
              "      <td>0</td>\n",
              "    </tr>\n",
              "    <tr>\n",
              "      <th>1</th>\n",
              "      <td>Peppino’s</td>\n",
              "      <td>1</td>\n",
              "    </tr>\n",
              "    <tr>\n",
              "      <th>2</th>\n",
              "      <td>Dekalb Restaurant</td>\n",
              "      <td>3</td>\n",
              "    </tr>\n",
              "    <tr>\n",
              "      <th>3</th>\n",
              "      <td>Le Parisien</td>\n",
              "      <td>4</td>\n",
              "    </tr>\n",
              "    <tr>\n",
              "      <th>4</th>\n",
              "      <td>Blue Spoon Coffee</td>\n",
              "      <td>5</td>\n",
              "    </tr>\n",
              "  </tbody>\n",
              "</table>\n",
              "</div>"
            ],
            "text/plain": [
              "        Product_Name  Prod_Id\n",
              "0              Snack        0\n",
              "1          Peppino’s        1\n",
              "2  Dekalb Restaurant        3\n",
              "3        Le Parisien        4\n",
              "4  Blue Spoon Coffee        5"
            ]
          },
          "metadata": {
            "tags": []
          },
          "execution_count": 6
        }
      ]
    },
    {
      "metadata": {
        "_uuid": "7077238dfdca71aa3f9fdd3845f2791dbfda8c47",
        "id": "EqMlF3HWwKEW",
        "colab_type": "code",
        "outputId": "db71332e-63ed-4faf-ef95-e7e700a3b870",
        "colab": {
          "base_uri": "https://localhost:8080/",
          "height": 34
        }
      },
      "cell_type": "code",
      "source": [
        "link = \"https://drive.google.com/open?id=1qf_XRN-d2phMxy22vsx-RzOiP0Jw--lh\"\n",
        "fluff, id = link.split('=')\n",
        "print (id) # Verify that you have everything after '='\n",
        "downloaded = drive.CreateFile({'id':id}) \n",
        "downloaded.GetContentFile('reviewContent.tsv')\n",
        "review = pd.read_csv(\"reviewContent.tsv\", sep = '\\t', header = 0)"
      ],
      "execution_count": 0,
      "outputs": [
        {
          "output_type": "stream",
          "text": [
            "1qf_XRN-d2phMxy22vsx-RzOiP0Jw--lh\n"
          ],
          "name": "stdout"
        }
      ]
    },
    {
      "metadata": {
        "_uuid": "95aaa774976a12c1055389a7d0c3ae108075762c",
        "id": "il4LYgh4wKEe",
        "colab_type": "code",
        "outputId": "8af319ae-4c0d-4511-df74-55ff56fe26bf",
        "colab": {
          "base_uri": "https://localhost:8080/",
          "height": 357
        }
      },
      "cell_type": "code",
      "source": [
        "review.info()\n",
        "review.head()"
      ],
      "execution_count": 0,
      "outputs": [
        {
          "output_type": "stream",
          "text": [
            "<class 'pandas.core.frame.DataFrame'>\n",
            "RangeIndex: 358957 entries, 0 to 358956\n",
            "Data columns (total 4 columns):\n",
            "User Id       358957 non-null int64\n",
            "Product Id    358957 non-null int64\n",
            "Date          358957 non-null object\n",
            "Review        358957 non-null object\n",
            "dtypes: int64(2), object(2)\n",
            "memory usage: 11.0+ MB\n"
          ],
          "name": "stdout"
        },
        {
          "output_type": "execute_result",
          "data": {
            "text/html": [
              "<div>\n",
              "<style scoped>\n",
              "    .dataframe tbody tr th:only-of-type {\n",
              "        vertical-align: middle;\n",
              "    }\n",
              "\n",
              "    .dataframe tbody tr th {\n",
              "        vertical-align: top;\n",
              "    }\n",
              "\n",
              "    .dataframe thead th {\n",
              "        text-align: right;\n",
              "    }\n",
              "</style>\n",
              "<table border=\"1\" class=\"dataframe\">\n",
              "  <thead>\n",
              "    <tr style=\"text-align: right;\">\n",
              "      <th></th>\n",
              "      <th>User Id</th>\n",
              "      <th>Product Id</th>\n",
              "      <th>Date</th>\n",
              "      <th>Review</th>\n",
              "    </tr>\n",
              "  </thead>\n",
              "  <tbody>\n",
              "    <tr>\n",
              "      <th>0</th>\n",
              "      <td>923</td>\n",
              "      <td>0</td>\n",
              "      <td>08-12-2014</td>\n",
              "      <td>The food at snack is a selection of popular Gr...</td>\n",
              "    </tr>\n",
              "    <tr>\n",
              "      <th>1</th>\n",
              "      <td>924</td>\n",
              "      <td>0</td>\n",
              "      <td>16-05-2013</td>\n",
              "      <td>This little place in Soho is wonderful. I had ...</td>\n",
              "    </tr>\n",
              "    <tr>\n",
              "      <th>2</th>\n",
              "      <td>925</td>\n",
              "      <td>0</td>\n",
              "      <td>01-07-2013</td>\n",
              "      <td>ordered lunch for 15 from Snack last Friday.  ...</td>\n",
              "    </tr>\n",
              "    <tr>\n",
              "      <th>3</th>\n",
              "      <td>926</td>\n",
              "      <td>0</td>\n",
              "      <td>28-07-2011</td>\n",
              "      <td>This is a beautiful quaint little restaurant o...</td>\n",
              "    </tr>\n",
              "    <tr>\n",
              "      <th>4</th>\n",
              "      <td>927</td>\n",
              "      <td>0</td>\n",
              "      <td>01-11-2010</td>\n",
              "      <td>Snack is great place for a  casual sit down lu...</td>\n",
              "    </tr>\n",
              "  </tbody>\n",
              "</table>\n",
              "</div>"
            ],
            "text/plain": [
              "   User Id  Product Id        Date  \\\n",
              "0      923           0  08-12-2014   \n",
              "1      924           0  16-05-2013   \n",
              "2      925           0  01-07-2013   \n",
              "3      926           0  28-07-2011   \n",
              "4      927           0  01-11-2010   \n",
              "\n",
              "                                             Review   \n",
              "0  The food at snack is a selection of popular Gr...  \n",
              "1  This little place in Soho is wonderful. I had ...  \n",
              "2  ordered lunch for 15 from Snack last Friday.  ...  \n",
              "3  This is a beautiful quaint little restaurant o...  \n",
              "4  Snack is great place for a  casual sit down lu...  "
            ]
          },
          "metadata": {
            "tags": []
          },
          "execution_count": 8
        }
      ]
    },
    {
      "metadata": {
        "_uuid": "18e1ae6627629c9d42f3258cb45fd760f0eeff6e",
        "id": "7fcnTg92wKEo",
        "colab_type": "code",
        "colab": {}
      },
      "cell_type": "code",
      "source": [
        "rev_col  = ['User_Id', 'Prod_Id']"
      ],
      "execution_count": 0,
      "outputs": []
    },
    {
      "metadata": {
        "id": "rgux2O8xzdtq",
        "colab_type": "code",
        "outputId": "0185bc9c-dc18-4380-d236-3abb8d5eab81",
        "colab": {
          "base_uri": "https://localhost:8080/",
          "height": 204
        }
      },
      "cell_type": "code",
      "source": [
        "metadata.head(5)"
      ],
      "execution_count": 0,
      "outputs": [
        {
          "output_type": "execute_result",
          "data": {
            "text/html": [
              "<div>\n",
              "<style scoped>\n",
              "    .dataframe tbody tr th:only-of-type {\n",
              "        vertical-align: middle;\n",
              "    }\n",
              "\n",
              "    .dataframe tbody tr th {\n",
              "        vertical-align: top;\n",
              "    }\n",
              "\n",
              "    .dataframe thead th {\n",
              "        text-align: right;\n",
              "    }\n",
              "</style>\n",
              "<table border=\"1\" class=\"dataframe\">\n",
              "  <thead>\n",
              "    <tr style=\"text-align: right;\">\n",
              "      <th></th>\n",
              "      <th>User Id</th>\n",
              "      <th>Product Id</th>\n",
              "      <th>Rating</th>\n",
              "      <th>Label</th>\n",
              "      <th>Date</th>\n",
              "    </tr>\n",
              "  </thead>\n",
              "  <tbody>\n",
              "    <tr>\n",
              "      <th>0</th>\n",
              "      <td>923</td>\n",
              "      <td>0</td>\n",
              "      <td>3</td>\n",
              "      <td>-1</td>\n",
              "      <td>08-12-2014</td>\n",
              "    </tr>\n",
              "    <tr>\n",
              "      <th>1</th>\n",
              "      <td>924</td>\n",
              "      <td>0</td>\n",
              "      <td>3</td>\n",
              "      <td>-1</td>\n",
              "      <td>16-05-2013</td>\n",
              "    </tr>\n",
              "    <tr>\n",
              "      <th>2</th>\n",
              "      <td>925</td>\n",
              "      <td>0</td>\n",
              "      <td>4</td>\n",
              "      <td>-1</td>\n",
              "      <td>01-07-2013</td>\n",
              "    </tr>\n",
              "    <tr>\n",
              "      <th>3</th>\n",
              "      <td>926</td>\n",
              "      <td>0</td>\n",
              "      <td>4</td>\n",
              "      <td>-1</td>\n",
              "      <td>28-07-2011</td>\n",
              "    </tr>\n",
              "    <tr>\n",
              "      <th>4</th>\n",
              "      <td>927</td>\n",
              "      <td>0</td>\n",
              "      <td>4</td>\n",
              "      <td>-1</td>\n",
              "      <td>01-11-2010</td>\n",
              "    </tr>\n",
              "  </tbody>\n",
              "</table>\n",
              "</div>"
            ],
            "text/plain": [
              "   User Id  Product Id  Rating  Label        Date\n",
              "0      923           0       3     -1  08-12-2014\n",
              "1      924           0       3     -1  16-05-2013\n",
              "2      925           0       4     -1  01-07-2013\n",
              "3      926           0       4     -1  28-07-2011\n",
              "4      927           0       4     -1  01-11-2010"
            ]
          },
          "metadata": {
            "tags": []
          },
          "execution_count": 10
        }
      ]
    },
    {
      "metadata": {
        "_uuid": "de0fef1dce626bd58e19ada93bbe50fccca16f14",
        "id": "kr-WsvTXwKEy",
        "colab_type": "code",
        "colab": {}
      },
      "cell_type": "code",
      "source": [
        "metadata.rename(index=str, columns={\"User Id\": \"User_Id\", \"Product Id\": \"Prod_Id\"}, inplace = True)"
      ],
      "execution_count": 0,
      "outputs": []
    },
    {
      "metadata": {
        "id": "ZYUn7_Nlz8RC",
        "colab_type": "code",
        "colab": {}
      },
      "cell_type": "code",
      "source": [
        "review.rename(index=str, columns={\"User Id\": \"User_Id\", \"Product Id\": \"Prod_Id\"}, inplace = True)"
      ],
      "execution_count": 0,
      "outputs": []
    },
    {
      "metadata": {
        "id": "YTed1_JBz3_O",
        "colab_type": "code",
        "outputId": "295f47c9-63ab-41a9-a5f1-43a7c996445e",
        "colab": {
          "base_uri": "https://localhost:8080/",
          "height": 204
        }
      },
      "cell_type": "code",
      "source": [
        "review.head(5)"
      ],
      "execution_count": 0,
      "outputs": [
        {
          "output_type": "execute_result",
          "data": {
            "text/html": [
              "<div>\n",
              "<style scoped>\n",
              "    .dataframe tbody tr th:only-of-type {\n",
              "        vertical-align: middle;\n",
              "    }\n",
              "\n",
              "    .dataframe tbody tr th {\n",
              "        vertical-align: top;\n",
              "    }\n",
              "\n",
              "    .dataframe thead th {\n",
              "        text-align: right;\n",
              "    }\n",
              "</style>\n",
              "<table border=\"1\" class=\"dataframe\">\n",
              "  <thead>\n",
              "    <tr style=\"text-align: right;\">\n",
              "      <th></th>\n",
              "      <th>User_Id</th>\n",
              "      <th>Prod_Id</th>\n",
              "      <th>Date</th>\n",
              "      <th>Review</th>\n",
              "    </tr>\n",
              "  </thead>\n",
              "  <tbody>\n",
              "    <tr>\n",
              "      <th>0</th>\n",
              "      <td>923</td>\n",
              "      <td>0</td>\n",
              "      <td>08-12-2014</td>\n",
              "      <td>The food at snack is a selection of popular Gr...</td>\n",
              "    </tr>\n",
              "    <tr>\n",
              "      <th>1</th>\n",
              "      <td>924</td>\n",
              "      <td>0</td>\n",
              "      <td>16-05-2013</td>\n",
              "      <td>This little place in Soho is wonderful. I had ...</td>\n",
              "    </tr>\n",
              "    <tr>\n",
              "      <th>2</th>\n",
              "      <td>925</td>\n",
              "      <td>0</td>\n",
              "      <td>01-07-2013</td>\n",
              "      <td>ordered lunch for 15 from Snack last Friday.  ...</td>\n",
              "    </tr>\n",
              "    <tr>\n",
              "      <th>3</th>\n",
              "      <td>926</td>\n",
              "      <td>0</td>\n",
              "      <td>28-07-2011</td>\n",
              "      <td>This is a beautiful quaint little restaurant o...</td>\n",
              "    </tr>\n",
              "    <tr>\n",
              "      <th>4</th>\n",
              "      <td>927</td>\n",
              "      <td>0</td>\n",
              "      <td>01-11-2010</td>\n",
              "      <td>Snack is great place for a  casual sit down lu...</td>\n",
              "    </tr>\n",
              "  </tbody>\n",
              "</table>\n",
              "</div>"
            ],
            "text/plain": [
              "   User_Id  Prod_Id        Date  \\\n",
              "0      923        0  08-12-2014   \n",
              "1      924        0  16-05-2013   \n",
              "2      925        0  01-07-2013   \n",
              "3      926        0  28-07-2011   \n",
              "4      927        0  01-11-2010   \n",
              "\n",
              "                                             Review   \n",
              "0  The food at snack is a selection of popular Gr...  \n",
              "1  This little place in Soho is wonderful. I had ...  \n",
              "2  ordered lunch for 15 from Snack last Friday.  ...  \n",
              "3  This is a beautiful quaint little restaurant o...  \n",
              "4  Snack is great place for a  casual sit down lu...  "
            ]
          },
          "metadata": {
            "tags": []
          },
          "execution_count": 13
        }
      ]
    },
    {
      "metadata": {
        "_uuid": "d4aa454f9567c4f038a7ce30cc753d1d6521c3f3",
        "id": "93MKrMJ3wKE6",
        "colab_type": "code",
        "colab": {}
      },
      "cell_type": "code",
      "source": [
        "sampl = review.merge(metadata, how = 'left', left_on = rev_col, right_on=rev_col)"
      ],
      "execution_count": 0,
      "outputs": []
    },
    {
      "metadata": {
        "id": "whcTtkGn0NZJ",
        "colab_type": "code",
        "outputId": "ef605af5-d6eb-41b2-8d52-5b0f280eefc6",
        "colab": {
          "base_uri": "https://localhost:8080/",
          "height": 204
        }
      },
      "cell_type": "code",
      "source": [
        "ProdIdMap.head(5)"
      ],
      "execution_count": 0,
      "outputs": [
        {
          "output_type": "execute_result",
          "data": {
            "text/html": [
              "<div>\n",
              "<style scoped>\n",
              "    .dataframe tbody tr th:only-of-type {\n",
              "        vertical-align: middle;\n",
              "    }\n",
              "\n",
              "    .dataframe tbody tr th {\n",
              "        vertical-align: top;\n",
              "    }\n",
              "\n",
              "    .dataframe thead th {\n",
              "        text-align: right;\n",
              "    }\n",
              "</style>\n",
              "<table border=\"1\" class=\"dataframe\">\n",
              "  <thead>\n",
              "    <tr style=\"text-align: right;\">\n",
              "      <th></th>\n",
              "      <th>Product_Name</th>\n",
              "      <th>Prod_Id</th>\n",
              "    </tr>\n",
              "  </thead>\n",
              "  <tbody>\n",
              "    <tr>\n",
              "      <th>0</th>\n",
              "      <td>Snack</td>\n",
              "      <td>0</td>\n",
              "    </tr>\n",
              "    <tr>\n",
              "      <th>1</th>\n",
              "      <td>Peppino’s</td>\n",
              "      <td>1</td>\n",
              "    </tr>\n",
              "    <tr>\n",
              "      <th>2</th>\n",
              "      <td>Dekalb Restaurant</td>\n",
              "      <td>3</td>\n",
              "    </tr>\n",
              "    <tr>\n",
              "      <th>3</th>\n",
              "      <td>Le Parisien</td>\n",
              "      <td>4</td>\n",
              "    </tr>\n",
              "    <tr>\n",
              "      <th>4</th>\n",
              "      <td>Blue Spoon Coffee</td>\n",
              "      <td>5</td>\n",
              "    </tr>\n",
              "  </tbody>\n",
              "</table>\n",
              "</div>"
            ],
            "text/plain": [
              "        Product_Name  Prod_Id\n",
              "0              Snack        0\n",
              "1          Peppino’s        1\n",
              "2  Dekalb Restaurant        3\n",
              "3        Le Parisien        4\n",
              "4  Blue Spoon Coffee        5"
            ]
          },
          "metadata": {
            "tags": []
          },
          "execution_count": 15
        }
      ]
    },
    {
      "metadata": {
        "_uuid": "c52cd3a308c8ffd15ddf6c61a3aaebce965caf5a",
        "id": "uFgpYdoPwKFH",
        "colab_type": "code",
        "colab": {}
      },
      "cell_type": "code",
      "source": [
        "final = pd.merge(sampl, ProdIdMap, on = 'Prod_Id')"
      ],
      "execution_count": 0,
      "outputs": []
    },
    {
      "metadata": {
        "id": "ofkAUXrRVDoT",
        "colab_type": "text"
      },
      "cell_type": "markdown",
      "source": [
        "Getting our merged dataset from different files"
      ]
    },
    {
      "metadata": {
        "_uuid": "763c9ea098cb667a15836e990e66928d75d8ad2f",
        "id": "xZSSYn-iwKFO",
        "colab_type": "code",
        "outputId": "a947dcaf-76fb-4485-c644-41862c4195a0",
        "colab": {
          "base_uri": "https://localhost:8080/",
          "height": 204
        }
      },
      "cell_type": "code",
      "source": [
        "final.head()"
      ],
      "execution_count": 0,
      "outputs": [
        {
          "output_type": "execute_result",
          "data": {
            "text/html": [
              "<div>\n",
              "<style scoped>\n",
              "    .dataframe tbody tr th:only-of-type {\n",
              "        vertical-align: middle;\n",
              "    }\n",
              "\n",
              "    .dataframe tbody tr th {\n",
              "        vertical-align: top;\n",
              "    }\n",
              "\n",
              "    .dataframe thead th {\n",
              "        text-align: right;\n",
              "    }\n",
              "</style>\n",
              "<table border=\"1\" class=\"dataframe\">\n",
              "  <thead>\n",
              "    <tr style=\"text-align: right;\">\n",
              "      <th></th>\n",
              "      <th>User_Id</th>\n",
              "      <th>Prod_Id</th>\n",
              "      <th>Date_x</th>\n",
              "      <th>Review</th>\n",
              "      <th>Rating</th>\n",
              "      <th>Label</th>\n",
              "      <th>Date_y</th>\n",
              "      <th>Product_Name</th>\n",
              "    </tr>\n",
              "  </thead>\n",
              "  <tbody>\n",
              "    <tr>\n",
              "      <th>0</th>\n",
              "      <td>923</td>\n",
              "      <td>0</td>\n",
              "      <td>08-12-2014</td>\n",
              "      <td>The food at snack is a selection of popular Gr...</td>\n",
              "      <td>3</td>\n",
              "      <td>-1</td>\n",
              "      <td>08-12-2014</td>\n",
              "      <td>Snack</td>\n",
              "    </tr>\n",
              "    <tr>\n",
              "      <th>1</th>\n",
              "      <td>924</td>\n",
              "      <td>0</td>\n",
              "      <td>16-05-2013</td>\n",
              "      <td>This little place in Soho is wonderful. I had ...</td>\n",
              "      <td>3</td>\n",
              "      <td>-1</td>\n",
              "      <td>16-05-2013</td>\n",
              "      <td>Snack</td>\n",
              "    </tr>\n",
              "    <tr>\n",
              "      <th>2</th>\n",
              "      <td>925</td>\n",
              "      <td>0</td>\n",
              "      <td>01-07-2013</td>\n",
              "      <td>ordered lunch for 15 from Snack last Friday.  ...</td>\n",
              "      <td>4</td>\n",
              "      <td>-1</td>\n",
              "      <td>01-07-2013</td>\n",
              "      <td>Snack</td>\n",
              "    </tr>\n",
              "    <tr>\n",
              "      <th>3</th>\n",
              "      <td>926</td>\n",
              "      <td>0</td>\n",
              "      <td>28-07-2011</td>\n",
              "      <td>This is a beautiful quaint little restaurant o...</td>\n",
              "      <td>4</td>\n",
              "      <td>-1</td>\n",
              "      <td>28-07-2011</td>\n",
              "      <td>Snack</td>\n",
              "    </tr>\n",
              "    <tr>\n",
              "      <th>4</th>\n",
              "      <td>927</td>\n",
              "      <td>0</td>\n",
              "      <td>01-11-2010</td>\n",
              "      <td>Snack is great place for a  casual sit down lu...</td>\n",
              "      <td>4</td>\n",
              "      <td>-1</td>\n",
              "      <td>01-11-2010</td>\n",
              "      <td>Snack</td>\n",
              "    </tr>\n",
              "  </tbody>\n",
              "</table>\n",
              "</div>"
            ],
            "text/plain": [
              "   User_Id  Prod_Id      Date_x  \\\n",
              "0      923        0  08-12-2014   \n",
              "1      924        0  16-05-2013   \n",
              "2      925        0  01-07-2013   \n",
              "3      926        0  28-07-2011   \n",
              "4      927        0  01-11-2010   \n",
              "\n",
              "                                             Review   Rating  Label  \\\n",
              "0  The food at snack is a selection of popular Gr...       3     -1   \n",
              "1  This little place in Soho is wonderful. I had ...       3     -1   \n",
              "2  ordered lunch for 15 from Snack last Friday.  ...       4     -1   \n",
              "3  This is a beautiful quaint little restaurant o...       4     -1   \n",
              "4  Snack is great place for a  casual sit down lu...       4     -1   \n",
              "\n",
              "       Date_y Product_Name  \n",
              "0  08-12-2014        Snack  \n",
              "1  16-05-2013        Snack  \n",
              "2  01-07-2013        Snack  \n",
              "3  28-07-2011        Snack  \n",
              "4  01-11-2010        Snack  "
            ]
          },
          "metadata": {
            "tags": []
          },
          "execution_count": 17
        }
      ]
    },
    {
      "metadata": {
        "_uuid": "92dec1140aff49057f403d13e26a128ec43232ba",
        "id": "nj8HYAoLwKFc",
        "colab_type": "code",
        "colab": {}
      },
      "cell_type": "code",
      "source": [
        "final.drop(columns='Date_y', inplace=True)"
      ],
      "execution_count": 0,
      "outputs": []
    },
    {
      "metadata": {
        "_uuid": "0afc42084397305e9eb8a1dce4885937c12ce06f",
        "id": "b9SDBS31wKFk",
        "colab_type": "code",
        "outputId": "386693bd-02fc-4686-b054-67841e22c6f6",
        "colab": {
          "base_uri": "https://localhost:8080/",
          "height": 204
        }
      },
      "cell_type": "code",
      "source": [
        "final.head()"
      ],
      "execution_count": 0,
      "outputs": [
        {
          "output_type": "execute_result",
          "data": {
            "text/html": [
              "<div>\n",
              "<style scoped>\n",
              "    .dataframe tbody tr th:only-of-type {\n",
              "        vertical-align: middle;\n",
              "    }\n",
              "\n",
              "    .dataframe tbody tr th {\n",
              "        vertical-align: top;\n",
              "    }\n",
              "\n",
              "    .dataframe thead th {\n",
              "        text-align: right;\n",
              "    }\n",
              "</style>\n",
              "<table border=\"1\" class=\"dataframe\">\n",
              "  <thead>\n",
              "    <tr style=\"text-align: right;\">\n",
              "      <th></th>\n",
              "      <th>User_Id</th>\n",
              "      <th>Prod_Id</th>\n",
              "      <th>Date_x</th>\n",
              "      <th>Review</th>\n",
              "      <th>Rating</th>\n",
              "      <th>Label</th>\n",
              "      <th>Product_Name</th>\n",
              "    </tr>\n",
              "  </thead>\n",
              "  <tbody>\n",
              "    <tr>\n",
              "      <th>0</th>\n",
              "      <td>923</td>\n",
              "      <td>0</td>\n",
              "      <td>08-12-2014</td>\n",
              "      <td>The food at snack is a selection of popular Gr...</td>\n",
              "      <td>3</td>\n",
              "      <td>-1</td>\n",
              "      <td>Snack</td>\n",
              "    </tr>\n",
              "    <tr>\n",
              "      <th>1</th>\n",
              "      <td>924</td>\n",
              "      <td>0</td>\n",
              "      <td>16-05-2013</td>\n",
              "      <td>This little place in Soho is wonderful. I had ...</td>\n",
              "      <td>3</td>\n",
              "      <td>-1</td>\n",
              "      <td>Snack</td>\n",
              "    </tr>\n",
              "    <tr>\n",
              "      <th>2</th>\n",
              "      <td>925</td>\n",
              "      <td>0</td>\n",
              "      <td>01-07-2013</td>\n",
              "      <td>ordered lunch for 15 from Snack last Friday.  ...</td>\n",
              "      <td>4</td>\n",
              "      <td>-1</td>\n",
              "      <td>Snack</td>\n",
              "    </tr>\n",
              "    <tr>\n",
              "      <th>3</th>\n",
              "      <td>926</td>\n",
              "      <td>0</td>\n",
              "      <td>28-07-2011</td>\n",
              "      <td>This is a beautiful quaint little restaurant o...</td>\n",
              "      <td>4</td>\n",
              "      <td>-1</td>\n",
              "      <td>Snack</td>\n",
              "    </tr>\n",
              "    <tr>\n",
              "      <th>4</th>\n",
              "      <td>927</td>\n",
              "      <td>0</td>\n",
              "      <td>01-11-2010</td>\n",
              "      <td>Snack is great place for a  casual sit down lu...</td>\n",
              "      <td>4</td>\n",
              "      <td>-1</td>\n",
              "      <td>Snack</td>\n",
              "    </tr>\n",
              "  </tbody>\n",
              "</table>\n",
              "</div>"
            ],
            "text/plain": [
              "   User_Id  Prod_Id      Date_x  \\\n",
              "0      923        0  08-12-2014   \n",
              "1      924        0  16-05-2013   \n",
              "2      925        0  01-07-2013   \n",
              "3      926        0  28-07-2011   \n",
              "4      927        0  01-11-2010   \n",
              "\n",
              "                                             Review   Rating  Label  \\\n",
              "0  The food at snack is a selection of popular Gr...       3     -1   \n",
              "1  This little place in Soho is wonderful. I had ...       3     -1   \n",
              "2  ordered lunch for 15 from Snack last Friday.  ...       4     -1   \n",
              "3  This is a beautiful quaint little restaurant o...       4     -1   \n",
              "4  Snack is great place for a  casual sit down lu...       4     -1   \n",
              "\n",
              "  Product_Name  \n",
              "0        Snack  \n",
              "1        Snack  \n",
              "2        Snack  \n",
              "3        Snack  \n",
              "4        Snack  "
            ]
          },
          "metadata": {
            "tags": []
          },
          "execution_count": 19
        }
      ]
    },
    {
      "metadata": {
        "_uuid": "813537e298dfcfe0a94cdb870df8ddaedd60fb33",
        "id": "rxqQ16kswKHJ",
        "colab_type": "code",
        "outputId": "abc55661-14b0-4622-ac24-6f0bfd49553b",
        "colab": {
          "base_uri": "https://localhost:8080/",
          "height": 337
        }
      },
      "cell_type": "code",
      "source": [
        "plt.hist(data=final, x=final.Rating, bins=10)"
      ],
      "execution_count": 0,
      "outputs": [
        {
          "output_type": "execute_result",
          "data": {
            "text/plain": [
              "(array([ 14222.,      0.,  20774.,      0.,      0.,  47631.,      0.,\n",
              "        135202.,      0., 141128.]),\n",
              " array([1. , 1.4, 1.8, 2.2, 2.6, 3. , 3.4, 3.8, 4.2, 4.6, 5. ]),\n",
              " <a list of 10 Patch objects>)"
            ]
          },
          "metadata": {
            "tags": []
          },
          "execution_count": 21
        },
        {
          "output_type": "display_data",
          "data": {
            "image/png": "[encoded data removed]",
            "text/plain": [
              "<Figure size 432x288 with 1 Axes>"
            ]
          },
          "metadata": {
            "tags": []
          }
        }
      ]
    },
    {
      "metadata": {
        "_uuid": "a1e35315d8ed0b3311899679c2c83df3e6c262b5",
        "id": "bm5cRut7wKHR",
        "colab_type": "text"
      },
      "cell_type": "markdown",
      "source": [
        "We can see that the data is right skewed, Lets the the average ratings per restaurant"
      ]
    },
    {
      "metadata": {
        "_uuid": "9d18b7ce0b670ebdf669ba79dea6ad4a62161818",
        "id": "nKhihbZmwKHT",
        "colab_type": "code",
        "colab": {}
      },
      "cell_type": "code",
      "source": [
        "average_rating_per_product = final.groupby('Product_Name')['Rating'].mean()"
      ],
      "execution_count": 0,
      "outputs": []
    },
    {
      "metadata": {
        "_uuid": "dbffb189f7f6647b1049a6ea3f1c042dfd6e79ff",
        "id": "K7RwhcIswKHb",
        "colab_type": "code",
        "outputId": "0f278b47-dcea-4df7-be8c-967a2f6f3e72",
        "colab": {
          "base_uri": "https://localhost:8080/",
          "height": 136
        }
      },
      "cell_type": "code",
      "source": [
        "average_rating_per_product.head()"
      ],
      "execution_count": 0,
      "outputs": [
        {
          "output_type": "execute_result",
          "data": {
            "text/plain": [
              "Product_Name\n",
              "10 Devoe                      4.863636\n",
              "100 Montaditos                3.981221\n",
              "983-Bushwick’s Living Room    3.896739\n",
              "99 Favor Taste                3.993610\n",
              "A Little Taste                4.782609\n",
              "Name: Rating, dtype: float64"
            ]
          },
          "metadata": {
            "tags": []
          },
          "execution_count": 23
        }
      ]
    },
    {
      "metadata": {
        "_uuid": "e39eb6b48aebcec0ca659f5ef924d4162b55d429",
        "id": "NG8M1BFSwKHj",
        "colab_type": "code",
        "colab": {}
      },
      "cell_type": "code",
      "source": [
        "average_rating_per_product =  average_rating_per_product.to_frame()"
      ],
      "execution_count": 0,
      "outputs": []
    },
    {
      "metadata": {
        "_uuid": "c0065898fe016e8c1b2ddc93685779fd3b42144c",
        "id": "1HnumSNdwKHt",
        "colab_type": "code",
        "outputId": "ffddf390-08a9-415a-f743-9026a9257f56",
        "colab": {
          "base_uri": "https://localhost:8080/",
          "height": 235
        }
      },
      "cell_type": "code",
      "source": [
        "average_rating_per_product.head()"
      ],
      "execution_count": 0,
      "outputs": [
        {
          "output_type": "execute_result",
          "data": {
            "text/html": [
              "<div>\n",
              "<style scoped>\n",
              "    .dataframe tbody tr th:only-of-type {\n",
              "        vertical-align: middle;\n",
              "    }\n",
              "\n",
              "    .dataframe tbody tr th {\n",
              "        vertical-align: top;\n",
              "    }\n",
              "\n",
              "    .dataframe thead th {\n",
              "        text-align: right;\n",
              "    }\n",
              "</style>\n",
              "<table border=\"1\" class=\"dataframe\">\n",
              "  <thead>\n",
              "    <tr style=\"text-align: right;\">\n",
              "      <th></th>\n",
              "      <th>Rating</th>\n",
              "    </tr>\n",
              "    <tr>\n",
              "      <th>Product_Name</th>\n",
              "      <th></th>\n",
              "    </tr>\n",
              "  </thead>\n",
              "  <tbody>\n",
              "    <tr>\n",
              "      <th>10 Devoe</th>\n",
              "      <td>4.863636</td>\n",
              "    </tr>\n",
              "    <tr>\n",
              "      <th>100 Montaditos</th>\n",
              "      <td>3.981221</td>\n",
              "    </tr>\n",
              "    <tr>\n",
              "      <th>983-Bushwick’s Living Room</th>\n",
              "      <td>3.896739</td>\n",
              "    </tr>\n",
              "    <tr>\n",
              "      <th>99 Favor Taste</th>\n",
              "      <td>3.993610</td>\n",
              "    </tr>\n",
              "    <tr>\n",
              "      <th>A Little Taste</th>\n",
              "      <td>4.782609</td>\n",
              "    </tr>\n",
              "  </tbody>\n",
              "</table>\n",
              "</div>"
            ],
            "text/plain": [
              "                              Rating\n",
              "Product_Name                        \n",
              "10 Devoe                    4.863636\n",
              "100 Montaditos              3.981221\n",
              "983-Bushwick’s Living Room  3.896739\n",
              "99 Favor Taste              3.993610\n",
              "A Little Taste              4.782609"
            ]
          },
          "metadata": {
            "tags": []
          },
          "execution_count": 25
        }
      ]
    },
    {
      "metadata": {
        "_uuid": "ebe4704549cb066b5f4e71bc033d8e82223e10db",
        "id": "jn82uL1xwKH1",
        "colab_type": "code",
        "colab": {}
      },
      "cell_type": "code",
      "source": [
        "average_rating_per_product.reset_index(level=0, inplace=True)"
      ],
      "execution_count": 0,
      "outputs": []
    },
    {
      "metadata": {
        "_uuid": "ab3c7716f8f640fb65dfb1af3364ae98aa945d07",
        "id": "3c74qTeowKH6",
        "colab_type": "text"
      },
      "cell_type": "markdown",
      "source": [
        "Adding feature in existing dataset of average rating of the product."
      ]
    },
    {
      "metadata": {
        "_uuid": "90df8f7371266434cb308ae1cb7ba59c8f197ec6",
        "id": "jKP_kxEswKH8",
        "colab_type": "code",
        "colab": {}
      },
      "cell_type": "code",
      "source": [
        "average_rating_per_product = average_rating_per_product.rename(columns={'Rating':'Avg_Prod_Rating'})"
      ],
      "execution_count": 0,
      "outputs": []
    },
    {
      "metadata": {
        "_uuid": "05a07c2cf3c5abe488fcb0f3f1a932e33ff0bfca",
        "id": "Onc-OUkJwKIB",
        "colab_type": "code",
        "outputId": "515d11a5-441e-4fd7-ac1a-53ec8deac9b9",
        "colab": {
          "base_uri": "https://localhost:8080/",
          "height": 204
        }
      },
      "cell_type": "code",
      "source": [
        "average_rating_per_product.head()"
      ],
      "execution_count": 0,
      "outputs": [
        {
          "output_type": "execute_result",
          "data": {
            "text/html": [
              "<div>\n",
              "<style scoped>\n",
              "    .dataframe tbody tr th:only-of-type {\n",
              "        vertical-align: middle;\n",
              "    }\n",
              "\n",
              "    .dataframe tbody tr th {\n",
              "        vertical-align: top;\n",
              "    }\n",
              "\n",
              "    .dataframe thead th {\n",
              "        text-align: right;\n",
              "    }\n",
              "</style>\n",
              "<table border=\"1\" class=\"dataframe\">\n",
              "  <thead>\n",
              "    <tr style=\"text-align: right;\">\n",
              "      <th></th>\n",
              "      <th>Product_Name</th>\n",
              "      <th>Avg_Prod_Rating</th>\n",
              "    </tr>\n",
              "  </thead>\n",
              "  <tbody>\n",
              "    <tr>\n",
              "      <th>0</th>\n",
              "      <td>10 Devoe</td>\n",
              "      <td>4.863636</td>\n",
              "    </tr>\n",
              "    <tr>\n",
              "      <th>1</th>\n",
              "      <td>100 Montaditos</td>\n",
              "      <td>3.981221</td>\n",
              "    </tr>\n",
              "    <tr>\n",
              "      <th>2</th>\n",
              "      <td>983-Bushwick’s Living Room</td>\n",
              "      <td>3.896739</td>\n",
              "    </tr>\n",
              "    <tr>\n",
              "      <th>3</th>\n",
              "      <td>99 Favor Taste</td>\n",
              "      <td>3.993610</td>\n",
              "    </tr>\n",
              "    <tr>\n",
              "      <th>4</th>\n",
              "      <td>A Little Taste</td>\n",
              "      <td>4.782609</td>\n",
              "    </tr>\n",
              "  </tbody>\n",
              "</table>\n",
              "</div>"
            ],
            "text/plain": [
              "                 Product_Name  Avg_Prod_Rating\n",
              "0                    10 Devoe         4.863636\n",
              "1              100 Montaditos         3.981221\n",
              "2  983-Bushwick’s Living Room         3.896739\n",
              "3              99 Favor Taste         3.993610\n",
              "4              A Little Taste         4.782609"
            ]
          },
          "metadata": {
            "tags": []
          },
          "execution_count": 28
        }
      ]
    },
    {
      "metadata": {
        "_uuid": "91e0bb2afb82ab3a675a948362a7e01f88408fef",
        "id": "SJDuddIdwKIQ",
        "colab_type": "code",
        "colab": {}
      },
      "cell_type": "code",
      "source": [
        "final = final.merge(average_rating_per_product, left_on='Product_Name', right_on='Product_Name')"
      ],
      "execution_count": 0,
      "outputs": []
    },
    {
      "metadata": {
        "_uuid": "a86c031c4b6c20932d7e54f096a2628202b4b2a8",
        "id": "o_sNX_hpwKIW",
        "colab_type": "code",
        "outputId": "c54bf3ab-90c5-4f8d-8d04-f9bcb6a053d9",
        "colab": {
          "base_uri": "https://localhost:8080/",
          "height": 204
        }
      },
      "cell_type": "code",
      "source": [
        "final.head()"
      ],
      "execution_count": 0,
      "outputs": [
        {
          "output_type": "execute_result",
          "data": {
            "text/html": [
              "<div>\n",
              "<style scoped>\n",
              "    .dataframe tbody tr th:only-of-type {\n",
              "        vertical-align: middle;\n",
              "    }\n",
              "\n",
              "    .dataframe tbody tr th {\n",
              "        vertical-align: top;\n",
              "    }\n",
              "\n",
              "    .dataframe thead th {\n",
              "        text-align: right;\n",
              "    }\n",
              "</style>\n",
              "<table border=\"1\" class=\"dataframe\">\n",
              "  <thead>\n",
              "    <tr style=\"text-align: right;\">\n",
              "      <th></th>\n",
              "      <th>User_Id</th>\n",
              "      <th>Prod_Id</th>\n",
              "      <th>Date_x</th>\n",
              "      <th>Review</th>\n",
              "      <th>Rating</th>\n",
              "      <th>Label</th>\n",
              "      <th>Product_Name</th>\n",
              "      <th>Avg_Prod_Rating</th>\n",
              "    </tr>\n",
              "  </thead>\n",
              "  <tbody>\n",
              "    <tr>\n",
              "      <th>0</th>\n",
              "      <td>923</td>\n",
              "      <td>0</td>\n",
              "      <td>08-12-2014</td>\n",
              "      <td>The food at snack is a selection of popular Gr...</td>\n",
              "      <td>3</td>\n",
              "      <td>-1</td>\n",
              "      <td>Snack</td>\n",
              "      <td>4.009524</td>\n",
              "    </tr>\n",
              "    <tr>\n",
              "      <th>1</th>\n",
              "      <td>924</td>\n",
              "      <td>0</td>\n",
              "      <td>16-05-2013</td>\n",
              "      <td>This little place in Soho is wonderful. I had ...</td>\n",
              "      <td>3</td>\n",
              "      <td>-1</td>\n",
              "      <td>Snack</td>\n",
              "      <td>4.009524</td>\n",
              "    </tr>\n",
              "    <tr>\n",
              "      <th>2</th>\n",
              "      <td>925</td>\n",
              "      <td>0</td>\n",
              "      <td>01-07-2013</td>\n",
              "      <td>ordered lunch for 15 from Snack last Friday.  ...</td>\n",
              "      <td>4</td>\n",
              "      <td>-1</td>\n",
              "      <td>Snack</td>\n",
              "      <td>4.009524</td>\n",
              "    </tr>\n",
              "    <tr>\n",
              "      <th>3</th>\n",
              "      <td>926</td>\n",
              "      <td>0</td>\n",
              "      <td>28-07-2011</td>\n",
              "      <td>This is a beautiful quaint little restaurant o...</td>\n",
              "      <td>4</td>\n",
              "      <td>-1</td>\n",
              "      <td>Snack</td>\n",
              "      <td>4.009524</td>\n",
              "    </tr>\n",
              "    <tr>\n",
              "      <th>4</th>\n",
              "      <td>927</td>\n",
              "      <td>0</td>\n",
              "      <td>01-11-2010</td>\n",
              "      <td>Snack is great place for a  casual sit down lu...</td>\n",
              "      <td>4</td>\n",
              "      <td>-1</td>\n",
              "      <td>Snack</td>\n",
              "      <td>4.009524</td>\n",
              "    </tr>\n",
              "  </tbody>\n",
              "</table>\n",
              "</div>"
            ],
            "text/plain": [
              "   User_Id  Prod_Id      Date_x  \\\n",
              "0      923        0  08-12-2014   \n",
              "1      924        0  16-05-2013   \n",
              "2      925        0  01-07-2013   \n",
              "3      926        0  28-07-2011   \n",
              "4      927        0  01-11-2010   \n",
              "\n",
              "                                             Review   Rating  Label  \\\n",
              "0  The food at snack is a selection of popular Gr...       3     -1   \n",
              "1  This little place in Soho is wonderful. I had ...       3     -1   \n",
              "2  ordered lunch for 15 from Snack last Friday.  ...       4     -1   \n",
              "3  This is a beautiful quaint little restaurant o...       4     -1   \n",
              "4  Snack is great place for a  casual sit down lu...       4     -1   \n",
              "\n",
              "  Product_Name  Avg_Prod_Rating  \n",
              "0        Snack         4.009524  \n",
              "1        Snack         4.009524  \n",
              "2        Snack         4.009524  \n",
              "3        Snack         4.009524  \n",
              "4        Snack         4.009524  "
            ]
          },
          "metadata": {
            "tags": []
          },
          "execution_count": 30
        }
      ]
    },
    {
      "metadata": {
        "_uuid": "1878aa6e4976198e5879976edab4691153516015",
        "id": "ppzsSRBawKI0",
        "colab_type": "text"
      },
      "cell_type": "markdown",
      "source": [
        "Lets add feature of average rating that the user gives for comparison"
      ]
    },
    {
      "metadata": {
        "_uuid": "8a06b3be8ccb38a4996d62915cac0da6b2afb632",
        "id": "U3iKqzU6wKI2",
        "colab_type": "code",
        "colab": {}
      },
      "cell_type": "code",
      "source": [
        "average_rating_per_user = final.groupby('User_Id')['Rating'].mean()"
      ],
      "execution_count": 0,
      "outputs": []
    },
    {
      "metadata": {
        "_uuid": "cd8710209a5db10a6088dd1837673bd1c0f0bcf9",
        "id": "v60xHiXPwKI7",
        "colab_type": "code",
        "colab": {}
      },
      "cell_type": "code",
      "source": [
        "average_rating_per_user = average_rating_per_user.to_frame()"
      ],
      "execution_count": 0,
      "outputs": []
    },
    {
      "metadata": {
        "_uuid": "08bc281f6e2e1dcfacf76276accd622a8bced269",
        "id": "AcnagzVSwKJD",
        "colab_type": "code",
        "colab": {}
      },
      "cell_type": "code",
      "source": [
        "average_rating_per_user.reset_index(level=0, inplace=True)"
      ],
      "execution_count": 0,
      "outputs": []
    },
    {
      "metadata": {
        "_uuid": "e586d118dfdcd3532f8a2c0f55178f78b261349a",
        "id": "CNcWGXYGwKJI",
        "colab_type": "code",
        "outputId": "5fa1ba37-6392-4592-b976-2927c7bdb8f0",
        "colab": {
          "base_uri": "https://localhost:8080/",
          "height": 204
        }
      },
      "cell_type": "code",
      "source": [
        "average_rating_per_user.head()"
      ],
      "execution_count": 0,
      "outputs": [
        {
          "output_type": "execute_result",
          "data": {
            "text/html": [
              "<div>\n",
              "<style scoped>\n",
              "    .dataframe tbody tr th:only-of-type {\n",
              "        vertical-align: middle;\n",
              "    }\n",
              "\n",
              "    .dataframe tbody tr th {\n",
              "        vertical-align: top;\n",
              "    }\n",
              "\n",
              "    .dataframe thead th {\n",
              "        text-align: right;\n",
              "    }\n",
              "</style>\n",
              "<table border=\"1\" class=\"dataframe\">\n",
              "  <thead>\n",
              "    <tr style=\"text-align: right;\">\n",
              "      <th></th>\n",
              "      <th>User_Id</th>\n",
              "      <th>Rating</th>\n",
              "    </tr>\n",
              "  </thead>\n",
              "  <tbody>\n",
              "    <tr>\n",
              "      <th>0</th>\n",
              "      <td>923</td>\n",
              "      <td>4.435897</td>\n",
              "    </tr>\n",
              "    <tr>\n",
              "      <th>1</th>\n",
              "      <td>924</td>\n",
              "      <td>3.000000</td>\n",
              "    </tr>\n",
              "    <tr>\n",
              "      <th>2</th>\n",
              "      <td>925</td>\n",
              "      <td>4.000000</td>\n",
              "    </tr>\n",
              "    <tr>\n",
              "      <th>3</th>\n",
              "      <td>926</td>\n",
              "      <td>4.000000</td>\n",
              "    </tr>\n",
              "    <tr>\n",
              "      <th>4</th>\n",
              "      <td>927</td>\n",
              "      <td>3.600000</td>\n",
              "    </tr>\n",
              "  </tbody>\n",
              "</table>\n",
              "</div>"
            ],
            "text/plain": [
              "   User_Id    Rating\n",
              "0      923  4.435897\n",
              "1      924  3.000000\n",
              "2      925  4.000000\n",
              "3      926  4.000000\n",
              "4      927  3.600000"
            ]
          },
          "metadata": {
            "tags": []
          },
          "execution_count": 34
        }
      ]
    },
    {
      "metadata": {
        "_uuid": "af1decb8be1ceb18ec2def4cebc4f9dd44c4620e",
        "id": "q8tstp9CwKJe",
        "colab_type": "code",
        "colab": {}
      },
      "cell_type": "code",
      "source": [
        "average_rating_per_user = average_rating_per_user.rename(columns={'Rating':'Avg_user_rating'})"
      ],
      "execution_count": 0,
      "outputs": []
    },
    {
      "metadata": {
        "_uuid": "3f68ff52e6ed6f51e806db9796ceab42a48e1ee2",
        "id": "Z2S4TvrFwKJm",
        "colab_type": "code",
        "outputId": "fef09290-3081-4144-f4b5-eeb9b3bf66e9",
        "colab": {
          "base_uri": "https://localhost:8080/",
          "height": 204
        }
      },
      "cell_type": "code",
      "source": [
        "average_rating_per_user.head()"
      ],
      "execution_count": 0,
      "outputs": [
        {
          "output_type": "execute_result",
          "data": {
            "text/html": [
              "<div>\n",
              "<style scoped>\n",
              "    .dataframe tbody tr th:only-of-type {\n",
              "        vertical-align: middle;\n",
              "    }\n",
              "\n",
              "    .dataframe tbody tr th {\n",
              "        vertical-align: top;\n",
              "    }\n",
              "\n",
              "    .dataframe thead th {\n",
              "        text-align: right;\n",
              "    }\n",
              "</style>\n",
              "<table border=\"1\" class=\"dataframe\">\n",
              "  <thead>\n",
              "    <tr style=\"text-align: right;\">\n",
              "      <th></th>\n",
              "      <th>User_Id</th>\n",
              "      <th>Avg_user_rating</th>\n",
              "    </tr>\n",
              "  </thead>\n",
              "  <tbody>\n",
              "    <tr>\n",
              "      <th>0</th>\n",
              "      <td>923</td>\n",
              "      <td>4.435897</td>\n",
              "    </tr>\n",
              "    <tr>\n",
              "      <th>1</th>\n",
              "      <td>924</td>\n",
              "      <td>3.000000</td>\n",
              "    </tr>\n",
              "    <tr>\n",
              "      <th>2</th>\n",
              "      <td>925</td>\n",
              "      <td>4.000000</td>\n",
              "    </tr>\n",
              "    <tr>\n",
              "      <th>3</th>\n",
              "      <td>926</td>\n",
              "      <td>4.000000</td>\n",
              "    </tr>\n",
              "    <tr>\n",
              "      <th>4</th>\n",
              "      <td>927</td>\n",
              "      <td>3.600000</td>\n",
              "    </tr>\n",
              "  </tbody>\n",
              "</table>\n",
              "</div>"
            ],
            "text/plain": [
              "   User_Id  Avg_user_rating\n",
              "0      923         4.435897\n",
              "1      924         3.000000\n",
              "2      925         4.000000\n",
              "3      926         4.000000\n",
              "4      927         3.600000"
            ]
          },
          "metadata": {
            "tags": []
          },
          "execution_count": 36
        }
      ]
    },
    {
      "metadata": {
        "_uuid": "57e856ad79286bf6255017f02258b7e287ce0b0c",
        "id": "PD7tSO75wKJx",
        "colab_type": "code",
        "colab": {}
      },
      "cell_type": "code",
      "source": [
        "final = final.merge(average_rating_per_user, left_on='User_Id', right_on='User_Id')"
      ],
      "execution_count": 0,
      "outputs": []
    },
    {
      "metadata": {
        "_uuid": "1cafe25f9b7fe337233f8a05a0ebba0be4c49fd8",
        "id": "-CYomKnAwKJ3",
        "colab_type": "code",
        "outputId": "66531b69-a646-4d22-94e8-d467876ca5bd",
        "colab": {
          "base_uri": "https://localhost:8080/",
          "height": 204
        }
      },
      "cell_type": "code",
      "source": [
        "final.head()"
      ],
      "execution_count": 0,
      "outputs": [
        {
          "output_type": "execute_result",
          "data": {
            "text/html": [
              "<div>\n",
              "<style scoped>\n",
              "    .dataframe tbody tr th:only-of-type {\n",
              "        vertical-align: middle;\n",
              "    }\n",
              "\n",
              "    .dataframe tbody tr th {\n",
              "        vertical-align: top;\n",
              "    }\n",
              "\n",
              "    .dataframe thead th {\n",
              "        text-align: right;\n",
              "    }\n",
              "</style>\n",
              "<table border=\"1\" class=\"dataframe\">\n",
              "  <thead>\n",
              "    <tr style=\"text-align: right;\">\n",
              "      <th></th>\n",
              "      <th>User_Id</th>\n",
              "      <th>Prod_Id</th>\n",
              "      <th>Date_x</th>\n",
              "      <th>Review</th>\n",
              "      <th>Rating</th>\n",
              "      <th>Label</th>\n",
              "      <th>Product_Name</th>\n",
              "      <th>Avg_Prod_Rating</th>\n",
              "      <th>Avg_user_rating</th>\n",
              "    </tr>\n",
              "  </thead>\n",
              "  <tbody>\n",
              "    <tr>\n",
              "      <th>0</th>\n",
              "      <td>923</td>\n",
              "      <td>0</td>\n",
              "      <td>08-12-2014</td>\n",
              "      <td>The food at snack is a selection of popular Gr...</td>\n",
              "      <td>3</td>\n",
              "      <td>-1</td>\n",
              "      <td>Snack</td>\n",
              "      <td>4.009524</td>\n",
              "      <td>4.435897</td>\n",
              "    </tr>\n",
              "    <tr>\n",
              "      <th>1</th>\n",
              "      <td>923</td>\n",
              "      <td>19</td>\n",
              "      <td>14-01-2014</td>\n",
              "      <td>The restaurant is on the ground floor of a typ...</td>\n",
              "      <td>5</td>\n",
              "      <td>-1</td>\n",
              "      <td>Palo Santo</td>\n",
              "      <td>4.037152</td>\n",
              "      <td>4.435897</td>\n",
              "    </tr>\n",
              "    <tr>\n",
              "      <th>2</th>\n",
              "      <td>923</td>\n",
              "      <td>40</td>\n",
              "      <td>30-05-2014</td>\n",
              "      <td>Really nice mousaka and lovely décor inside. A...</td>\n",
              "      <td>4</td>\n",
              "      <td>-1</td>\n",
              "      <td>Pylos</td>\n",
              "      <td>4.312869</td>\n",
              "      <td>4.435897</td>\n",
              "    </tr>\n",
              "    <tr>\n",
              "      <th>3</th>\n",
              "      <td>923</td>\n",
              "      <td>63</td>\n",
              "      <td>13-11-2014</td>\n",
              "      <td>I really enjoyed brunch at Jane. The ambiance ...</td>\n",
              "      <td>4</td>\n",
              "      <td>-1</td>\n",
              "      <td>Jane</td>\n",
              "      <td>3.937181</td>\n",
              "      <td>4.435897</td>\n",
              "    </tr>\n",
              "    <tr>\n",
              "      <th>4</th>\n",
              "      <td>923</td>\n",
              "      <td>79</td>\n",
              "      <td>30-03-2014</td>\n",
              "      <td>We ate at the Blue Ribbon with colleagues. The...</td>\n",
              "      <td>3</td>\n",
              "      <td>-1</td>\n",
              "      <td>Blue Ribbon Brasserie</td>\n",
              "      <td>4.280000</td>\n",
              "      <td>4.435897</td>\n",
              "    </tr>\n",
              "  </tbody>\n",
              "</table>\n",
              "</div>"
            ],
            "text/plain": [
              "   User_Id  Prod_Id      Date_x  \\\n",
              "0      923        0  08-12-2014   \n",
              "1      923       19  14-01-2014   \n",
              "2      923       40  30-05-2014   \n",
              "3      923       63  13-11-2014   \n",
              "4      923       79  30-03-2014   \n",
              "\n",
              "                                             Review   Rating  Label  \\\n",
              "0  The food at snack is a selection of popular Gr...       3     -1   \n",
              "1  The restaurant is on the ground floor of a typ...       5     -1   \n",
              "2  Really nice mousaka and lovely décor inside. A...       4     -1   \n",
              "3  I really enjoyed brunch at Jane. The ambiance ...       4     -1   \n",
              "4  We ate at the Blue Ribbon with colleagues. The...       3     -1   \n",
              "\n",
              "            Product_Name  Avg_Prod_Rating  Avg_user_rating  \n",
              "0                  Snack         4.009524         4.435897  \n",
              "1             Palo Santo         4.037152         4.435897  \n",
              "2                  Pylos         4.312869         4.435897  \n",
              "3                   Jane         3.937181         4.435897  \n",
              "4  Blue Ribbon Brasserie         4.280000         4.435897  "
            ]
          },
          "metadata": {
            "tags": []
          },
          "execution_count": 38
        }
      ]
    },
    {
      "metadata": {
        "_uuid": "88b26e9e1fcb8dc602a1a043695f11f8dba59dba",
        "id": "wwdwu-jMwKKB",
        "colab_type": "code",
        "outputId": "02b2f7d8-7a79-41fa-b752-cba2025b70e9",
        "colab": {
          "base_uri": "https://localhost:8080/",
          "height": 297
        }
      },
      "cell_type": "code",
      "source": [
        "final.describe()"
      ],
      "execution_count": 0,
      "outputs": [
        {
          "output_type": "execute_result",
          "data": {
            "text/html": [
              "<div>\n",
              "<style scoped>\n",
              "    .dataframe tbody tr th:only-of-type {\n",
              "        vertical-align: middle;\n",
              "    }\n",
              "\n",
              "    .dataframe tbody tr th {\n",
              "        vertical-align: top;\n",
              "    }\n",
              "\n",
              "    .dataframe thead th {\n",
              "        text-align: right;\n",
              "    }\n",
              "</style>\n",
              "<table border=\"1\" class=\"dataframe\">\n",
              "  <thead>\n",
              "    <tr style=\"text-align: right;\">\n",
              "      <th></th>\n",
              "      <th>User_Id</th>\n",
              "      <th>Prod_Id</th>\n",
              "      <th>Rating</th>\n",
              "      <th>Label</th>\n",
              "      <th>Avg_Prod_Rating</th>\n",
              "      <th>Avg_user_rating</th>\n",
              "    </tr>\n",
              "  </thead>\n",
              "  <tbody>\n",
              "    <tr>\n",
              "      <th>count</th>\n",
              "      <td>358957.000000</td>\n",
              "      <td>358957.000000</td>\n",
              "      <td>358957.000000</td>\n",
              "      <td>358957.000000</td>\n",
              "      <td>358957.000000</td>\n",
              "      <td>358957.000000</td>\n",
              "    </tr>\n",
              "    <tr>\n",
              "      <th>mean</th>\n",
              "      <td>53997.215187</td>\n",
              "      <td>459.989378</td>\n",
              "      <td>4.025861</td>\n",
              "      <td>0.794627</td>\n",
              "      <td>4.025861</td>\n",
              "      <td>4.025861</td>\n",
              "    </tr>\n",
              "    <tr>\n",
              "      <th>std</th>\n",
              "      <td>45808.754776</td>\n",
              "      <td>259.913081</td>\n",
              "      <td>1.055113</td>\n",
              "      <td>0.607099</td>\n",
              "      <td>0.218212</td>\n",
              "      <td>0.811565</td>\n",
              "    </tr>\n",
              "    <tr>\n",
              "      <th>min</th>\n",
              "      <td>923.000000</td>\n",
              "      <td>0.000000</td>\n",
              "      <td>1.000000</td>\n",
              "      <td>-1.000000</td>\n",
              "      <td>2.984163</td>\n",
              "      <td>1.000000</td>\n",
              "    </tr>\n",
              "    <tr>\n",
              "      <th>25%</th>\n",
              "      <td>13840.000000</td>\n",
              "      <td>247.000000</td>\n",
              "      <td>4.000000</td>\n",
              "      <td>1.000000</td>\n",
              "      <td>3.872340</td>\n",
              "      <td>3.739130</td>\n",
              "    </tr>\n",
              "    <tr>\n",
              "      <th>50%</th>\n",
              "      <td>40532.000000</td>\n",
              "      <td>468.000000</td>\n",
              "      <td>4.000000</td>\n",
              "      <td>1.000000</td>\n",
              "      <td>3.990777</td>\n",
              "      <td>4.000000</td>\n",
              "    </tr>\n",
              "    <tr>\n",
              "      <th>75%</th>\n",
              "      <td>87321.000000</td>\n",
              "      <td>672.000000</td>\n",
              "      <td>5.000000</td>\n",
              "      <td>1.000000</td>\n",
              "      <td>4.157591</td>\n",
              "      <td>4.500000</td>\n",
              "    </tr>\n",
              "    <tr>\n",
              "      <th>max</th>\n",
              "      <td>161147.000000</td>\n",
              "      <td>922.000000</td>\n",
              "      <td>5.000000</td>\n",
              "      <td>1.000000</td>\n",
              "      <td>4.944444</td>\n",
              "      <td>5.000000</td>\n",
              "    </tr>\n",
              "  </tbody>\n",
              "</table>\n",
              "</div>"
            ],
            "text/plain": [
              "             User_Id        Prod_Id         Rating          Label  \\\n",
              "count  358957.000000  358957.000000  358957.000000  358957.000000   \n",
              "mean    53997.215187     459.989378       4.025861       0.794627   \n",
              "std     45808.754776     259.913081       1.055113       0.607099   \n",
              "min       923.000000       0.000000       1.000000      -1.000000   \n",
              "25%     13840.000000     247.000000       4.000000       1.000000   \n",
              "50%     40532.000000     468.000000       4.000000       1.000000   \n",
              "75%     87321.000000     672.000000       5.000000       1.000000   \n",
              "max    161147.000000     922.000000       5.000000       1.000000   \n",
              "\n",
              "       Avg_Prod_Rating  Avg_user_rating  \n",
              "count    358957.000000    358957.000000  \n",
              "mean          4.025861         4.025861  \n",
              "std           0.218212         0.811565  \n",
              "min           2.984163         1.000000  \n",
              "25%           3.872340         3.739130  \n",
              "50%           3.990777         4.000000  \n",
              "75%           4.157591         4.500000  \n",
              "max           4.944444         5.000000  "
            ]
          },
          "metadata": {
            "tags": []
          },
          "execution_count": 39
        }
      ]
    },
    {
      "metadata": {
        "_uuid": "a26e0e887e744b085860125a58a9406335bc8786",
        "id": "vJU36YWywKKN",
        "colab_type": "code",
        "outputId": "d3690f98-765a-47b3-bc48-834c2acfbf56",
        "colab": {
          "base_uri": "https://localhost:8080/",
          "height": 204
        }
      },
      "cell_type": "code",
      "source": [
        "final.head()"
      ],
      "execution_count": 0,
      "outputs": [
        {
          "output_type": "execute_result",
          "data": {
            "text/html": [
              "<div>\n",
              "<style scoped>\n",
              "    .dataframe tbody tr th:only-of-type {\n",
              "        vertical-align: middle;\n",
              "    }\n",
              "\n",
              "    .dataframe tbody tr th {\n",
              "        vertical-align: top;\n",
              "    }\n",
              "\n",
              "    .dataframe thead th {\n",
              "        text-align: right;\n",
              "    }\n",
              "</style>\n",
              "<table border=\"1\" class=\"dataframe\">\n",
              "  <thead>\n",
              "    <tr style=\"text-align: right;\">\n",
              "      <th></th>\n",
              "      <th>User_Id</th>\n",
              "      <th>Prod_Id</th>\n",
              "      <th>Date_x</th>\n",
              "      <th>Review</th>\n",
              "      <th>Rating</th>\n",
              "      <th>Label</th>\n",
              "      <th>Product_Name</th>\n",
              "      <th>Avg_Prod_Rating</th>\n",
              "      <th>Avg_user_rating</th>\n",
              "    </tr>\n",
              "  </thead>\n",
              "  <tbody>\n",
              "    <tr>\n",
              "      <th>0</th>\n",
              "      <td>923</td>\n",
              "      <td>0</td>\n",
              "      <td>08-12-2014</td>\n",
              "      <td>The food at snack is a selection of popular Gr...</td>\n",
              "      <td>3</td>\n",
              "      <td>-1</td>\n",
              "      <td>Snack</td>\n",
              "      <td>4.009524</td>\n",
              "      <td>4.435897</td>\n",
              "    </tr>\n",
              "    <tr>\n",
              "      <th>1</th>\n",
              "      <td>923</td>\n",
              "      <td>19</td>\n",
              "      <td>14-01-2014</td>\n",
              "      <td>The restaurant is on the ground floor of a typ...</td>\n",
              "      <td>5</td>\n",
              "      <td>-1</td>\n",
              "      <td>Palo Santo</td>\n",
              "      <td>4.037152</td>\n",
              "      <td>4.435897</td>\n",
              "    </tr>\n",
              "    <tr>\n",
              "      <th>2</th>\n",
              "      <td>923</td>\n",
              "      <td>40</td>\n",
              "      <td>30-05-2014</td>\n",
              "      <td>Really nice mousaka and lovely décor inside. A...</td>\n",
              "      <td>4</td>\n",
              "      <td>-1</td>\n",
              "      <td>Pylos</td>\n",
              "      <td>4.312869</td>\n",
              "      <td>4.435897</td>\n",
              "    </tr>\n",
              "    <tr>\n",
              "      <th>3</th>\n",
              "      <td>923</td>\n",
              "      <td>63</td>\n",
              "      <td>13-11-2014</td>\n",
              "      <td>I really enjoyed brunch at Jane. The ambiance ...</td>\n",
              "      <td>4</td>\n",
              "      <td>-1</td>\n",
              "      <td>Jane</td>\n",
              "      <td>3.937181</td>\n",
              "      <td>4.435897</td>\n",
              "    </tr>\n",
              "    <tr>\n",
              "      <th>4</th>\n",
              "      <td>923</td>\n",
              "      <td>79</td>\n",
              "      <td>30-03-2014</td>\n",
              "      <td>We ate at the Blue Ribbon with colleagues. The...</td>\n",
              "      <td>3</td>\n",
              "      <td>-1</td>\n",
              "      <td>Blue Ribbon Brasserie</td>\n",
              "      <td>4.280000</td>\n",
              "      <td>4.435897</td>\n",
              "    </tr>\n",
              "  </tbody>\n",
              "</table>\n",
              "</div>"
            ],
            "text/plain": [
              "   User_Id  Prod_Id      Date_x  \\\n",
              "0      923        0  08-12-2014   \n",
              "1      923       19  14-01-2014   \n",
              "2      923       40  30-05-2014   \n",
              "3      923       63  13-11-2014   \n",
              "4      923       79  30-03-2014   \n",
              "\n",
              "                                             Review   Rating  Label  \\\n",
              "0  The food at snack is a selection of popular Gr...       3     -1   \n",
              "1  The restaurant is on the ground floor of a typ...       5     -1   \n",
              "2  Really nice mousaka and lovely décor inside. A...       4     -1   \n",
              "3  I really enjoyed brunch at Jane. The ambiance ...       4     -1   \n",
              "4  We ate at the Blue Ribbon with colleagues. The...       3     -1   \n",
              "\n",
              "            Product_Name  Avg_Prod_Rating  Avg_user_rating  \n",
              "0                  Snack         4.009524         4.435897  \n",
              "1             Palo Santo         4.037152         4.435897  \n",
              "2                  Pylos         4.312869         4.435897  \n",
              "3                   Jane         3.937181         4.435897  \n",
              "4  Blue Ribbon Brasserie         4.280000         4.435897  "
            ]
          },
          "metadata": {
            "tags": []
          },
          "execution_count": 40
        }
      ]
    },
    {
      "metadata": {
        "id": "6F_RSg4qVdGR",
        "colab_type": "text"
      },
      "cell_type": "markdown",
      "source": [
        "Extracting Review length from dataset"
      ]
    },
    {
      "metadata": {
        "id": "dlhKgZz83aQg",
        "colab_type": "code",
        "colab": {}
      },
      "cell_type": "code",
      "source": [
        "final['Review_Len']= final['Review '].apply(len)"
      ],
      "execution_count": 0,
      "outputs": []
    },
    {
      "metadata": {
        "id": "tA4sGRQZ3iBe",
        "colab_type": "code",
        "outputId": "d9950ec4-40fc-4c71-a1d7-1c63e1a4aced",
        "colab": {
          "base_uri": "https://localhost:8080/",
          "height": 204
        }
      },
      "cell_type": "code",
      "source": [
        "final.head()"
      ],
      "execution_count": 0,
      "outputs": [
        {
          "output_type": "execute_result",
          "data": {
            "text/html": [
              "<div>\n",
              "<style scoped>\n",
              "    .dataframe tbody tr th:only-of-type {\n",
              "        vertical-align: middle;\n",
              "    }\n",
              "\n",
              "    .dataframe tbody tr th {\n",
              "        vertical-align: top;\n",
              "    }\n",
              "\n",
              "    .dataframe thead th {\n",
              "        text-align: right;\n",
              "    }\n",
              "</style>\n",
              "<table border=\"1\" class=\"dataframe\">\n",
              "  <thead>\n",
              "    <tr style=\"text-align: right;\">\n",
              "      <th></th>\n",
              "      <th>User_Id</th>\n",
              "      <th>Prod_Id</th>\n",
              "      <th>Date_x</th>\n",
              "      <th>Review</th>\n",
              "      <th>Rating</th>\n",
              "      <th>Label</th>\n",
              "      <th>Product_Name</th>\n",
              "      <th>Avg_Prod_Rating</th>\n",
              "      <th>Avg_user_rating</th>\n",
              "      <th>Review_Len</th>\n",
              "    </tr>\n",
              "  </thead>\n",
              "  <tbody>\n",
              "    <tr>\n",
              "      <th>0</th>\n",
              "      <td>923</td>\n",
              "      <td>0</td>\n",
              "      <td>08-12-2014</td>\n",
              "      <td>The food at snack is a selection of popular Gr...</td>\n",
              "      <td>3</td>\n",
              "      <td>-1</td>\n",
              "      <td>Snack</td>\n",
              "      <td>4.009524</td>\n",
              "      <td>4.435897</td>\n",
              "      <td>215</td>\n",
              "    </tr>\n",
              "    <tr>\n",
              "      <th>1</th>\n",
              "      <td>923</td>\n",
              "      <td>19</td>\n",
              "      <td>14-01-2014</td>\n",
              "      <td>The restaurant is on the ground floor of a typ...</td>\n",
              "      <td>5</td>\n",
              "      <td>-1</td>\n",
              "      <td>Palo Santo</td>\n",
              "      <td>4.037152</td>\n",
              "      <td>4.435897</td>\n",
              "      <td>513</td>\n",
              "    </tr>\n",
              "    <tr>\n",
              "      <th>2</th>\n",
              "      <td>923</td>\n",
              "      <td>40</td>\n",
              "      <td>30-05-2014</td>\n",
              "      <td>Really nice mousaka and lovely décor inside. A...</td>\n",
              "      <td>4</td>\n",
              "      <td>-1</td>\n",
              "      <td>Pylos</td>\n",
              "      <td>4.312869</td>\n",
              "      <td>4.435897</td>\n",
              "      <td>231</td>\n",
              "    </tr>\n",
              "    <tr>\n",
              "      <th>3</th>\n",
              "      <td>923</td>\n",
              "      <td>63</td>\n",
              "      <td>13-11-2014</td>\n",
              "      <td>I really enjoyed brunch at Jane. The ambiance ...</td>\n",
              "      <td>4</td>\n",
              "      <td>-1</td>\n",
              "      <td>Jane</td>\n",
              "      <td>3.937181</td>\n",
              "      <td>4.435897</td>\n",
              "      <td>169</td>\n",
              "    </tr>\n",
              "    <tr>\n",
              "      <th>4</th>\n",
              "      <td>923</td>\n",
              "      <td>79</td>\n",
              "      <td>30-03-2014</td>\n",
              "      <td>We ate at the Blue Ribbon with colleagues. The...</td>\n",
              "      <td>3</td>\n",
              "      <td>-1</td>\n",
              "      <td>Blue Ribbon Brasserie</td>\n",
              "      <td>4.280000</td>\n",
              "      <td>4.435897</td>\n",
              "      <td>255</td>\n",
              "    </tr>\n",
              "  </tbody>\n",
              "</table>\n",
              "</div>"
            ],
            "text/plain": [
              "   User_Id  Prod_Id      Date_x  \\\n",
              "0      923        0  08-12-2014   \n",
              "1      923       19  14-01-2014   \n",
              "2      923       40  30-05-2014   \n",
              "3      923       63  13-11-2014   \n",
              "4      923       79  30-03-2014   \n",
              "\n",
              "                                             Review   Rating  Label  \\\n",
              "0  The food at snack is a selection of popular Gr...       3     -1   \n",
              "1  The restaurant is on the ground floor of a typ...       5     -1   \n",
              "2  Really nice mousaka and lovely décor inside. A...       4     -1   \n",
              "3  I really enjoyed brunch at Jane. The ambiance ...       4     -1   \n",
              "4  We ate at the Blue Ribbon with colleagues. The...       3     -1   \n",
              "\n",
              "            Product_Name  Avg_Prod_Rating  Avg_user_rating  Review_Len  \n",
              "0                  Snack         4.009524         4.435897         215  \n",
              "1             Palo Santo         4.037152         4.435897         513  \n",
              "2                  Pylos         4.312869         4.435897         231  \n",
              "3                   Jane         3.937181         4.435897         169  \n",
              "4  Blue Ribbon Brasserie         4.280000         4.435897         255  "
            ]
          },
          "metadata": {
            "tags": []
          },
          "execution_count": 42
        }
      ]
    },
    {
      "metadata": {
        "id": "xtU2nBq86dZl",
        "colab_type": "code",
        "outputId": "07870194-e323-4c84-fee3-6abd1ae6875e",
        "colab": {
          "base_uri": "https://localhost:8080/",
          "height": 352
        }
      },
      "cell_type": "code",
      "source": [
        "final.hist(column='Review_Len', by = 'Label', bins=100, figsize=(18,4))\n"
      ],
      "execution_count": 0,
      "outputs": [
        {
          "output_type": "execute_result",
          "data": {
            "text/plain": [
              "array([<matplotlib.axes._subplots.AxesSubplot object at 0x7f0fe337f668>,\n",
              "       <matplotlib.axes._subplots.AxesSubplot object at 0x7f0fe3329b70>],\n",
              "      dtype=object)"
            ]
          },
          "metadata": {
            "tags": []
          },
          "execution_count": 44
        },
        {
          "output_type": "display_data",
          "data": {
            "image/png": "[encoded data removed]",
            "text/plain": [
              "<Figure size 1296x288 with 2 Axes>"
            ]
          },
          "metadata": {
            "tags": []
          }
        }
      ]
    },
    {
      "metadata": {
        "id": "PNDTmP0--10c",
        "colab_type": "code",
        "outputId": "ce736a54-722d-4ae3-a941-c9db43f064b2",
        "colab": {
          "base_uri": "https://localhost:8080/",
          "height": 340
        }
      },
      "cell_type": "code",
      "source": [
        "plt.figure(figsize=[10,5])\n",
        "final[final['Label'] == 1]['Review_Len'].hist(bins=50, label='True', color='blue')\n",
        "final[final['Label'] == -1]['Review_Len'].hist(bins=50, label='False', color='red')\n",
        "plt.legend()"
      ],
      "execution_count": 0,
      "outputs": [
        {
          "output_type": "execute_result",
          "data": {
            "text/plain": [
              "<matplotlib.legend.Legend at 0x7f0fe3148080>"
            ]
          },
          "metadata": {
            "tags": []
          },
          "execution_count": 45
        },
        {
          "output_type": "display_data",
          "data": {
            "image/png": "[encoded data removed]",
            "text/plain": [
              "<Figure size 720x360 with 1 Axes>"
            ]
          },
          "metadata": {
            "tags": []
          }
        }
      ]
    },
    {
      "metadata": {
        "id": "IwCwCTyX54Ze",
        "colab_type": "code",
        "outputId": "f51105e9-8498-483b-f93d-36f3b5aab91f",
        "colab": {
          "base_uri": "https://localhost:8080/",
          "height": 300
        }
      },
      "cell_type": "code",
      "source": [
        "sns.countplot(final['Label'])"
      ],
      "execution_count": 0,
      "outputs": [
        {
          "output_type": "execute_result",
          "data": {
            "text/plain": [
              "<matplotlib.axes._subplots.AxesSubplot at 0x7f0fe30c7ba8>"
            ]
          },
          "metadata": {
            "tags": []
          },
          "execution_count": 46
        },
        {
          "output_type": "display_data",
          "data": {
            "image/png": "[encoded data removed]",
            "text/plain": [
              "<Figure size 432x288 with 1 Axes>"
            ]
          },
          "metadata": {
            "tags": []
          }
        }
      ]
    },
    {
      "metadata": {
        "id": "J1jZLyiCADIy",
        "colab_type": "text"
      },
      "cell_type": "markdown",
      "source": [
        "We can see that our data is highly imbalanced, we need to understand how to handle unbalanced data"
      ]
    },
    {
      "metadata": {
        "id": "YYNFqwvq6M45",
        "colab_type": "code",
        "outputId": "14b72661-823b-43ac-efb8-59d4ec316b0d",
        "colab": {
          "base_uri": "https://localhost:8080/",
          "height": 85
        }
      },
      "cell_type": "code",
      "source": [
        "final.groupby('Label')['Review_Len'].mean()"
      ],
      "execution_count": 0,
      "outputs": [
        {
          "output_type": "execute_result",
          "data": {
            "text/plain": [
              "Label\n",
              "-1    442.331091\n",
              " 1    657.238257\n",
              "Name: Review_Len, dtype: float64"
            ]
          },
          "metadata": {
            "tags": []
          },
          "execution_count": 47
        }
      ]
    },
    {
      "metadata": {
        "id": "ECDxbZSX-D56",
        "colab_type": "code",
        "outputId": "d5029b1f-add4-4aa5-acb6-efa8b2a3707c",
        "colab": {
          "base_uri": "https://localhost:8080/",
          "height": 300
        }
      },
      "cell_type": "code",
      "source": [
        "sns.countplot(data=final, x='Rating', hue='Label')"
      ],
      "execution_count": 0,
      "outputs": [
        {
          "output_type": "execute_result",
          "data": {
            "text/plain": [
              "<matplotlib.axes._subplots.AxesSubplot at 0x7f0fe2f32cf8>"
            ]
          },
          "metadata": {
            "tags": []
          },
          "execution_count": 48
        },
        {
          "output_type": "display_data",
          "data": {
            "image/png": "[encoded data removed]",
            "text/plain": [
              "<Figure size 432x288 with 1 Axes>"
            ]
          },
          "metadata": {
            "tags": []
          }
        }
      ]
    },
    {
      "metadata": {
        "id": "CeaTXwHjWXug",
        "colab_type": "text"
      },
      "cell_type": "markdown",
      "source": [
        "Word Cloud for Fake Reviews"
      ]
    },
    {
      "metadata": {
        "id": "RuYQqFA5Gqf1",
        "colab_type": "code",
        "outputId": "a0870f96-7039-4385-ce9e-a0f09c17558e",
        "colab": {
          "base_uri": "https://localhost:8080/",
          "height": 219
        }
      },
      "cell_type": "code",
      "source": [
        "word_string=\" \".join(final[final['Label']==-1]['Review '].str.lower())\n",
        "wordcloud = WordCloud(stopwords=STOPWORDS,\n",
        "                          background_color='white', \n",
        "                      max_words=300, color_func=(lambda *args, **kwargs: (255,0,0))\n",
        "                         ).generate(word_string)\n",
        "plt.clf()\n",
        "plt.imshow(wordcloud)\n",
        "plt.axis('off')\n",
        "plt.show()"
      ],
      "execution_count": 0,
      "outputs": [
        {
          "output_type": "display_data",
          "data": {
            "image/png": "[encoded data removed]",
            "text/plain": [
              "<Figure size 432x288 with 1 Axes>"
            ]
          },
          "metadata": {
            "tags": []
          }
        }
      ]
    },
    {
      "metadata": {
        "id": "3lFi4FzUWddo",
        "colab_type": "text"
      },
      "cell_type": "markdown",
      "source": [
        "Word Cloud for True Reviews"
      ]
    },
    {
      "metadata": {
        "id": "AWF1fCsHP3pb",
        "colab_type": "code",
        "outputId": "b6d32585-18a3-4efc-f879-7b3528091078",
        "colab": {
          "base_uri": "https://localhost:8080/",
          "height": 236
        }
      },
      "cell_type": "code",
      "source": [
        "word_string=\" \".join(final[final['Label']==1]['Review '].str.lower())\n",
        "wordcloud_false = WordCloud(stopwords=STOPWORDS,\n",
        "                          background_color='white', \n",
        "                      max_words=300, color_func=(lambda *args, **kwargs: (0,128,0))\n",
        "                         ).generate(word_string)\n",
        "plt.clf()\n",
        "plt.imshow(wordcloud_false)\n",
        "plt.axis('off')\n",
        "plt.figure(figsize=[12,4])\n",
        "plt.show()"
      ],
      "execution_count": 0,
      "outputs": [
        {
          "output_type": "display_data",
          "data": {
            "image/png": "[encoded data removed]",
            "text/plain": [
              "<Figure size 432x288 with 1 Axes>"
            ]
          },
          "metadata": {
            "tags": []
          }
        },
        {
          "output_type": "display_data",
          "data": {
            "text/plain": [
              "<Figure size 864x288 with 0 Axes>"
            ]
          },
          "metadata": {
            "tags": []
          }
        }
      ]
    },
    {
      "metadata": {
        "id": "lo7nhCpJXHqI",
        "colab_type": "text"
      },
      "cell_type": "markdown",
      "source": [
        "Extracting total reviews for a user to identify his review pattern"
      ]
    },
    {
      "metadata": {
        "id": "h_u1fJkr0CLQ",
        "colab_type": "code",
        "colab": {}
      },
      "cell_type": "code",
      "source": [
        "user_total_reviews=final.groupby('User_Id').count()['Label']"
      ],
      "execution_count": 0,
      "outputs": []
    },
    {
      "metadata": {
        "id": "gJQHjMhs0SYE",
        "colab_type": "code",
        "colab": {}
      },
      "cell_type": "code",
      "source": [
        "user_total_reviews = user_total_reviews.to_frame()"
      ],
      "execution_count": 0,
      "outputs": []
    },
    {
      "metadata": {
        "id": "FU1DZCgY0WCb",
        "colab_type": "code",
        "outputId": "721ca72f-4ff7-449f-a290-a816451ce7aa",
        "colab": {
          "base_uri": "https://localhost:8080/",
          "height": 235
        }
      },
      "cell_type": "code",
      "source": [
        "user_total_reviews.head()"
      ],
      "execution_count": 0,
      "outputs": [
        {
          "output_type": "execute_result",
          "data": {
            "text/html": [
              "<div>\n",
              "<style scoped>\n",
              "    .dataframe tbody tr th:only-of-type {\n",
              "        vertical-align: middle;\n",
              "    }\n",
              "\n",
              "    .dataframe tbody tr th {\n",
              "        vertical-align: top;\n",
              "    }\n",
              "\n",
              "    .dataframe thead th {\n",
              "        text-align: right;\n",
              "    }\n",
              "</style>\n",
              "<table border=\"1\" class=\"dataframe\">\n",
              "  <thead>\n",
              "    <tr style=\"text-align: right;\">\n",
              "      <th></th>\n",
              "      <th>Label</th>\n",
              "    </tr>\n",
              "    <tr>\n",
              "      <th>User_Id</th>\n",
              "      <th></th>\n",
              "    </tr>\n",
              "  </thead>\n",
              "  <tbody>\n",
              "    <tr>\n",
              "      <th>923</th>\n",
              "      <td>39</td>\n",
              "    </tr>\n",
              "    <tr>\n",
              "      <th>924</th>\n",
              "      <td>1</td>\n",
              "    </tr>\n",
              "    <tr>\n",
              "      <th>925</th>\n",
              "      <td>2</td>\n",
              "    </tr>\n",
              "    <tr>\n",
              "      <th>926</th>\n",
              "      <td>1</td>\n",
              "    </tr>\n",
              "    <tr>\n",
              "      <th>927</th>\n",
              "      <td>5</td>\n",
              "    </tr>\n",
              "  </tbody>\n",
              "</table>\n",
              "</div>"
            ],
            "text/plain": [
              "         Label\n",
              "User_Id       \n",
              "923         39\n",
              "924          1\n",
              "925          2\n",
              "926          1\n",
              "927          5"
            ]
          },
          "metadata": {
            "tags": []
          },
          "execution_count": 60
        }
      ]
    },
    {
      "metadata": {
        "id": "1rmoeLhP0aLR",
        "colab_type": "code",
        "colab": {}
      },
      "cell_type": "code",
      "source": [
        "user_total_reviews.reset_index(level=0, inplace=True)"
      ],
      "execution_count": 0,
      "outputs": []
    },
    {
      "metadata": {
        "id": "K3WKVMmB0q3h",
        "colab_type": "code",
        "colab": {}
      },
      "cell_type": "code",
      "source": [
        "user_total_reviews =  user_total_reviews.rename(columns={'Label':'user_total_reviews'})"
      ],
      "execution_count": 0,
      "outputs": []
    },
    {
      "metadata": {
        "id": "K4ysmgn804Ml",
        "colab_type": "code",
        "colab": {}
      },
      "cell_type": "code",
      "source": [
        "final = final.merge(user_total_reviews, how='outer')"
      ],
      "execution_count": 0,
      "outputs": []
    },
    {
      "metadata": {
        "id": "zfEPrtXu0929",
        "colab_type": "code",
        "outputId": "fb87f8f1-ba5b-4e40-fcb0-41af3b248c70",
        "colab": {
          "base_uri": "https://localhost:8080/",
          "height": 289
        }
      },
      "cell_type": "code",
      "source": [
        "final.head()"
      ],
      "execution_count": 0,
      "outputs": [
        {
          "output_type": "execute_result",
          "data": {
            "text/html": [
              "<div>\n",
              "<style scoped>\n",
              "    .dataframe tbody tr th:only-of-type {\n",
              "        vertical-align: middle;\n",
              "    }\n",
              "\n",
              "    .dataframe tbody tr th {\n",
              "        vertical-align: top;\n",
              "    }\n",
              "\n",
              "    .dataframe thead th {\n",
              "        text-align: right;\n",
              "    }\n",
              "</style>\n",
              "<table border=\"1\" class=\"dataframe\">\n",
              "  <thead>\n",
              "    <tr style=\"text-align: right;\">\n",
              "      <th></th>\n",
              "      <th>User_Id</th>\n",
              "      <th>Prod_Id</th>\n",
              "      <th>Date_x</th>\n",
              "      <th>Review</th>\n",
              "      <th>Rating</th>\n",
              "      <th>Label</th>\n",
              "      <th>Product_Name</th>\n",
              "      <th>Avg_Prod_Rating</th>\n",
              "      <th>Avg_user_rating</th>\n",
              "      <th>Review_Len</th>\n",
              "      <th>user_total_reviews</th>\n",
              "    </tr>\n",
              "  </thead>\n",
              "  <tbody>\n",
              "    <tr>\n",
              "      <th>0</th>\n",
              "      <td>923</td>\n",
              "      <td>0</td>\n",
              "      <td>08-12-2014</td>\n",
              "      <td>The food at snack is a selection of popular Gr...</td>\n",
              "      <td>3</td>\n",
              "      <td>-1</td>\n",
              "      <td>Snack</td>\n",
              "      <td>4.009524</td>\n",
              "      <td>4.435897</td>\n",
              "      <td>215</td>\n",
              "      <td>39</td>\n",
              "    </tr>\n",
              "    <tr>\n",
              "      <th>1</th>\n",
              "      <td>923</td>\n",
              "      <td>19</td>\n",
              "      <td>14-01-2014</td>\n",
              "      <td>The restaurant is on the ground floor of a typ...</td>\n",
              "      <td>5</td>\n",
              "      <td>-1</td>\n",
              "      <td>Palo Santo</td>\n",
              "      <td>4.037152</td>\n",
              "      <td>4.435897</td>\n",
              "      <td>513</td>\n",
              "      <td>39</td>\n",
              "    </tr>\n",
              "    <tr>\n",
              "      <th>2</th>\n",
              "      <td>923</td>\n",
              "      <td>40</td>\n",
              "      <td>30-05-2014</td>\n",
              "      <td>Really nice mousaka and lovely décor inside. A...</td>\n",
              "      <td>4</td>\n",
              "      <td>-1</td>\n",
              "      <td>Pylos</td>\n",
              "      <td>4.312869</td>\n",
              "      <td>4.435897</td>\n",
              "      <td>231</td>\n",
              "      <td>39</td>\n",
              "    </tr>\n",
              "    <tr>\n",
              "      <th>3</th>\n",
              "      <td>923</td>\n",
              "      <td>63</td>\n",
              "      <td>13-11-2014</td>\n",
              "      <td>I really enjoyed brunch at Jane. The ambiance ...</td>\n",
              "      <td>4</td>\n",
              "      <td>-1</td>\n",
              "      <td>Jane</td>\n",
              "      <td>3.937181</td>\n",
              "      <td>4.435897</td>\n",
              "      <td>169</td>\n",
              "      <td>39</td>\n",
              "    </tr>\n",
              "    <tr>\n",
              "      <th>4</th>\n",
              "      <td>923</td>\n",
              "      <td>79</td>\n",
              "      <td>30-03-2014</td>\n",
              "      <td>We ate at the Blue Ribbon with colleagues. The...</td>\n",
              "      <td>3</td>\n",
              "      <td>-1</td>\n",
              "      <td>Blue Ribbon Brasserie</td>\n",
              "      <td>4.280000</td>\n",
              "      <td>4.435897</td>\n",
              "      <td>255</td>\n",
              "      <td>39</td>\n",
              "    </tr>\n",
              "  </tbody>\n",
              "</table>\n",
              "</div>"
            ],
            "text/plain": [
              "   User_Id  Prod_Id      Date_x  \\\n",
              "0      923        0  08-12-2014   \n",
              "1      923       19  14-01-2014   \n",
              "2      923       40  30-05-2014   \n",
              "3      923       63  13-11-2014   \n",
              "4      923       79  30-03-2014   \n",
              "\n",
              "                                             Review   Rating  Label  \\\n",
              "0  The food at snack is a selection of popular Gr...       3     -1   \n",
              "1  The restaurant is on the ground floor of a typ...       5     -1   \n",
              "2  Really nice mousaka and lovely décor inside. A...       4     -1   \n",
              "3  I really enjoyed brunch at Jane. The ambiance ...       4     -1   \n",
              "4  We ate at the Blue Ribbon with colleagues. The...       3     -1   \n",
              "\n",
              "            Product_Name  Avg_Prod_Rating  Avg_user_rating  Review_Len  \\\n",
              "0                  Snack         4.009524         4.435897         215   \n",
              "1             Palo Santo         4.037152         4.435897         513   \n",
              "2                  Pylos         4.312869         4.435897         231   \n",
              "3                   Jane         3.937181         4.435897         169   \n",
              "4  Blue Ribbon Brasserie         4.280000         4.435897         255   \n",
              "\n",
              "   user_total_reviews  \n",
              "0                  39  \n",
              "1                  39  \n",
              "2                  39  \n",
              "3                  39  \n",
              "4                  39  "
            ]
          },
          "metadata": {
            "tags": []
          },
          "execution_count": 64
        }
      ]
    },
    {
      "metadata": {
        "id": "w80BqV_9XVYf",
        "colab_type": "text"
      },
      "cell_type": "markdown",
      "source": [
        "Loading data file given by team members with clean review corpus"
      ]
    },
    {
      "metadata": {
        "id": "19VMSIaVcqkh",
        "colab_type": "code",
        "outputId": "a56c0c7d-4b85-442e-f047-602ed21d30ca",
        "colab": {
          "base_uri": "https://localhost:8080/",
          "height": 34
        }
      },
      "cell_type": "code",
      "source": [
        "link = \"https://drive.google.com/open?id=1vZh8hBkdXjN1cf52p6G3pkyfi5lHaYly\"\n",
        "fluff, id = link.split('=')\n",
        "print (id) # Verify that you have everything after '='\n",
        "downloaded = drive.CreateFile({'id':id}) \n",
        "downloaded.GetContentFile('latest_tsv.tsv')  \n",
        "review_cleaned =pd.read_csv(\"latest_tsv.tsv\", sep = '\\t', header = 0)"
      ],
      "execution_count": 0,
      "outputs": [
        {
          "output_type": "stream",
          "text": [
            "1vZh8hBkdXjN1cf52p6G3pkyfi5lHaYly\n"
          ],
          "name": "stdout"
        }
      ]
    },
    {
      "metadata": {
        "id": "AuiFNdghgNDW",
        "colab_type": "code",
        "outputId": "1ba96e1c-850c-4453-fa16-1602b7a2027d",
        "colab": {
          "base_uri": "https://localhost:8080/",
          "height": 289
        }
      },
      "cell_type": "code",
      "source": [
        "review_cleaned.head()"
      ],
      "execution_count": 0,
      "outputs": [
        {
          "output_type": "execute_result",
          "data": {
            "text/html": [
              "<div>\n",
              "<style scoped>\n",
              "    .dataframe tbody tr th:only-of-type {\n",
              "        vertical-align: middle;\n",
              "    }\n",
              "\n",
              "    .dataframe tbody tr th {\n",
              "        vertical-align: top;\n",
              "    }\n",
              "\n",
              "    .dataframe thead th {\n",
              "        text-align: right;\n",
              "    }\n",
              "</style>\n",
              "<table border=\"1\" class=\"dataframe\">\n",
              "  <thead>\n",
              "    <tr style=\"text-align: right;\">\n",
              "      <th></th>\n",
              "      <th>User_Id</th>\n",
              "      <th>Prod_Id</th>\n",
              "      <th>Date</th>\n",
              "      <th>Review_Text</th>\n",
              "      <th>Rating</th>\n",
              "      <th>Label</th>\n",
              "      <th>Date</th>\n",
              "      <th>Product Name</th>\n",
              "      <th>text length</th>\n",
              "      <th>corpus</th>\n",
              "    </tr>\n",
              "  </thead>\n",
              "  <tbody>\n",
              "    <tr>\n",
              "      <th>0</th>\n",
              "      <td>923</td>\n",
              "      <td>0</td>\n",
              "      <td>12/8/2014</td>\n",
              "      <td>The food at snack is a selection of popular Gr...</td>\n",
              "      <td>3</td>\n",
              "      <td>-1</td>\n",
              "      <td>12/8/2014</td>\n",
              "      <td>Snack</td>\n",
              "      <td>215</td>\n",
              "      <td>food snack select popular greek dish appet tra...</td>\n",
              "    </tr>\n",
              "    <tr>\n",
              "      <th>1</th>\n",
              "      <td>924</td>\n",
              "      <td>0</td>\n",
              "      <td>5/16/2013</td>\n",
              "      <td>This little place in Soho is wonderful. I had ...</td>\n",
              "      <td>3</td>\n",
              "      <td>-1</td>\n",
              "      <td>5/16/2013</td>\n",
              "      <td>Snack</td>\n",
              "      <td>269</td>\n",
              "      <td>littl place soho wonder lamb sandwich glass wi...</td>\n",
              "    </tr>\n",
              "    <tr>\n",
              "      <th>2</th>\n",
              "      <td>925</td>\n",
              "      <td>0</td>\n",
              "      <td>7/1/2013</td>\n",
              "      <td>ordered lunch for 15 from Snack last Friday.  ...</td>\n",
              "      <td>4</td>\n",
              "      <td>-1</td>\n",
              "      <td>7/1/2013</td>\n",
              "      <td>Snack</td>\n",
              "      <td>178</td>\n",
              "      <td>order lunch snack last friday time noth miss f...</td>\n",
              "    </tr>\n",
              "    <tr>\n",
              "      <th>3</th>\n",
              "      <td>926</td>\n",
              "      <td>0</td>\n",
              "      <td>7/28/2011</td>\n",
              "      <td>This is a beautiful quaint little restaurant o...</td>\n",
              "      <td>4</td>\n",
              "      <td>-1</td>\n",
              "      <td>7/28/2011</td>\n",
              "      <td>Snack</td>\n",
              "      <td>491</td>\n",
              "      <td>beauti quaint littl restaur pretti street stro...</td>\n",
              "    </tr>\n",
              "    <tr>\n",
              "      <th>4</th>\n",
              "      <td>927</td>\n",
              "      <td>0</td>\n",
              "      <td>11/1/2010</td>\n",
              "      <td>Snack is great place for a  casual sit down lu...</td>\n",
              "      <td>4</td>\n",
              "      <td>-1</td>\n",
              "      <td>11/1/2010</td>\n",
              "      <td>Snack</td>\n",
              "      <td>596</td>\n",
              "      <td>snack great place casual sit lunch especi cold...</td>\n",
              "    </tr>\n",
              "  </tbody>\n",
              "</table>\n",
              "</div>"
            ],
            "text/plain": [
              "   User_Id  Prod_Id      Date   \\\n",
              "0      923        0  12/8/2014   \n",
              "1      924        0  5/16/2013   \n",
              "2      925        0   7/1/2013   \n",
              "3      926        0  7/28/2011   \n",
              "4      927        0  11/1/2010   \n",
              "\n",
              "                                         Review_Text  Rating  Label  \\\n",
              "0  The food at snack is a selection of popular Gr...       3     -1   \n",
              "1  This little place in Soho is wonderful. I had ...       3     -1   \n",
              "2  ordered lunch for 15 from Snack last Friday.  ...       4     -1   \n",
              "3  This is a beautiful quaint little restaurant o...       4     -1   \n",
              "4  Snack is great place for a  casual sit down lu...       4     -1   \n",
              "\n",
              "        Date Product Name  text length  \\\n",
              "0  12/8/2014        Snack          215   \n",
              "1  5/16/2013        Snack          269   \n",
              "2   7/1/2013        Snack          178   \n",
              "3  7/28/2011        Snack          491   \n",
              "4  11/1/2010        Snack          596   \n",
              "\n",
              "                                              corpus  \n",
              "0  food snack select popular greek dish appet tra...  \n",
              "1  littl place soho wonder lamb sandwich glass wi...  \n",
              "2  order lunch snack last friday time noth miss f...  \n",
              "3  beauti quaint littl restaur pretti street stro...  \n",
              "4  snack great place casual sit lunch especi cold...  "
            ]
          },
          "metadata": {
            "tags": []
          },
          "execution_count": 66
        }
      ]
    },
    {
      "metadata": {
        "id": "qH6nFcbtPZq7",
        "colab_type": "code",
        "outputId": "af83ce2e-f572-46ae-f52f-8de64413b80e",
        "colab": {
          "base_uri": "https://localhost:8080/",
          "height": 34
        }
      },
      "cell_type": "code",
      "source": [
        "review_cleaned.shape"
      ],
      "execution_count": 0,
      "outputs": [
        {
          "output_type": "execute_result",
          "data": {
            "text/plain": [
              "(358957, 10)"
            ]
          },
          "metadata": {
            "tags": []
          },
          "execution_count": 67
        }
      ]
    },
    {
      "metadata": {
        "id": "i6s0XHi0XgsH",
        "colab_type": "text"
      },
      "cell_type": "markdown",
      "source": [
        "Adding corpus in our final data from cleaned data"
      ]
    },
    {
      "metadata": {
        "id": "MiO2bbM4gR5D",
        "colab_type": "code",
        "colab": {}
      },
      "cell_type": "code",
      "source": [
        "final['corpus'] = review_cleaned['corpus']"
      ],
      "execution_count": 0,
      "outputs": []
    },
    {
      "metadata": {
        "id": "rocHYVaCgb_H",
        "colab_type": "code",
        "outputId": "a06f1ce7-3dd6-40c5-a468-a75c5b08a817",
        "colab": {
          "base_uri": "https://localhost:8080/",
          "height": 731
        }
      },
      "cell_type": "code",
      "source": [
        "final.head()"
      ],
      "execution_count": 0,
      "outputs": [
        {
          "output_type": "execute_result",
          "data": {
            "text/html": [
              "<div>\n",
              "<style scoped>\n",
              "    .dataframe tbody tr th:only-of-type {\n",
              "        vertical-align: middle;\n",
              "    }\n",
              "\n",
              "    .dataframe tbody tr th {\n",
              "        vertical-align: top;\n",
              "    }\n",
              "\n",
              "    .dataframe thead th {\n",
              "        text-align: right;\n",
              "    }\n",
              "</style>\n",
              "<table border=\"1\" class=\"dataframe\">\n",
              "  <thead>\n",
              "    <tr style=\"text-align: right;\">\n",
              "      <th></th>\n",
              "      <th>User_Id</th>\n",
              "      <th>Prod_Id</th>\n",
              "      <th>Date_x</th>\n",
              "      <th>Review</th>\n",
              "      <th>Rating</th>\n",
              "      <th>Label</th>\n",
              "      <th>Product_Name</th>\n",
              "      <th>Avg_Prod_Rating</th>\n",
              "      <th>Avg_user_rating</th>\n",
              "      <th>Review_Len</th>\n",
              "      <th>user_total_reviews</th>\n",
              "      <th>corpus</th>\n",
              "    </tr>\n",
              "  </thead>\n",
              "  <tbody>\n",
              "    <tr>\n",
              "      <th>0</th>\n",
              "      <td>923</td>\n",
              "      <td>0</td>\n",
              "      <td>08-12-2014</td>\n",
              "      <td>The food at snack is a selection of popular Gr...</td>\n",
              "      <td>3</td>\n",
              "      <td>-1</td>\n",
              "      <td>Snack</td>\n",
              "      <td>4.009524</td>\n",
              "      <td>4.435897</td>\n",
              "      <td>215</td>\n",
              "      <td>39</td>\n",
              "      <td>food snack select popular greek dish appet tra...</td>\n",
              "    </tr>\n",
              "    <tr>\n",
              "      <th>1</th>\n",
              "      <td>923</td>\n",
              "      <td>19</td>\n",
              "      <td>14-01-2014</td>\n",
              "      <td>The restaurant is on the ground floor of a typ...</td>\n",
              "      <td>5</td>\n",
              "      <td>-1</td>\n",
              "      <td>Palo Santo</td>\n",
              "      <td>4.037152</td>\n",
              "      <td>4.435897</td>\n",
              "      <td>513</td>\n",
              "      <td>39</td>\n",
              "      <td>littl place soho wonder lamb sandwich glass wi...</td>\n",
              "    </tr>\n",
              "    <tr>\n",
              "      <th>2</th>\n",
              "      <td>923</td>\n",
              "      <td>40</td>\n",
              "      <td>30-05-2014</td>\n",
              "      <td>Really nice mousaka and lovely décor inside. A...</td>\n",
              "      <td>4</td>\n",
              "      <td>-1</td>\n",
              "      <td>Pylos</td>\n",
              "      <td>4.312869</td>\n",
              "      <td>4.435897</td>\n",
              "      <td>231</td>\n",
              "      <td>39</td>\n",
              "      <td>order lunch snack last friday time noth miss f...</td>\n",
              "    </tr>\n",
              "    <tr>\n",
              "      <th>3</th>\n",
              "      <td>923</td>\n",
              "      <td>63</td>\n",
              "      <td>13-11-2014</td>\n",
              "      <td>I really enjoyed brunch at Jane. The ambiance ...</td>\n",
              "      <td>4</td>\n",
              "      <td>-1</td>\n",
              "      <td>Jane</td>\n",
              "      <td>3.937181</td>\n",
              "      <td>4.435897</td>\n",
              "      <td>169</td>\n",
              "      <td>39</td>\n",
              "      <td>beauti quaint littl restaur pretti street stro...</td>\n",
              "    </tr>\n",
              "    <tr>\n",
              "      <th>4</th>\n",
              "      <td>923</td>\n",
              "      <td>79</td>\n",
              "      <td>30-03-2014</td>\n",
              "      <td>We ate at the Blue Ribbon with colleagues. The...</td>\n",
              "      <td>3</td>\n",
              "      <td>-1</td>\n",
              "      <td>Blue Ribbon Brasserie</td>\n",
              "      <td>4.280000</td>\n",
              "      <td>4.435897</td>\n",
              "      <td>255</td>\n",
              "      <td>39</td>\n",
              "      <td>snack great place casual sit lunch especi cold...</td>\n",
              "    </tr>\n",
              "  </tbody>\n",
              "</table>\n",
              "</div>"
            ],
            "text/plain": [
              "   User_Id  Prod_Id      Date_x  \\\n",
              "0      923        0  08-12-2014   \n",
              "1      923       19  14-01-2014   \n",
              "2      923       40  30-05-2014   \n",
              "3      923       63  13-11-2014   \n",
              "4      923       79  30-03-2014   \n",
              "\n",
              "                                             Review   Rating  Label  \\\n",
              "0  The food at snack is a selection of popular Gr...       3     -1   \n",
              "1  The restaurant is on the ground floor of a typ...       5     -1   \n",
              "2  Really nice mousaka and lovely décor inside. A...       4     -1   \n",
              "3  I really enjoyed brunch at Jane. The ambiance ...       4     -1   \n",
              "4  We ate at the Blue Ribbon with colleagues. The...       3     -1   \n",
              "\n",
              "            Product_Name  Avg_Prod_Rating  Avg_user_rating  Review_Len  \\\n",
              "0                  Snack         4.009524         4.435897         215   \n",
              "1             Palo Santo         4.037152         4.435897         513   \n",
              "2                  Pylos         4.312869         4.435897         231   \n",
              "3                   Jane         3.937181         4.435897         169   \n",
              "4  Blue Ribbon Brasserie         4.280000         4.435897         255   \n",
              "\n",
              "   user_total_reviews                                             corpus  \n",
              "0                  39  food snack select popular greek dish appet tra...  \n",
              "1                  39  littl place soho wonder lamb sandwich glass wi...  \n",
              "2                  39  order lunch snack last friday time noth miss f...  \n",
              "3                  39  beauti quaint littl restaur pretti street stro...  \n",
              "4                  39  snack great place casual sit lunch especi cold...  "
            ]
          },
          "metadata": {
            "tags": []
          },
          "execution_count": 69
        }
      ]
    },
    {
      "metadata": {
        "id": "uBe86SiuioIp",
        "colab_type": "code",
        "colab": {}
      },
      "cell_type": "code",
      "source": [
        "final = final.dropna()"
      ],
      "execution_count": 0,
      "outputs": []
    },
    {
      "metadata": {
        "id": "DqI93ijDhP4h",
        "colab_type": "code",
        "colab": {}
      },
      "cell_type": "code",
      "source": [
        "def nltk_sentiment(sentence):\n",
        "    from nltk.sentiment.vader import SentimentIntensityAnalyzer\n",
        "    nltk_sentiment = SentimentIntensityAnalyzer()\n",
        "    score = nltk_sentiment.polarity_scores(sentence)\n",
        "    return score"
      ],
      "execution_count": 0,
      "outputs": []
    },
    {
      "metadata": {
        "id": "4RKjp4_DiVdI",
        "colab_type": "code",
        "colab": {}
      },
      "cell_type": "code",
      "source": [
        "review_sentiment=  final['corpus']"
      ],
      "execution_count": 0,
      "outputs": []
    },
    {
      "metadata": {
        "id": "WF0Rr_jTXy7e",
        "colab_type": "text"
      },
      "cell_type": "markdown",
      "source": [
        "Extracting sentiment from our review corpus "
      ]
    },
    {
      "metadata": {
        "id": "fAPWDty9kL8a",
        "colab_type": "code",
        "outputId": "838868ab-5c81-4e54-f457-044fdb36dc44",
        "colab": {
          "base_uri": "https://localhost:8080/",
          "height": 119
        }
      },
      "cell_type": "code",
      "source": [
        "review_sentiment.head()"
      ],
      "execution_count": 0,
      "outputs": [
        {
          "output_type": "execute_result",
          "data": {
            "text/plain": [
              "0    food snack select popular greek dish appet tra...\n",
              "1    littl place soho wonder lamb sandwich glass wi...\n",
              "2    order lunch snack last friday time noth miss f...\n",
              "3    beauti quaint littl restaur pretti street stro...\n",
              "4    snack great place casual sit lunch especi cold...\n",
              "Name: corpus, dtype: object"
            ]
          },
          "metadata": {
            "tags": []
          },
          "execution_count": 75
        }
      ]
    },
    {
      "metadata": {
        "id": "7ABWbjXDhriR",
        "colab_type": "code",
        "outputId": "dccb61ca-a7dc-4c10-b68b-30a3e6a0c927",
        "colab": {
          "base_uri": "https://localhost:8080/",
          "height": 71
        }
      },
      "cell_type": "code",
      "source": [
        "nltk_results = [nltk_sentiment(row) for row in review_sentiment]\n",
        "results_df = pd.DataFrame(nltk_results)\n"
      ],
      "execution_count": 0,
      "outputs": [
        {
          "output_type": "stream",
          "text": [
            "/usr/local/lib/python3.6/dist-packages/nltk/twitter/__init__.py:20: UserWarning: The twython library has not been installed. Some functionality from the twitter package will not be available.\n",
            "  warnings.warn(\"The twython library has not been installed. \"\n"
          ],
          "name": "stderr"
        }
      ]
    },
    {
      "metadata": {
        "id": "6luHM2TIxeFE",
        "colab_type": "code",
        "colab": {}
      },
      "cell_type": "code",
      "source": [
        "nltk_df = review_sentiment.to_frame().join(results_df)"
      ],
      "execution_count": 0,
      "outputs": []
    },
    {
      "metadata": {
        "id": "OX4KddkPxfV_",
        "colab_type": "code",
        "outputId": "6c4d7b72-52d3-408e-a29f-f5a564561aba",
        "colab": {
          "base_uri": "https://localhost:8080/",
          "height": 204
        }
      },
      "cell_type": "code",
      "source": [
        "nltk_df.head()"
      ],
      "execution_count": 0,
      "outputs": [
        {
          "output_type": "execute_result",
          "data": {
            "text/html": [
              "<div>\n",
              "<style scoped>\n",
              "    .dataframe tbody tr th:only-of-type {\n",
              "        vertical-align: middle;\n",
              "    }\n",
              "\n",
              "    .dataframe tbody tr th {\n",
              "        vertical-align: top;\n",
              "    }\n",
              "\n",
              "    .dataframe thead th {\n",
              "        text-align: right;\n",
              "    }\n",
              "</style>\n",
              "<table border=\"1\" class=\"dataframe\">\n",
              "  <thead>\n",
              "    <tr style=\"text-align: right;\">\n",
              "      <th></th>\n",
              "      <th>corpus</th>\n",
              "      <th>compound</th>\n",
              "      <th>neg</th>\n",
              "      <th>neu</th>\n",
              "      <th>pos</th>\n",
              "    </tr>\n",
              "  </thead>\n",
              "  <tbody>\n",
              "    <tr>\n",
              "      <th>0</th>\n",
              "      <td>food snack select popular greek dish appet tra...</td>\n",
              "      <td>0.6486</td>\n",
              "      <td>0.061</td>\n",
              "      <td>0.693</td>\n",
              "      <td>0.247</td>\n",
              "    </tr>\n",
              "    <tr>\n",
              "      <th>1</th>\n",
              "      <td>littl place soho wonder lamb sandwich glass wi...</td>\n",
              "      <td>-0.1280</td>\n",
              "      <td>0.189</td>\n",
              "      <td>0.673</td>\n",
              "      <td>0.138</td>\n",
              "    </tr>\n",
              "    <tr>\n",
              "      <th>2</th>\n",
              "      <td>order lunch snack last friday time noth miss f...</td>\n",
              "      <td>0.7717</td>\n",
              "      <td>0.067</td>\n",
              "      <td>0.628</td>\n",
              "      <td>0.305</td>\n",
              "    </tr>\n",
              "    <tr>\n",
              "      <th>3</th>\n",
              "      <td>beauti quaint littl restaur pretti street stro...</td>\n",
              "      <td>0.8910</td>\n",
              "      <td>0.042</td>\n",
              "      <td>0.712</td>\n",
              "      <td>0.246</td>\n",
              "    </tr>\n",
              "    <tr>\n",
              "      <th>4</th>\n",
              "      <td>snack great place casual sit lunch especi cold...</td>\n",
              "      <td>0.9769</td>\n",
              "      <td>0.000</td>\n",
              "      <td>0.661</td>\n",
              "      <td>0.339</td>\n",
              "    </tr>\n",
              "  </tbody>\n",
              "</table>\n",
              "</div>"
            ],
            "text/plain": [
              "                                              corpus  compound    neg    neu  \\\n",
              "0  food snack select popular greek dish appet tra...    0.6486  0.061  0.693   \n",
              "1  littl place soho wonder lamb sandwich glass wi...   -0.1280  0.189  0.673   \n",
              "2  order lunch snack last friday time noth miss f...    0.7717  0.067  0.628   \n",
              "3  beauti quaint littl restaur pretti street stro...    0.8910  0.042  0.712   \n",
              "4  snack great place casual sit lunch especi cold...    0.9769  0.000  0.661   \n",
              "\n",
              "     pos  \n",
              "0  0.247  \n",
              "1  0.138  \n",
              "2  0.305  \n",
              "3  0.246  \n",
              "4  0.339  "
            ]
          },
          "metadata": {
            "tags": []
          },
          "execution_count": 78
        }
      ]
    },
    {
      "metadata": {
        "id": "zWaU3Ob5Y3a8",
        "colab_type": "text"
      },
      "cell_type": "markdown",
      "source": [
        "Merging our sentiment score for reviews with final dataset"
      ]
    },
    {
      "metadata": {
        "id": "J_ZXYJAbxtf8",
        "colab_type": "code",
        "colab": {}
      },
      "cell_type": "code",
      "source": [
        "final = final.merge(nltk_df)"
      ],
      "execution_count": 0,
      "outputs": []
    },
    {
      "metadata": {
        "id": "uncFs2Q5yC0N",
        "colab_type": "code",
        "outputId": "e5df7cd8-793b-4e4a-bf7a-c87a5976a72f",
        "colab": {
          "base_uri": "https://localhost:8080/",
          "height": 751
        }
      },
      "cell_type": "code",
      "source": [
        "final.head()"
      ],
      "execution_count": 0,
      "outputs": [
        {
          "output_type": "execute_result",
          "data": {
            "text/html": [
              "<div>\n",
              "<style scoped>\n",
              "    .dataframe tbody tr th:only-of-type {\n",
              "        vertical-align: middle;\n",
              "    }\n",
              "\n",
              "    .dataframe tbody tr th {\n",
              "        vertical-align: top;\n",
              "    }\n",
              "\n",
              "    .dataframe thead th {\n",
              "        text-align: right;\n",
              "    }\n",
              "</style>\n",
              "<table border=\"1\" class=\"dataframe\">\n",
              "  <thead>\n",
              "    <tr style=\"text-align: right;\">\n",
              "      <th></th>\n",
              "      <th>User_Id</th>\n",
              "      <th>Prod_Id</th>\n",
              "      <th>Date_x</th>\n",
              "      <th>Review</th>\n",
              "      <th>Rating</th>\n",
              "      <th>Label</th>\n",
              "      <th>Product_Name</th>\n",
              "      <th>Avg_Prod_Rating</th>\n",
              "      <th>Avg_user_rating</th>\n",
              "      <th>Review_Len</th>\n",
              "      <th>user_total_reviews</th>\n",
              "      <th>corpus</th>\n",
              "      <th>compound</th>\n",
              "      <th>neg</th>\n",
              "      <th>neu</th>\n",
              "      <th>pos</th>\n",
              "    </tr>\n",
              "  </thead>\n",
              "  <tbody>\n",
              "    <tr>\n",
              "      <th>0</th>\n",
              "      <td>923</td>\n",
              "      <td>0</td>\n",
              "      <td>08-12-2014</td>\n",
              "      <td>The food at snack is a selection of popular Gr...</td>\n",
              "      <td>3</td>\n",
              "      <td>-1</td>\n",
              "      <td>Snack</td>\n",
              "      <td>4.009524</td>\n",
              "      <td>4.435897</td>\n",
              "      <td>215</td>\n",
              "      <td>39</td>\n",
              "      <td>food snack select popular greek dish appet tra...</td>\n",
              "      <td>0.6486</td>\n",
              "      <td>0.061</td>\n",
              "      <td>0.693</td>\n",
              "      <td>0.247</td>\n",
              "    </tr>\n",
              "    <tr>\n",
              "      <th>1</th>\n",
              "      <td>923</td>\n",
              "      <td>19</td>\n",
              "      <td>14-01-2014</td>\n",
              "      <td>The restaurant is on the ground floor of a typ...</td>\n",
              "      <td>5</td>\n",
              "      <td>-1</td>\n",
              "      <td>Palo Santo</td>\n",
              "      <td>4.037152</td>\n",
              "      <td>4.435897</td>\n",
              "      <td>513</td>\n",
              "      <td>39</td>\n",
              "      <td>littl place soho wonder lamb sandwich glass wi...</td>\n",
              "      <td>-0.1280</td>\n",
              "      <td>0.189</td>\n",
              "      <td>0.673</td>\n",
              "      <td>0.138</td>\n",
              "    </tr>\n",
              "    <tr>\n",
              "      <th>2</th>\n",
              "      <td>923</td>\n",
              "      <td>40</td>\n",
              "      <td>30-05-2014</td>\n",
              "      <td>Really nice mousaka and lovely décor inside. A...</td>\n",
              "      <td>4</td>\n",
              "      <td>-1</td>\n",
              "      <td>Pylos</td>\n",
              "      <td>4.312869</td>\n",
              "      <td>4.435897</td>\n",
              "      <td>231</td>\n",
              "      <td>39</td>\n",
              "      <td>order lunch snack last friday time noth miss f...</td>\n",
              "      <td>0.7717</td>\n",
              "      <td>0.067</td>\n",
              "      <td>0.628</td>\n",
              "      <td>0.305</td>\n",
              "    </tr>\n",
              "    <tr>\n",
              "      <th>3</th>\n",
              "      <td>923</td>\n",
              "      <td>63</td>\n",
              "      <td>13-11-2014</td>\n",
              "      <td>I really enjoyed brunch at Jane. The ambiance ...</td>\n",
              "      <td>4</td>\n",
              "      <td>-1</td>\n",
              "      <td>Jane</td>\n",
              "      <td>3.937181</td>\n",
              "      <td>4.435897</td>\n",
              "      <td>169</td>\n",
              "      <td>39</td>\n",
              "      <td>beauti quaint littl restaur pretti street stro...</td>\n",
              "      <td>0.8910</td>\n",
              "      <td>0.042</td>\n",
              "      <td>0.712</td>\n",
              "      <td>0.246</td>\n",
              "    </tr>\n",
              "    <tr>\n",
              "      <th>4</th>\n",
              "      <td>923</td>\n",
              "      <td>79</td>\n",
              "      <td>30-03-2014</td>\n",
              "      <td>We ate at the Blue Ribbon with colleagues. The...</td>\n",
              "      <td>3</td>\n",
              "      <td>-1</td>\n",
              "      <td>Blue Ribbon Brasserie</td>\n",
              "      <td>4.280000</td>\n",
              "      <td>4.435897</td>\n",
              "      <td>255</td>\n",
              "      <td>39</td>\n",
              "      <td>snack great place casual sit lunch especi cold...</td>\n",
              "      <td>0.9769</td>\n",
              "      <td>0.000</td>\n",
              "      <td>0.661</td>\n",
              "      <td>0.339</td>\n",
              "    </tr>\n",
              "  </tbody>\n",
              "</table>\n",
              "</div>"
            ],
            "text/plain": [
              "   User_Id  Prod_Id      Date_x  \\\n",
              "0      923        0  08-12-2014   \n",
              "1      923       19  14-01-2014   \n",
              "2      923       40  30-05-2014   \n",
              "3      923       63  13-11-2014   \n",
              "4      923       79  30-03-2014   \n",
              "\n",
              "                                             Review   Rating  Label  \\\n",
              "0  The food at snack is a selection of popular Gr...       3     -1   \n",
              "1  The restaurant is on the ground floor of a typ...       5     -1   \n",
              "2  Really nice mousaka and lovely décor inside. A...       4     -1   \n",
              "3  I really enjoyed brunch at Jane. The ambiance ...       4     -1   \n",
              "4  We ate at the Blue Ribbon with colleagues. The...       3     -1   \n",
              "\n",
              "            Product_Name  Avg_Prod_Rating  Avg_user_rating  Review_Len  \\\n",
              "0                  Snack         4.009524         4.435897         215   \n",
              "1             Palo Santo         4.037152         4.435897         513   \n",
              "2                  Pylos         4.312869         4.435897         231   \n",
              "3                   Jane         3.937181         4.435897         169   \n",
              "4  Blue Ribbon Brasserie         4.280000         4.435897         255   \n",
              "\n",
              "   user_total_reviews                                             corpus  \\\n",
              "0                  39  food snack select popular greek dish appet tra...   \n",
              "1                  39  littl place soho wonder lamb sandwich glass wi...   \n",
              "2                  39  order lunch snack last friday time noth miss f...   \n",
              "3                  39  beauti quaint littl restaur pretti street stro...   \n",
              "4                  39  snack great place casual sit lunch especi cold...   \n",
              "\n",
              "   compound    neg    neu    pos  \n",
              "0    0.6486  0.061  0.693  0.247  \n",
              "1   -0.1280  0.189  0.673  0.138  \n",
              "2    0.7717  0.067  0.628  0.305  \n",
              "3    0.8910  0.042  0.712  0.246  \n",
              "4    0.9769  0.000  0.661  0.339  "
            ]
          },
          "metadata": {
            "tags": []
          },
          "execution_count": 80
        }
      ]
    },
    {
      "metadata": {
        "id": "UIloqra5YmKd",
        "colab_type": "text"
      },
      "cell_type": "markdown",
      "source": [
        "Function to help us extract count of regex patterns from review text"
      ]
    },
    {
      "metadata": {
        "id": "RVVZusMS19It",
        "colab_type": "code",
        "colab": {}
      },
      "cell_type": "code",
      "source": [
        "def count_regex(pattern, row):\n",
        "  return len(re.findall(pattern, row))"
      ],
      "execution_count": 0,
      "outputs": []
    },
    {
      "metadata": {
        "id": "ZGNPWNv3YXKY",
        "colab_type": "text"
      },
      "cell_type": "markdown",
      "source": [
        "Extracting count of capital words"
      ]
    },
    {
      "metadata": {
        "id": "aztfm0me0I7V",
        "colab_type": "code",
        "colab": {}
      },
      "cell_type": "code",
      "source": [
        "count_capital_words = final['Review '].apply(lambda x: count_regex(r'\\b[A-Z]{2,}\\b', x))\n",
        "final['number_Cap_Words'] = count_capital_words.to_frame();"
      ],
      "execution_count": 0,
      "outputs": []
    },
    {
      "metadata": {
        "id": "T7REHY1oYaad",
        "colab_type": "text"
      },
      "cell_type": "markdown",
      "source": [
        "Extracting count of digits in review"
      ]
    },
    {
      "metadata": {
        "id": "UPFLZ5Yy2U9b",
        "colab_type": "code",
        "colab": {}
      },
      "cell_type": "code",
      "source": [
        "count_digit_words = final['Review '].apply(lambda x: count_regex(r'\\b[0-9]{2,}\\b', x))\n",
        "final['number_digit_Words'] = count_digit_words.to_frame();"
      ],
      "execution_count": 0,
      "outputs": []
    },
    {
      "metadata": {
        "id": "sSN40eXb2ncv",
        "colab_type": "code",
        "outputId": "cf77b5a2-c337-43ef-8a05-cd56bd3a4c54",
        "colab": {
          "base_uri": "https://localhost:8080/",
          "height": 751
        }
      },
      "cell_type": "code",
      "source": [
        "final.head()"
      ],
      "execution_count": 0,
      "outputs": [
        {
          "output_type": "execute_result",
          "data": {
            "text/html": [
              "<div>\n",
              "<style scoped>\n",
              "    .dataframe tbody tr th:only-of-type {\n",
              "        vertical-align: middle;\n",
              "    }\n",
              "\n",
              "    .dataframe tbody tr th {\n",
              "        vertical-align: top;\n",
              "    }\n",
              "\n",
              "    .dataframe thead th {\n",
              "        text-align: right;\n",
              "    }\n",
              "</style>\n",
              "<table border=\"1\" class=\"dataframe\">\n",
              "  <thead>\n",
              "    <tr style=\"text-align: right;\">\n",
              "      <th></th>\n",
              "      <th>User_Id</th>\n",
              "      <th>Prod_Id</th>\n",
              "      <th>Date_x</th>\n",
              "      <th>Review</th>\n",
              "      <th>Rating</th>\n",
              "      <th>Label</th>\n",
              "      <th>Product_Name</th>\n",
              "      <th>Avg_Prod_Rating</th>\n",
              "      <th>Avg_user_rating</th>\n",
              "      <th>Review_Len</th>\n",
              "      <th>user_total_reviews</th>\n",
              "      <th>corpus</th>\n",
              "      <th>compound</th>\n",
              "      <th>neg</th>\n",
              "      <th>neu</th>\n",
              "      <th>pos</th>\n",
              "      <th>number_Cap_Words</th>\n",
              "      <th>number_digit_Words</th>\n",
              "    </tr>\n",
              "  </thead>\n",
              "  <tbody>\n",
              "    <tr>\n",
              "      <th>0</th>\n",
              "      <td>923</td>\n",
              "      <td>0</td>\n",
              "      <td>08-12-2014</td>\n",
              "      <td>The food at snack is a selection of popular Gr...</td>\n",
              "      <td>3</td>\n",
              "      <td>-1</td>\n",
              "      <td>Snack</td>\n",
              "      <td>4.009524</td>\n",
              "      <td>4.435897</td>\n",
              "      <td>215</td>\n",
              "      <td>39</td>\n",
              "      <td>food snack select popular greek dish appet tra...</td>\n",
              "      <td>0.6486</td>\n",
              "      <td>0.061</td>\n",
              "      <td>0.693</td>\n",
              "      <td>0.247</td>\n",
              "      <td>0</td>\n",
              "      <td>0</td>\n",
              "    </tr>\n",
              "    <tr>\n",
              "      <th>1</th>\n",
              "      <td>923</td>\n",
              "      <td>19</td>\n",
              "      <td>14-01-2014</td>\n",
              "      <td>The restaurant is on the ground floor of a typ...</td>\n",
              "      <td>5</td>\n",
              "      <td>-1</td>\n",
              "      <td>Palo Santo</td>\n",
              "      <td>4.037152</td>\n",
              "      <td>4.435897</td>\n",
              "      <td>513</td>\n",
              "      <td>39</td>\n",
              "      <td>littl place soho wonder lamb sandwich glass wi...</td>\n",
              "      <td>-0.1280</td>\n",
              "      <td>0.189</td>\n",
              "      <td>0.673</td>\n",
              "      <td>0.138</td>\n",
              "      <td>0</td>\n",
              "      <td>0</td>\n",
              "    </tr>\n",
              "    <tr>\n",
              "      <th>2</th>\n",
              "      <td>923</td>\n",
              "      <td>40</td>\n",
              "      <td>30-05-2014</td>\n",
              "      <td>Really nice mousaka and lovely décor inside. A...</td>\n",
              "      <td>4</td>\n",
              "      <td>-1</td>\n",
              "      <td>Pylos</td>\n",
              "      <td>4.312869</td>\n",
              "      <td>4.435897</td>\n",
              "      <td>231</td>\n",
              "      <td>39</td>\n",
              "      <td>order lunch snack last friday time noth miss f...</td>\n",
              "      <td>0.7717</td>\n",
              "      <td>0.067</td>\n",
              "      <td>0.628</td>\n",
              "      <td>0.305</td>\n",
              "      <td>0</td>\n",
              "      <td>1</td>\n",
              "    </tr>\n",
              "    <tr>\n",
              "      <th>3</th>\n",
              "      <td>923</td>\n",
              "      <td>63</td>\n",
              "      <td>13-11-2014</td>\n",
              "      <td>I really enjoyed brunch at Jane. The ambiance ...</td>\n",
              "      <td>4</td>\n",
              "      <td>-1</td>\n",
              "      <td>Jane</td>\n",
              "      <td>3.937181</td>\n",
              "      <td>4.435897</td>\n",
              "      <td>169</td>\n",
              "      <td>39</td>\n",
              "      <td>beauti quaint littl restaur pretti street stro...</td>\n",
              "      <td>0.8910</td>\n",
              "      <td>0.042</td>\n",
              "      <td>0.712</td>\n",
              "      <td>0.246</td>\n",
              "      <td>0</td>\n",
              "      <td>0</td>\n",
              "    </tr>\n",
              "    <tr>\n",
              "      <th>4</th>\n",
              "      <td>923</td>\n",
              "      <td>79</td>\n",
              "      <td>30-03-2014</td>\n",
              "      <td>We ate at the Blue Ribbon with colleagues. The...</td>\n",
              "      <td>3</td>\n",
              "      <td>-1</td>\n",
              "      <td>Blue Ribbon Brasserie</td>\n",
              "      <td>4.280000</td>\n",
              "      <td>4.435897</td>\n",
              "      <td>255</td>\n",
              "      <td>39</td>\n",
              "      <td>snack great place casual sit lunch especi cold...</td>\n",
              "      <td>0.9769</td>\n",
              "      <td>0.000</td>\n",
              "      <td>0.661</td>\n",
              "      <td>0.339</td>\n",
              "      <td>0</td>\n",
              "      <td>0</td>\n",
              "    </tr>\n",
              "  </tbody>\n",
              "</table>\n",
              "</div>"
            ],
            "text/plain": [
              "   User_Id  Prod_Id      Date_x  \\\n",
              "0      923        0  08-12-2014   \n",
              "1      923       19  14-01-2014   \n",
              "2      923       40  30-05-2014   \n",
              "3      923       63  13-11-2014   \n",
              "4      923       79  30-03-2014   \n",
              "\n",
              "                                             Review   Rating  Label  \\\n",
              "0  The food at snack is a selection of popular Gr...       3     -1   \n",
              "1  The restaurant is on the ground floor of a typ...       5     -1   \n",
              "2  Really nice mousaka and lovely décor inside. A...       4     -1   \n",
              "3  I really enjoyed brunch at Jane. The ambiance ...       4     -1   \n",
              "4  We ate at the Blue Ribbon with colleagues. The...       3     -1   \n",
              "\n",
              "            Product_Name  Avg_Prod_Rating  Avg_user_rating  Review_Len  \\\n",
              "0                  Snack         4.009524         4.435897         215   \n",
              "1             Palo Santo         4.037152         4.435897         513   \n",
              "2                  Pylos         4.312869         4.435897         231   \n",
              "3                   Jane         3.937181         4.435897         169   \n",
              "4  Blue Ribbon Brasserie         4.280000         4.435897         255   \n",
              "\n",
              "   user_total_reviews                                             corpus  \\\n",
              "0                  39  food snack select popular greek dish appet tra...   \n",
              "1                  39  littl place soho wonder lamb sandwich glass wi...   \n",
              "2                  39  order lunch snack last friday time noth miss f...   \n",
              "3                  39  beauti quaint littl restaur pretti street stro...   \n",
              "4                  39  snack great place casual sit lunch especi cold...   \n",
              "\n",
              "   compound    neg    neu    pos  number_Cap_Words  number_digit_Words  \n",
              "0    0.6486  0.061  0.693  0.247                 0                   0  \n",
              "1   -0.1280  0.189  0.673  0.138                 0                   0  \n",
              "2    0.7717  0.067  0.628  0.305                 0                   1  \n",
              "3    0.8910  0.042  0.712  0.246                 0                   0  \n",
              "4    0.9769  0.000  0.661  0.339                 0                   0  "
            ]
          },
          "metadata": {
            "tags": []
          },
          "execution_count": 86
        }
      ]
    },
    {
      "metadata": {
        "id": "uzDPMoYnYuM9",
        "colab_type": "text"
      },
      "cell_type": "markdown",
      "source": [
        "Function to count noun phrases in review text"
      ]
    },
    {
      "metadata": {
        "id": "AR6O1UaN6IH1",
        "colab_type": "code",
        "colab": {}
      },
      "cell_type": "code",
      "source": [
        "def identify_noun_count(sentence):\n",
        "  blob = TextBlob(sentence)\n",
        "  return len(blob.noun_phrases)"
      ],
      "execution_count": 0,
      "outputs": []
    },
    {
      "metadata": {
        "id": "pAaEKsyNZB7Q",
        "colab_type": "text"
      },
      "cell_type": "markdown",
      "source": [
        "Extracting noun count from our review text"
      ]
    },
    {
      "metadata": {
        "id": "gE1Y6FQ06lBO",
        "colab_type": "code",
        "colab": {}
      },
      "cell_type": "code",
      "source": [
        "final['noun_count'] = final['Review '].apply(identify_noun_count)"
      ],
      "execution_count": 0,
      "outputs": []
    },
    {
      "metadata": {
        "id": "5-W1yCtAAbpk",
        "colab_type": "code",
        "outputId": "7d5e6ef9-30d7-48f1-8b4c-0c4038c92f48",
        "colab": {
          "base_uri": "https://localhost:8080/",
          "height": 751
        }
      },
      "cell_type": "code",
      "source": [
        "final.head()"
      ],
      "execution_count": 0,
      "outputs": [
        {
          "output_type": "execute_result",
          "data": {
            "text/html": [
              "<div>\n",
              "<style scoped>\n",
              "    .dataframe tbody tr th:only-of-type {\n",
              "        vertical-align: middle;\n",
              "    }\n",
              "\n",
              "    .dataframe tbody tr th {\n",
              "        vertical-align: top;\n",
              "    }\n",
              "\n",
              "    .dataframe thead th {\n",
              "        text-align: right;\n",
              "    }\n",
              "</style>\n",
              "<table border=\"1\" class=\"dataframe\">\n",
              "  <thead>\n",
              "    <tr style=\"text-align: right;\">\n",
              "      <th></th>\n",
              "      <th>User_Id</th>\n",
              "      <th>Prod_Id</th>\n",
              "      <th>Date_x</th>\n",
              "      <th>Review</th>\n",
              "      <th>Rating</th>\n",
              "      <th>Label</th>\n",
              "      <th>Product_Name</th>\n",
              "      <th>Avg_Prod_Rating</th>\n",
              "      <th>Avg_user_rating</th>\n",
              "      <th>Review_Len</th>\n",
              "      <th>user_total_reviews</th>\n",
              "      <th>corpus</th>\n",
              "      <th>compound</th>\n",
              "      <th>neg</th>\n",
              "      <th>neu</th>\n",
              "      <th>pos</th>\n",
              "      <th>number_Cap_Words</th>\n",
              "      <th>number_digit_Words</th>\n",
              "      <th>noun_count</th>\n",
              "    </tr>\n",
              "  </thead>\n",
              "  <tbody>\n",
              "    <tr>\n",
              "      <th>0</th>\n",
              "      <td>923</td>\n",
              "      <td>0</td>\n",
              "      <td>08-12-2014</td>\n",
              "      <td>The food at snack is a selection of popular Gr...</td>\n",
              "      <td>3</td>\n",
              "      <td>-1</td>\n",
              "      <td>Snack</td>\n",
              "      <td>4.009524</td>\n",
              "      <td>4.435897</td>\n",
              "      <td>215</td>\n",
              "      <td>39</td>\n",
              "      <td>food snack select popular greek dish appet tra...</td>\n",
              "      <td>0.6486</td>\n",
              "      <td>0.061</td>\n",
              "      <td>0.693</td>\n",
              "      <td>0.247</td>\n",
              "      <td>0</td>\n",
              "      <td>0</td>\n",
              "      <td>3</td>\n",
              "    </tr>\n",
              "    <tr>\n",
              "      <th>1</th>\n",
              "      <td>923</td>\n",
              "      <td>19</td>\n",
              "      <td>14-01-2014</td>\n",
              "      <td>The restaurant is on the ground floor of a typ...</td>\n",
              "      <td>5</td>\n",
              "      <td>-1</td>\n",
              "      <td>Palo Santo</td>\n",
              "      <td>4.037152</td>\n",
              "      <td>4.435897</td>\n",
              "      <td>513</td>\n",
              "      <td>39</td>\n",
              "      <td>littl place soho wonder lamb sandwich glass wi...</td>\n",
              "      <td>-0.1280</td>\n",
              "      <td>0.189</td>\n",
              "      <td>0.673</td>\n",
              "      <td>0.138</td>\n",
              "      <td>0</td>\n",
              "      <td>0</td>\n",
              "      <td>9</td>\n",
              "    </tr>\n",
              "    <tr>\n",
              "      <th>2</th>\n",
              "      <td>923</td>\n",
              "      <td>40</td>\n",
              "      <td>30-05-2014</td>\n",
              "      <td>Really nice mousaka and lovely décor inside. A...</td>\n",
              "      <td>4</td>\n",
              "      <td>-1</td>\n",
              "      <td>Pylos</td>\n",
              "      <td>4.312869</td>\n",
              "      <td>4.435897</td>\n",
              "      <td>231</td>\n",
              "      <td>39</td>\n",
              "      <td>order lunch snack last friday time noth miss f...</td>\n",
              "      <td>0.7717</td>\n",
              "      <td>0.067</td>\n",
              "      <td>0.628</td>\n",
              "      <td>0.305</td>\n",
              "      <td>0</td>\n",
              "      <td>1</td>\n",
              "      <td>4</td>\n",
              "    </tr>\n",
              "    <tr>\n",
              "      <th>3</th>\n",
              "      <td>923</td>\n",
              "      <td>63</td>\n",
              "      <td>13-11-2014</td>\n",
              "      <td>I really enjoyed brunch at Jane. The ambiance ...</td>\n",
              "      <td>4</td>\n",
              "      <td>-1</td>\n",
              "      <td>Jane</td>\n",
              "      <td>3.937181</td>\n",
              "      <td>4.435897</td>\n",
              "      <td>169</td>\n",
              "      <td>39</td>\n",
              "      <td>beauti quaint littl restaur pretti street stro...</td>\n",
              "      <td>0.8910</td>\n",
              "      <td>0.042</td>\n",
              "      <td>0.712</td>\n",
              "      <td>0.246</td>\n",
              "      <td>0</td>\n",
              "      <td>0</td>\n",
              "      <td>2</td>\n",
              "    </tr>\n",
              "    <tr>\n",
              "      <th>4</th>\n",
              "      <td>923</td>\n",
              "      <td>79</td>\n",
              "      <td>30-03-2014</td>\n",
              "      <td>We ate at the Blue Ribbon with colleagues. The...</td>\n",
              "      <td>3</td>\n",
              "      <td>-1</td>\n",
              "      <td>Blue Ribbon Brasserie</td>\n",
              "      <td>4.280000</td>\n",
              "      <td>4.435897</td>\n",
              "      <td>255</td>\n",
              "      <td>39</td>\n",
              "      <td>snack great place casual sit lunch especi cold...</td>\n",
              "      <td>0.9769</td>\n",
              "      <td>0.000</td>\n",
              "      <td>0.661</td>\n",
              "      <td>0.339</td>\n",
              "      <td>0</td>\n",
              "      <td>0</td>\n",
              "      <td>3</td>\n",
              "    </tr>\n",
              "  </tbody>\n",
              "</table>\n",
              "</div>"
            ],
            "text/plain": [
              "   User_Id  Prod_Id      Date_x  \\\n",
              "0      923        0  08-12-2014   \n",
              "1      923       19  14-01-2014   \n",
              "2      923       40  30-05-2014   \n",
              "3      923       63  13-11-2014   \n",
              "4      923       79  30-03-2014   \n",
              "\n",
              "                                             Review   Rating  Label  \\\n",
              "0  The food at snack is a selection of popular Gr...       3     -1   \n",
              "1  The restaurant is on the ground floor of a typ...       5     -1   \n",
              "2  Really nice mousaka and lovely décor inside. A...       4     -1   \n",
              "3  I really enjoyed brunch at Jane. The ambiance ...       4     -1   \n",
              "4  We ate at the Blue Ribbon with colleagues. The...       3     -1   \n",
              "\n",
              "            Product_Name  Avg_Prod_Rating  Avg_user_rating  Review_Len  \\\n",
              "0                  Snack         4.009524         4.435897         215   \n",
              "1             Palo Santo         4.037152         4.435897         513   \n",
              "2                  Pylos         4.312869         4.435897         231   \n",
              "3                   Jane         3.937181         4.435897         169   \n",
              "4  Blue Ribbon Brasserie         4.280000         4.435897         255   \n",
              "\n",
              "   user_total_reviews                                             corpus  \\\n",
              "0                  39  food snack select popular greek dish appet tra...   \n",
              "1                  39  littl place soho wonder lamb sandwich glass wi...   \n",
              "2                  39  order lunch snack last friday time noth miss f...   \n",
              "3                  39  beauti quaint littl restaur pretti street stro...   \n",
              "4                  39  snack great place casual sit lunch especi cold...   \n",
              "\n",
              "   compound    neg    neu    pos  number_Cap_Words  number_digit_Words  \\\n",
              "0    0.6486  0.061  0.693  0.247                 0                   0   \n",
              "1   -0.1280  0.189  0.673  0.138                 0                   0   \n",
              "2    0.7717  0.067  0.628  0.305                 0                   1   \n",
              "3    0.8910  0.042  0.712  0.246                 0                   0   \n",
              "4    0.9769  0.000  0.661  0.339                 0                   0   \n",
              "\n",
              "   noun_count  \n",
              "0           3  \n",
              "1           9  \n",
              "2           4  \n",
              "3           2  \n",
              "4           3  "
            ]
          },
          "metadata": {
            "tags": []
          },
          "execution_count": 89
        }
      ]
    },
    {
      "metadata": {
        "id": "D9UzHe2IWq6r",
        "colab_type": "code",
        "outputId": "e0475896-4352-423d-cb0e-77327647f53e",
        "colab": {
          "base_uri": "https://localhost:8080/",
          "height": 340
        }
      },
      "cell_type": "code",
      "source": [
        "plt.figure(figsize=[10,5])\n",
        "final[(final['Label'] == 1) & (final['noun_count'] > 4)]['number_Cap_Words'].hist(bins=50, label='True', color='blue')\n",
        "final[(final['Label'] == -1) & (final['noun_count'] > 4)]['number_Cap_Words'].hist(bins=50, label='False', color='red')\n",
        "plt.legend()"
      ],
      "execution_count": 0,
      "outputs": [
        {
          "output_type": "execute_result",
          "data": {
            "text/plain": [
              "<matplotlib.legend.Legend at 0x7f0fc983c8d0>"
            ]
          },
          "metadata": {
            "tags": []
          },
          "execution_count": 90
        },
        {
          "output_type": "display_data",
          "data": {
            "image/png": "[encoded data removed]",
            "text/plain": [
              "<Figure size 720x360 with 1 Axes>"
            ]
          },
          "metadata": {
            "tags": []
          }
        }
      ]
    },
    {
      "metadata": {
        "id": "2d62JrIgZSHR",
        "colab_type": "text"
      },
      "cell_type": "markdown",
      "source": [
        "Correlation matrix for our numerical data "
      ]
    },
    {
      "metadata": {
        "id": "3sbQgK1GWp7d",
        "colab_type": "code",
        "outputId": "93edf267-f256-4d25-d9eb-11dd7c62f550",
        "colab": {
          "base_uri": "https://localhost:8080/",
          "height": 362
        }
      },
      "cell_type": "code",
      "source": [
        "#correlation matrix\n",
        "final_corr_data = sns.heatmap(final[['Rating','Avg_Prod_Rating','Avg_user_rating','Review_Len','user_total_reviews','compound','number_Cap_Words','number_digit_Words','noun_count']].corr(),annot=True,cmap=\"RdYlGn\")"
      ],
      "execution_count": 0,
      "outputs": [
        {
          "output_type": "display_data",
          "data": {
            "image/png": "[encoded data removed]",
            "text/plain": [
              "<Figure size 432x288 with 2 Axes>"
            ]
          },
          "metadata": {
            "tags": []
          }
        }
      ]
    },
    {
      "metadata": {
        "id": "3_jTBIF8n005",
        "colab_type": "text"
      },
      "cell_type": "markdown",
      "source": [
        "Finding Common words from the corpus"
      ]
    },
    {
      "metadata": {
        "id": "6KpE4yNvkyo5",
        "colab_type": "code",
        "outputId": "57035975-2bf4-4688-be68-8e603edf3725",
        "colab": {
          "base_uri": "https://localhost:8080/",
          "height": 391
        }
      },
      "cell_type": "code",
      "source": [
        "positive = final[final['Label']== 1]\n",
        "true_word_list = []\n",
        "for i in range(0,positive['corpus'].count()):\n",
        "   true_word_temp = positive['corpus'].iloc[i].split()\n",
        "   true_word_list.append(true_word_temp)\n",
        "from itertools import chain\n",
        "list1 = list(chain.from_iterable(true_word_list))\n",
        "from collections import Counter \n",
        "true_mc = Counter(list1).most_common()\n",
        " \n",
        " \n",
        "fake = final[final['Label'] == -1]\n",
        "fake_word_list= fake['corpus'].str.split(expand=True).stack()\n",
        "from collections import Counter \n",
        "fake_mc = Counter(fake_word_list).most_common() \n",
        " \n",
        "df_true = pd.DataFrame(true_mc)\n",
        "df_false = pd.DataFrame(fake_mc)\n",
        "df_false1 = df_false[0:23]\n",
        "df_true1 = df_true[0:23]\n",
        "df_common = list(set(df_true1.iloc[:,0]) & set(df_false1.iloc[:,0]))\n",
        "df_common"
      ],
      "execution_count": 0,
      "outputs": [
        {
          "output_type": "execute_result",
          "data": {
            "text/plain": [
              "['best',\n",
              " 'would',\n",
              " 'delici',\n",
              " 'time',\n",
              " 'like',\n",
              " 'place',\n",
              " 'tri',\n",
              " 'back',\n",
              " 'also',\n",
              " 'good',\n",
              " 'restaur',\n",
              " 'love',\n",
              " 'order',\n",
              " 'wait',\n",
              " 'food',\n",
              " 'realli',\n",
              " 'great',\n",
              " 'go',\n",
              " 'come',\n",
              " 'one',\n",
              " 'get',\n",
              " 'servic']"
            ]
          },
          "metadata": {
            "tags": []
          },
          "execution_count": 92
        }
      ]
    },
    {
      "metadata": {
        "id": "vROXpSjzsAaM",
        "colab_type": "code",
        "outputId": "781ff658-870a-43cd-ea25-c0769d94655f",
        "colab": {
          "base_uri": "https://localhost:8080/",
          "height": 751
        }
      },
      "cell_type": "code",
      "source": [
        "final.head()"
      ],
      "execution_count": 0,
      "outputs": [
        {
          "output_type": "execute_result",
          "data": {
            "text/html": [
              "<div>\n",
              "<style scoped>\n",
              "    .dataframe tbody tr th:only-of-type {\n",
              "        vertical-align: middle;\n",
              "    }\n",
              "\n",
              "    .dataframe tbody tr th {\n",
              "        vertical-align: top;\n",
              "    }\n",
              "\n",
              "    .dataframe thead th {\n",
              "        text-align: right;\n",
              "    }\n",
              "</style>\n",
              "<table border=\"1\" class=\"dataframe\">\n",
              "  <thead>\n",
              "    <tr style=\"text-align: right;\">\n",
              "      <th></th>\n",
              "      <th>User_Id</th>\n",
              "      <th>Prod_Id</th>\n",
              "      <th>Date_x</th>\n",
              "      <th>Review</th>\n",
              "      <th>Rating</th>\n",
              "      <th>Label</th>\n",
              "      <th>Product_Name</th>\n",
              "      <th>Avg_Prod_Rating</th>\n",
              "      <th>Avg_user_rating</th>\n",
              "      <th>Review_Len</th>\n",
              "      <th>user_total_reviews</th>\n",
              "      <th>corpus</th>\n",
              "      <th>compound</th>\n",
              "      <th>neg</th>\n",
              "      <th>neu</th>\n",
              "      <th>pos</th>\n",
              "      <th>number_Cap_Words</th>\n",
              "      <th>number_digit_Words</th>\n",
              "      <th>noun_count</th>\n",
              "    </tr>\n",
              "  </thead>\n",
              "  <tbody>\n",
              "    <tr>\n",
              "      <th>0</th>\n",
              "      <td>923</td>\n",
              "      <td>0</td>\n",
              "      <td>08-12-2014</td>\n",
              "      <td>The food at snack is a selection of popular Gr...</td>\n",
              "      <td>3</td>\n",
              "      <td>-1</td>\n",
              "      <td>Snack</td>\n",
              "      <td>4.009524</td>\n",
              "      <td>4.435897</td>\n",
              "      <td>215</td>\n",
              "      <td>39</td>\n",
              "      <td>food snack select popular greek dish appet tra...</td>\n",
              "      <td>0.6486</td>\n",
              "      <td>0.061</td>\n",
              "      <td>0.693</td>\n",
              "      <td>0.247</td>\n",
              "      <td>0</td>\n",
              "      <td>0</td>\n",
              "      <td>3</td>\n",
              "    </tr>\n",
              "    <tr>\n",
              "      <th>1</th>\n",
              "      <td>923</td>\n",
              "      <td>19</td>\n",
              "      <td>14-01-2014</td>\n",
              "      <td>The restaurant is on the ground floor of a typ...</td>\n",
              "      <td>5</td>\n",
              "      <td>-1</td>\n",
              "      <td>Palo Santo</td>\n",
              "      <td>4.037152</td>\n",
              "      <td>4.435897</td>\n",
              "      <td>513</td>\n",
              "      <td>39</td>\n",
              "      <td>littl place soho wonder lamb sandwich glass wi...</td>\n",
              "      <td>-0.1280</td>\n",
              "      <td>0.189</td>\n",
              "      <td>0.673</td>\n",
              "      <td>0.138</td>\n",
              "      <td>0</td>\n",
              "      <td>0</td>\n",
              "      <td>9</td>\n",
              "    </tr>\n",
              "    <tr>\n",
              "      <th>2</th>\n",
              "      <td>923</td>\n",
              "      <td>40</td>\n",
              "      <td>30-05-2014</td>\n",
              "      <td>Really nice mousaka and lovely décor inside. A...</td>\n",
              "      <td>4</td>\n",
              "      <td>-1</td>\n",
              "      <td>Pylos</td>\n",
              "      <td>4.312869</td>\n",
              "      <td>4.435897</td>\n",
              "      <td>231</td>\n",
              "      <td>39</td>\n",
              "      <td>order lunch snack last friday time noth miss f...</td>\n",
              "      <td>0.7717</td>\n",
              "      <td>0.067</td>\n",
              "      <td>0.628</td>\n",
              "      <td>0.305</td>\n",
              "      <td>0</td>\n",
              "      <td>1</td>\n",
              "      <td>4</td>\n",
              "    </tr>\n",
              "    <tr>\n",
              "      <th>3</th>\n",
              "      <td>923</td>\n",
              "      <td>63</td>\n",
              "      <td>13-11-2014</td>\n",
              "      <td>I really enjoyed brunch at Jane. The ambiance ...</td>\n",
              "      <td>4</td>\n",
              "      <td>-1</td>\n",
              "      <td>Jane</td>\n",
              "      <td>3.937181</td>\n",
              "      <td>4.435897</td>\n",
              "      <td>169</td>\n",
              "      <td>39</td>\n",
              "      <td>beauti quaint littl restaur pretti street stro...</td>\n",
              "      <td>0.8910</td>\n",
              "      <td>0.042</td>\n",
              "      <td>0.712</td>\n",
              "      <td>0.246</td>\n",
              "      <td>0</td>\n",
              "      <td>0</td>\n",
              "      <td>2</td>\n",
              "    </tr>\n",
              "    <tr>\n",
              "      <th>4</th>\n",
              "      <td>923</td>\n",
              "      <td>79</td>\n",
              "      <td>30-03-2014</td>\n",
              "      <td>We ate at the Blue Ribbon with colleagues. The...</td>\n",
              "      <td>3</td>\n",
              "      <td>-1</td>\n",
              "      <td>Blue Ribbon Brasserie</td>\n",
              "      <td>4.280000</td>\n",
              "      <td>4.435897</td>\n",
              "      <td>255</td>\n",
              "      <td>39</td>\n",
              "      <td>snack great place casual sit lunch especi cold...</td>\n",
              "      <td>0.9769</td>\n",
              "      <td>0.000</td>\n",
              "      <td>0.661</td>\n",
              "      <td>0.339</td>\n",
              "      <td>0</td>\n",
              "      <td>0</td>\n",
              "      <td>3</td>\n",
              "    </tr>\n",
              "  </tbody>\n",
              "</table>\n",
              "</div>"
            ],
            "text/plain": [
              "   User_Id  Prod_Id      Date_x  \\\n",
              "0      923        0  08-12-2014   \n",
              "1      923       19  14-01-2014   \n",
              "2      923       40  30-05-2014   \n",
              "3      923       63  13-11-2014   \n",
              "4      923       79  30-03-2014   \n",
              "\n",
              "                                             Review   Rating  Label  \\\n",
              "0  The food at snack is a selection of popular Gr...       3     -1   \n",
              "1  The restaurant is on the ground floor of a typ...       5     -1   \n",
              "2  Really nice mousaka and lovely décor inside. A...       4     -1   \n",
              "3  I really enjoyed brunch at Jane. The ambiance ...       4     -1   \n",
              "4  We ate at the Blue Ribbon with colleagues. The...       3     -1   \n",
              "\n",
              "            Product_Name  Avg_Prod_Rating  Avg_user_rating  Review_Len  \\\n",
              "0                  Snack         4.009524         4.435897         215   \n",
              "1             Palo Santo         4.037152         4.435897         513   \n",
              "2                  Pylos         4.312869         4.435897         231   \n",
              "3                   Jane         3.937181         4.435897         169   \n",
              "4  Blue Ribbon Brasserie         4.280000         4.435897         255   \n",
              "\n",
              "   user_total_reviews                                             corpus  \\\n",
              "0                  39  food snack select popular greek dish appet tra...   \n",
              "1                  39  littl place soho wonder lamb sandwich glass wi...   \n",
              "2                  39  order lunch snack last friday time noth miss f...   \n",
              "3                  39  beauti quaint littl restaur pretti street stro...   \n",
              "4                  39  snack great place casual sit lunch especi cold...   \n",
              "\n",
              "   compound    neg    neu    pos  number_Cap_Words  number_digit_Words  \\\n",
              "0    0.6486  0.061  0.693  0.247                 0                   0   \n",
              "1   -0.1280  0.189  0.673  0.138                 0                   0   \n",
              "2    0.7717  0.067  0.628  0.305                 0                   1   \n",
              "3    0.8910  0.042  0.712  0.246                 0                   0   \n",
              "4    0.9769  0.000  0.661  0.339                 0                   0   \n",
              "\n",
              "   noun_count  \n",
              "0           3  \n",
              "1           9  \n",
              "2           4  \n",
              "3           2  \n",
              "4           3  "
            ]
          },
          "metadata": {
            "tags": []
          },
          "execution_count": 93
        }
      ]
    },
    {
      "metadata": {
        "id": "ZTISq8QOZiiC",
        "colab_type": "text"
      },
      "cell_type": "markdown",
      "source": [
        "Separating predictor and target variables for our model"
      ]
    },
    {
      "metadata": {
        "id": "2QQNS2acr1Yf",
        "colab_type": "code",
        "colab": {}
      },
      "cell_type": "code",
      "source": [
        "final_data_for_train =  final.drop(columns=['User_Id','Prod_Id','Date_x','Review ','Product_Name','compound'])"
      ],
      "execution_count": 0,
      "outputs": []
    },
    {
      "metadata": {
        "id": "8AO55gk2ZohM",
        "colab_type": "text"
      },
      "cell_type": "markdown",
      "source": [
        "Dropping na values "
      ]
    },
    {
      "metadata": {
        "id": "Cjo5Mq_SEzel",
        "colab_type": "code",
        "colab": {}
      },
      "cell_type": "code",
      "source": [
        "final_data_for_train =  final_data_for_train.dropna()\n",
        "final = final.dropna()"
      ],
      "execution_count": 0,
      "outputs": []
    },
    {
      "metadata": {
        "id": "2xkkrLqMZ0sC",
        "colab_type": "text"
      },
      "cell_type": "markdown",
      "source": [
        "Splitting our dataset into training and testing set"
      ]
    },
    {
      "metadata": {
        "id": "6pLfQAORn_g7",
        "colab_type": "code",
        "colab": {}
      },
      "cell_type": "code",
      "source": [
        "#Split\n",
        "X_train, X_test, y_train, y_test = train_test_split(final_data_for_train, final['Label'], test_size=0.25, random_state=101)\n",
        "\n",
        "#Vectorize\n",
        "vectorizer = TfidfVectorizer(stop_words= df_common, ngram_range=(3,3), max_features= 15000)\n",
        "vectorize = vectorizer.fit(X_train['corpus'])"
      ],
      "execution_count": 0,
      "outputs": []
    },
    {
      "metadata": {
        "id": "62X_rGeipkP8",
        "colab_type": "code",
        "colab": {}
      },
      "cell_type": "code",
      "source": [
        "X_train_vector = vectorize.transform(X_train['corpus'])\n",
        "X_test_vector = vectorize.transform(X_test['corpus'])"
      ],
      "execution_count": 0,
      "outputs": []
    },
    {
      "metadata": {
        "id": "_f_uu_Iu5z0S",
        "colab_type": "code",
        "colab": {}
      },
      "cell_type": "code",
      "source": [
        "final_train = sp.sparse.hstack((X_train_vector,X_train[['Rating','Avg_Prod_Rating','Avg_user_rating','Review_Len','user_total_reviews','neg','neu','pos','number_Cap_Words','number_digit_Words','noun_count']].values),format='csr')"
      ],
      "execution_count": 0,
      "outputs": []
    },
    {
      "metadata": {
        "id": "uMqrk2KrC__M",
        "colab_type": "code",
        "colab": {}
      },
      "cell_type": "code",
      "source": [
        "final_test = sp.sparse.hstack((X_test_vector,X_test[['Rating','Avg_Prod_Rating','Avg_user_rating','Review_Len','user_total_reviews','neg','neu','pos','number_Cap_Words','number_digit_Words','noun_count']].values),format='csr')"
      ],
      "execution_count": 0,
      "outputs": []
    },
    {
      "metadata": {
        "id": "S0X04YWgjX02",
        "colab_type": "text"
      },
      "cell_type": "markdown",
      "source": [
        "K Nearest Neighbors"
      ]
    },
    {
      "metadata": {
        "id": "L9d10Irok_Ha",
        "colab_type": "text"
      },
      "cell_type": "markdown",
      "source": [
        "According to rule of thumb setting value of K = sqrt(n) where n is the number of samples(rows)"
      ]
    },
    {
      "metadata": {
        "id": "3XyZdcLJjcYE",
        "colab_type": "code",
        "colab": {}
      },
      "cell_type": "code",
      "source": [
        "from sklearn.neighbors import KNeighborsClassifier"
      ],
      "execution_count": 0,
      "outputs": []
    },
    {
      "metadata": {
        "id": "cE96gWf0uKBh",
        "colab_type": "code",
        "outputId": "82076007-5204-4a5e-df39-f61982b3325f",
        "colab": {
          "base_uri": "https://localhost:8080/",
          "height": 34
        }
      },
      "cell_type": "code",
      "source": [
        "from imblearn.over_sampling import SMOTE\n",
        "X_resampled, y_resampled = SMOTE().fit_resample(final_train, y_train)\n",
        "from collections import Counter\n",
        "print(sorted(Counter(y_resampled).items()))"
      ],
      "execution_count": 0,
      "outputs": [
        {
          "output_type": "stream",
          "text": [
            "[(-1, 265849), (1, 265849)]\n"
          ],
          "name": "stdout"
        }
      ]
    },
    {
      "metadata": {
        "id": "oTIIiXOubOZX",
        "colab_type": "code",
        "colab": {}
      },
      "cell_type": "code",
      "source": [
        "neighors = np.sqrt(X_resampled.shape[0])"
      ],
      "execution_count": 0,
      "outputs": []
    },
    {
      "metadata": {
        "id": "33o8GdBCs8rc",
        "colab_type": "code",
        "outputId": "8b74b0e3-0061-4e4c-dbab-ee6deb508571",
        "colab": {
          "base_uri": "https://localhost:8080/",
          "height": 34
        }
      },
      "cell_type": "code",
      "source": [
        "neighors"
      ],
      "execution_count": 0,
      "outputs": [
        {
          "output_type": "execute_result",
          "data": {
            "text/plain": [
              "729.1762475561036"
            ]
          },
          "metadata": {
            "tags": []
          },
          "execution_count": 106
        }
      ]
    },
    {
      "metadata": {
        "id": "J9VBd6GyuSN1",
        "colab_type": "code",
        "colab": {
          "base_uri": "https://localhost:8080/",
          "height": 1149
        },
        "outputId": "fc3892ea-f6e0-427d-eff9-f1bd13d211bf"
      },
      "cell_type": "code",
      "source": [
        "knn = KNeighborsClassifier(n_neighbors=int(neighors))\n",
        "knn.fit(X_resampled, y_resampled)\n",
        "prediction_knn = knn.predict(final_test)"
      ],
      "execution_count": 108,
      "outputs": [
        {
          "output_type": "error",
          "ename": "KeyboardInterrupt",
          "evalue": "ignored",
          "traceback": [
            "\u001b[0;31m---------------------------------------------------------------------------\u001b[0m",
            "\u001b[0;31mKeyboardInterrupt\u001b[0m                         Traceback (most recent call last)",
            "\u001b[0;32m<ipython-input-108-90253839ab92>\u001b[0m in \u001b[0;36m<module>\u001b[0;34m()\u001b[0m\n\u001b[1;32m      1\u001b[0m \u001b[0mknn\u001b[0m \u001b[0;34m=\u001b[0m \u001b[0mKNeighborsClassifier\u001b[0m\u001b[0;34m(\u001b[0m\u001b[0mn_neighbors\u001b[0m\u001b[0;34m=\u001b[0m\u001b[0mint\u001b[0m\u001b[0;34m(\u001b[0m\u001b[0mneighors\u001b[0m\u001b[0;34m)\u001b[0m\u001b[0;34m)\u001b[0m\u001b[0;34m\u001b[0m\u001b[0;34m\u001b[0m\u001b[0m\n\u001b[1;32m      2\u001b[0m \u001b[0mknn\u001b[0m\u001b[0;34m.\u001b[0m\u001b[0mfit\u001b[0m\u001b[0;34m(\u001b[0m\u001b[0mX_resampled\u001b[0m\u001b[0;34m,\u001b[0m \u001b[0my_resampled\u001b[0m\u001b[0;34m)\u001b[0m\u001b[0;34m\u001b[0m\u001b[0;34m\u001b[0m\u001b[0m\n\u001b[0;32m----> 3\u001b[0;31m \u001b[0mprediction_knn\u001b[0m \u001b[0;34m=\u001b[0m \u001b[0mknn\u001b[0m\u001b[0;34m.\u001b[0m\u001b[0mpredict\u001b[0m\u001b[0;34m(\u001b[0m\u001b[0mfinal_test\u001b[0m\u001b[0;34m)\u001b[0m\u001b[0;34m\u001b[0m\u001b[0;34m\u001b[0m\u001b[0m\n\u001b[0m",
            "\u001b[0;32m/usr/local/lib/python3.6/dist-packages/sklearn/neighbors/classification.py\u001b[0m in \u001b[0;36mpredict\u001b[0;34m(self, X)\u001b[0m\n\u001b[1;32m    147\u001b[0m         \u001b[0mX\u001b[0m \u001b[0;34m=\u001b[0m \u001b[0mcheck_array\u001b[0m\u001b[0;34m(\u001b[0m\u001b[0mX\u001b[0m\u001b[0;34m,\u001b[0m \u001b[0maccept_sparse\u001b[0m\u001b[0;34m=\u001b[0m\u001b[0;34m'csr'\u001b[0m\u001b[0;34m)\u001b[0m\u001b[0;34m\u001b[0m\u001b[0;34m\u001b[0m\u001b[0m\n\u001b[1;32m    148\u001b[0m \u001b[0;34m\u001b[0m\u001b[0m\n\u001b[0;32m--> 149\u001b[0;31m         \u001b[0mneigh_dist\u001b[0m\u001b[0;34m,\u001b[0m \u001b[0mneigh_ind\u001b[0m \u001b[0;34m=\u001b[0m \u001b[0mself\u001b[0m\u001b[0;34m.\u001b[0m\u001b[0mkneighbors\u001b[0m\u001b[0;34m(\u001b[0m\u001b[0mX\u001b[0m\u001b[0;34m)\u001b[0m\u001b[0;34m\u001b[0m\u001b[0;34m\u001b[0m\u001b[0m\n\u001b[0m\u001b[1;32m    150\u001b[0m         \u001b[0mclasses_\u001b[0m \u001b[0;34m=\u001b[0m \u001b[0mself\u001b[0m\u001b[0;34m.\u001b[0m\u001b[0mclasses_\u001b[0m\u001b[0;34m\u001b[0m\u001b[0;34m\u001b[0m\u001b[0m\n\u001b[1;32m    151\u001b[0m         \u001b[0m_y\u001b[0m \u001b[0;34m=\u001b[0m \u001b[0mself\u001b[0m\u001b[0;34m.\u001b[0m\u001b[0m_y\u001b[0m\u001b[0;34m\u001b[0m\u001b[0;34m\u001b[0m\u001b[0m\n",
            "\u001b[0;32m/usr/local/lib/python3.6/dist-packages/sklearn/neighbors/base.py\u001b[0m in \u001b[0;36mkneighbors\u001b[0;34m(self, X, n_neighbors, return_distance)\u001b[0m\n\u001b[1;32m    433\u001b[0m                 \u001b[0mX\u001b[0m\u001b[0;34m,\u001b[0m \u001b[0mself\u001b[0m\u001b[0;34m.\u001b[0m\u001b[0m_fit_X\u001b[0m\u001b[0;34m,\u001b[0m \u001b[0mreduce_func\u001b[0m\u001b[0;34m=\u001b[0m\u001b[0mreduce_func\u001b[0m\u001b[0;34m,\u001b[0m\u001b[0;34m\u001b[0m\u001b[0;34m\u001b[0m\u001b[0m\n\u001b[1;32m    434\u001b[0m                 \u001b[0mmetric\u001b[0m\u001b[0;34m=\u001b[0m\u001b[0mself\u001b[0m\u001b[0;34m.\u001b[0m\u001b[0meffective_metric_\u001b[0m\u001b[0;34m,\u001b[0m \u001b[0mn_jobs\u001b[0m\u001b[0;34m=\u001b[0m\u001b[0mn_jobs\u001b[0m\u001b[0;34m,\u001b[0m\u001b[0;34m\u001b[0m\u001b[0;34m\u001b[0m\u001b[0m\n\u001b[0;32m--> 435\u001b[0;31m                 **kwds))\n\u001b[0m\u001b[1;32m    436\u001b[0m \u001b[0;34m\u001b[0m\u001b[0m\n\u001b[1;32m    437\u001b[0m         \u001b[0;32melif\u001b[0m \u001b[0mself\u001b[0m\u001b[0;34m.\u001b[0m\u001b[0m_fit_method\u001b[0m \u001b[0;32min\u001b[0m \u001b[0;34m[\u001b[0m\u001b[0;34m'ball_tree'\u001b[0m\u001b[0;34m,\u001b[0m \u001b[0;34m'kd_tree'\u001b[0m\u001b[0;34m]\u001b[0m\u001b[0;34m:\u001b[0m\u001b[0;34m\u001b[0m\u001b[0;34m\u001b[0m\u001b[0m\n",
            "\u001b[0;32m/usr/local/lib/python3.6/dist-packages/sklearn/metrics/pairwise.py\u001b[0m in \u001b[0;36mpairwise_distances_chunked\u001b[0;34m(X, Y, reduce_func, metric, n_jobs, working_memory, **kwds)\u001b[0m\n\u001b[1;32m   1300\u001b[0m             \u001b[0mX_chunk\u001b[0m \u001b[0;34m=\u001b[0m \u001b[0mX\u001b[0m\u001b[0;34m[\u001b[0m\u001b[0msl\u001b[0m\u001b[0;34m]\u001b[0m\u001b[0;34m\u001b[0m\u001b[0;34m\u001b[0m\u001b[0m\n\u001b[1;32m   1301\u001b[0m         D_chunk = pairwise_distances(X_chunk, Y, metric=metric,\n\u001b[0;32m-> 1302\u001b[0;31m                                      n_jobs=n_jobs, **kwds)\n\u001b[0m\u001b[1;32m   1303\u001b[0m         if ((X is Y or Y is None)\n\u001b[1;32m   1304\u001b[0m                 \u001b[0;32mand\u001b[0m \u001b[0mPAIRWISE_DISTANCE_FUNCTIONS\u001b[0m\u001b[0;34m.\u001b[0m\u001b[0mget\u001b[0m\u001b[0;34m(\u001b[0m\u001b[0mmetric\u001b[0m\u001b[0;34m,\u001b[0m \u001b[0;32mNone\u001b[0m\u001b[0;34m)\u001b[0m\u001b[0;34m\u001b[0m\u001b[0;34m\u001b[0m\u001b[0m\n",
            "\u001b[0;32m/usr/local/lib/python3.6/dist-packages/sklearn/metrics/pairwise.py\u001b[0m in \u001b[0;36mpairwise_distances\u001b[0;34m(X, Y, metric, n_jobs, **kwds)\u001b[0m\n\u001b[1;32m   1430\u001b[0m         \u001b[0mfunc\u001b[0m \u001b[0;34m=\u001b[0m \u001b[0mpartial\u001b[0m\u001b[0;34m(\u001b[0m\u001b[0mdistance\u001b[0m\u001b[0;34m.\u001b[0m\u001b[0mcdist\u001b[0m\u001b[0;34m,\u001b[0m \u001b[0mmetric\u001b[0m\u001b[0;34m=\u001b[0m\u001b[0mmetric\u001b[0m\u001b[0;34m,\u001b[0m \u001b[0;34m**\u001b[0m\u001b[0mkwds\u001b[0m\u001b[0;34m)\u001b[0m\u001b[0;34m\u001b[0m\u001b[0;34m\u001b[0m\u001b[0m\n\u001b[1;32m   1431\u001b[0m \u001b[0;34m\u001b[0m\u001b[0m\n\u001b[0;32m-> 1432\u001b[0;31m     \u001b[0;32mreturn\u001b[0m \u001b[0m_parallel_pairwise\u001b[0m\u001b[0;34m(\u001b[0m\u001b[0mX\u001b[0m\u001b[0;34m,\u001b[0m \u001b[0mY\u001b[0m\u001b[0;34m,\u001b[0m \u001b[0mfunc\u001b[0m\u001b[0;34m,\u001b[0m \u001b[0mn_jobs\u001b[0m\u001b[0;34m,\u001b[0m \u001b[0;34m**\u001b[0m\u001b[0mkwds\u001b[0m\u001b[0;34m)\u001b[0m\u001b[0;34m\u001b[0m\u001b[0;34m\u001b[0m\u001b[0m\n\u001b[0m\u001b[1;32m   1433\u001b[0m \u001b[0;34m\u001b[0m\u001b[0m\n\u001b[1;32m   1434\u001b[0m \u001b[0;34m\u001b[0m\u001b[0m\n",
            "\u001b[0;32m/usr/local/lib/python3.6/dist-packages/sklearn/metrics/pairwise.py\u001b[0m in \u001b[0;36m_parallel_pairwise\u001b[0;34m(X, Y, func, n_jobs, **kwds)\u001b[0m\n\u001b[1;32m   1065\u001b[0m \u001b[0;34m\u001b[0m\u001b[0m\n\u001b[1;32m   1066\u001b[0m     \u001b[0;32mif\u001b[0m \u001b[0meffective_n_jobs\u001b[0m\u001b[0;34m(\u001b[0m\u001b[0mn_jobs\u001b[0m\u001b[0;34m)\u001b[0m \u001b[0;34m==\u001b[0m \u001b[0;36m1\u001b[0m\u001b[0;34m:\u001b[0m\u001b[0;34m\u001b[0m\u001b[0;34m\u001b[0m\u001b[0m\n\u001b[0;32m-> 1067\u001b[0;31m         \u001b[0;32mreturn\u001b[0m \u001b[0mfunc\u001b[0m\u001b[0;34m(\u001b[0m\u001b[0mX\u001b[0m\u001b[0;34m,\u001b[0m \u001b[0mY\u001b[0m\u001b[0;34m,\u001b[0m \u001b[0;34m**\u001b[0m\u001b[0mkwds\u001b[0m\u001b[0;34m)\u001b[0m\u001b[0;34m\u001b[0m\u001b[0;34m\u001b[0m\u001b[0m\n\u001b[0m\u001b[1;32m   1068\u001b[0m \u001b[0;34m\u001b[0m\u001b[0m\n\u001b[1;32m   1069\u001b[0m     \u001b[0;31m# TODO: in some cases, backend='threading' may be appropriate\u001b[0m\u001b[0;34m\u001b[0m\u001b[0;34m\u001b[0m\u001b[0;34m\u001b[0m\u001b[0m\n",
            "\u001b[0;32m/usr/local/lib/python3.6/dist-packages/sklearn/metrics/pairwise.py\u001b[0m in \u001b[0;36meuclidean_distances\u001b[0;34m(X, Y, Y_norm_squared, squared, X_norm_squared)\u001b[0m\n\u001b[1;32m    245\u001b[0m         \u001b[0mYY\u001b[0m \u001b[0;34m=\u001b[0m \u001b[0mrow_norms\u001b[0m\u001b[0;34m(\u001b[0m\u001b[0mY\u001b[0m\u001b[0;34m,\u001b[0m \u001b[0msquared\u001b[0m\u001b[0;34m=\u001b[0m\u001b[0;32mTrue\u001b[0m\u001b[0;34m)\u001b[0m\u001b[0;34m[\u001b[0m\u001b[0mnp\u001b[0m\u001b[0;34m.\u001b[0m\u001b[0mnewaxis\u001b[0m\u001b[0;34m,\u001b[0m \u001b[0;34m:\u001b[0m\u001b[0;34m]\u001b[0m\u001b[0;34m\u001b[0m\u001b[0;34m\u001b[0m\u001b[0m\n\u001b[1;32m    246\u001b[0m \u001b[0;34m\u001b[0m\u001b[0m\n\u001b[0;32m--> 247\u001b[0;31m     \u001b[0mdistances\u001b[0m \u001b[0;34m=\u001b[0m \u001b[0msafe_sparse_dot\u001b[0m\u001b[0;34m(\u001b[0m\u001b[0mX\u001b[0m\u001b[0;34m,\u001b[0m \u001b[0mY\u001b[0m\u001b[0;34m.\u001b[0m\u001b[0mT\u001b[0m\u001b[0;34m,\u001b[0m \u001b[0mdense_output\u001b[0m\u001b[0;34m=\u001b[0m\u001b[0;32mTrue\u001b[0m\u001b[0;34m)\u001b[0m\u001b[0;34m\u001b[0m\u001b[0;34m\u001b[0m\u001b[0m\n\u001b[0m\u001b[1;32m    248\u001b[0m     \u001b[0mdistances\u001b[0m \u001b[0;34m*=\u001b[0m \u001b[0;34m-\u001b[0m\u001b[0;36m2\u001b[0m\u001b[0;34m\u001b[0m\u001b[0;34m\u001b[0m\u001b[0m\n\u001b[1;32m    249\u001b[0m     \u001b[0mdistances\u001b[0m \u001b[0;34m+=\u001b[0m \u001b[0mXX\u001b[0m\u001b[0;34m\u001b[0m\u001b[0;34m\u001b[0m\u001b[0m\n",
            "\u001b[0;32m/usr/local/lib/python3.6/dist-packages/sklearn/utils/extmath.py\u001b[0m in \u001b[0;36msafe_sparse_dot\u001b[0;34m(a, b, dense_output)\u001b[0m\n\u001b[1;32m    168\u001b[0m         \u001b[0mret\u001b[0m \u001b[0;34m=\u001b[0m \u001b[0ma\u001b[0m \u001b[0;34m*\u001b[0m \u001b[0mb\u001b[0m\u001b[0;34m\u001b[0m\u001b[0;34m\u001b[0m\u001b[0m\n\u001b[1;32m    169\u001b[0m         \u001b[0;32mif\u001b[0m \u001b[0mdense_output\u001b[0m \u001b[0;32mand\u001b[0m \u001b[0mhasattr\u001b[0m\u001b[0;34m(\u001b[0m\u001b[0mret\u001b[0m\u001b[0;34m,\u001b[0m \u001b[0;34m\"toarray\"\u001b[0m\u001b[0;34m)\u001b[0m\u001b[0;34m:\u001b[0m\u001b[0;34m\u001b[0m\u001b[0;34m\u001b[0m\u001b[0m\n\u001b[0;32m--> 170\u001b[0;31m             \u001b[0mret\u001b[0m \u001b[0;34m=\u001b[0m \u001b[0mret\u001b[0m\u001b[0;34m.\u001b[0m\u001b[0mtoarray\u001b[0m\u001b[0;34m(\u001b[0m\u001b[0;34m)\u001b[0m\u001b[0;34m\u001b[0m\u001b[0;34m\u001b[0m\u001b[0m\n\u001b[0m\u001b[1;32m    171\u001b[0m         \u001b[0;32mreturn\u001b[0m \u001b[0mret\u001b[0m\u001b[0;34m\u001b[0m\u001b[0;34m\u001b[0m\u001b[0m\n\u001b[1;32m    172\u001b[0m     \u001b[0;32melse\u001b[0m\u001b[0;34m:\u001b[0m\u001b[0;34m\u001b[0m\u001b[0;34m\u001b[0m\u001b[0m\n",
            "\u001b[0;32m/usr/local/lib/python3.6/dist-packages/scipy/sparse/compressed.py\u001b[0m in \u001b[0;36mtoarray\u001b[0;34m(self, order, out)\u001b[0m\n\u001b[1;32m    971\u001b[0m             \u001b[0my\u001b[0m \u001b[0;34m=\u001b[0m \u001b[0mout\u001b[0m\u001b[0;34m.\u001b[0m\u001b[0mT\u001b[0m\u001b[0;34m\u001b[0m\u001b[0;34m\u001b[0m\u001b[0m\n\u001b[1;32m    972\u001b[0m         \u001b[0mM\u001b[0m\u001b[0;34m,\u001b[0m \u001b[0mN\u001b[0m \u001b[0;34m=\u001b[0m \u001b[0mx\u001b[0m\u001b[0;34m.\u001b[0m\u001b[0m_swap\u001b[0m\u001b[0;34m(\u001b[0m\u001b[0mx\u001b[0m\u001b[0;34m.\u001b[0m\u001b[0mshape\u001b[0m\u001b[0;34m)\u001b[0m\u001b[0;34m\u001b[0m\u001b[0;34m\u001b[0m\u001b[0m\n\u001b[0;32m--> 973\u001b[0;31m         \u001b[0m_sparsetools\u001b[0m\u001b[0;34m.\u001b[0m\u001b[0mcsr_todense\u001b[0m\u001b[0;34m(\u001b[0m\u001b[0mM\u001b[0m\u001b[0;34m,\u001b[0m \u001b[0mN\u001b[0m\u001b[0;34m,\u001b[0m \u001b[0mx\u001b[0m\u001b[0;34m.\u001b[0m\u001b[0mindptr\u001b[0m\u001b[0;34m,\u001b[0m \u001b[0mx\u001b[0m\u001b[0;34m.\u001b[0m\u001b[0mindices\u001b[0m\u001b[0;34m,\u001b[0m \u001b[0mx\u001b[0m\u001b[0;34m.\u001b[0m\u001b[0mdata\u001b[0m\u001b[0;34m,\u001b[0m \u001b[0my\u001b[0m\u001b[0;34m)\u001b[0m\u001b[0;34m\u001b[0m\u001b[0;34m\u001b[0m\u001b[0m\n\u001b[0m\u001b[1;32m    974\u001b[0m         \u001b[0;32mreturn\u001b[0m \u001b[0mout\u001b[0m\u001b[0;34m\u001b[0m\u001b[0;34m\u001b[0m\u001b[0m\n\u001b[1;32m    975\u001b[0m \u001b[0;34m\u001b[0m\u001b[0m\n",
            "\u001b[0;31mKeyboardInterrupt\u001b[0m: "
          ]
        }
      ]
    },
    {
      "metadata": {
        "id": "52WhN3zGuTeK",
        "colab_type": "code",
        "colab": {}
      },
      "cell_type": "code",
      "source": [
        "print(classification_report(y_test, prediction_knn))\n",
        "confusion_matrix(y_test, prediction_knn)"
      ],
      "execution_count": 0,
      "outputs": []
    },
    {
      "metadata": {
        "id": "lWag4-TPuqNh",
        "colab_type": "code",
        "colab": {}
      },
      "cell_type": "code",
      "source": [
        "fpr, tpr, thresholds = roc_curve(y_test, prediction_knn)\n",
        "plot_roc_curve(fpr, tpr)"
      ],
      "execution_count": 0,
      "outputs": []
    },
    {
      "metadata": {
        "id": "uVGl3PDPu0pH",
        "colab_type": "code",
        "colab": {}
      },
      "cell_type": "code",
      "source": [
        "print(accuracy_score(y_test, prediction_knn))\n",
        "print(roc_auc_score(y_test, prediction_knn))"
      ],
      "execution_count": 0,
      "outputs": []
    },
    {
      "metadata": {
        "id": "2ClGqIpybeDT",
        "colab_type": "text"
      },
      "cell_type": "markdown",
      "source": [
        "Evaluation of our result"
      ]
    },
    {
      "metadata": {
        "id": "ly6083oAh3WF",
        "colab_type": "code",
        "colab": {}
      },
      "cell_type": "code",
      "source": [
        "def plot_roc_curve(fpr, tpr):  \n",
        "    plt.plot(fpr, tpr, color='orange', label='ROC')\n",
        "    plt.plot([0, 1], [0, 1], color='darkblue', linestyle='--')\n",
        "    plt.xlabel('False Positive Rate')\n",
        "    plt.ylabel('True Positive Rate')\n",
        "    plt.title('Receiver Operating Characteristic (ROC) Curve')\n",
        "    plt.legend()\n",
        "    plt.show()"
      ],
      "execution_count": 0,
      "outputs": []
    },
    {
      "metadata": {
        "id": "f9f0VWJ0h_qL",
        "colab_type": "code",
        "colab": {}
      },
      "cell_type": "code",
      "source": [
        "fpr, tpr, thresholds = roc_curve(y_test, prediction_knn)\n"
      ],
      "execution_count": 0,
      "outputs": []
    },
    {
      "metadata": {
        "id": "7M89igI-iO6W",
        "colab_type": "code",
        "colab": {}
      },
      "cell_type": "code",
      "source": [
        "plot_roc_curve(fpr, tpr)"
      ],
      "execution_count": 0,
      "outputs": []
    },
    {
      "metadata": {
        "id": "9yLQxiv2jEkk",
        "colab_type": "code",
        "colab": {}
      },
      "cell_type": "code",
      "source": [
        "accuracy_score(y_test, prediction_knn)"
      ],
      "execution_count": 0,
      "outputs": []
    },
    {
      "metadata": {
        "id": "MsBuveLoooyS",
        "colab_type": "code",
        "colab": {}
      },
      "cell_type": "code",
      "source": [
        "roc_auc_score(y_test, prediction_knn)"
      ],
      "execution_count": 0,
      "outputs": []
    },
    {
      "metadata": {
        "id": "IwJX1L4BDbUY",
        "colab_type": "text"
      },
      "cell_type": "markdown",
      "source": [
        "Random Forest Algorithm"
      ]
    },
    {
      "metadata": {
        "id": "NwyoIUCreAKI",
        "colab_type": "code",
        "colab": {}
      },
      "cell_type": "code",
      "source": [
        "#random forest\n",
        "#Import Random Forest Model\n",
        "from sklearn.ensemble import RandomForestClassifier\n",
        "\n",
        "#Create a Gaussian Classifier\n",
        "clf=RandomForestClassifier(n_estimators=1000)\n",
        "\n",
        "#Train the model using the training sets y_pred=clf.predict(X_test)\n",
        "clf.fit(X_resampled,y_resampled)\n"
      ],
      "execution_count": 0,
      "outputs": []
    },
    {
      "metadata": {
        "id": "H5qKh-IvIANU",
        "colab_type": "code",
        "colab": {
          "base_uri": "https://localhost:8080/",
          "height": 163
        },
        "outputId": "6525f8b5-3967-404d-bbca-d0bee2d29142"
      },
      "cell_type": "code",
      "source": [
        "prediction=clf.predict(final_test)"
      ],
      "execution_count": 1,
      "outputs": [
        {
          "output_type": "error",
          "ename": "NameError",
          "evalue": "ignored",
          "traceback": [
            "\u001b[0;31m---------------------------------------------------------------------------\u001b[0m",
            "\u001b[0;31mNameError\u001b[0m                                 Traceback (most recent call last)",
            "\u001b[0;32m<ipython-input-1-82768a0643de>\u001b[0m in \u001b[0;36m<module>\u001b[0;34m()\u001b[0m\n\u001b[0;32m----> 1\u001b[0;31m \u001b[0mprediction\u001b[0m\u001b[0;34m=\u001b[0m\u001b[0mclf\u001b[0m\u001b[0;34m.\u001b[0m\u001b[0mpredict\u001b[0m\u001b[0;34m(\u001b[0m\u001b[0mfinal_test\u001b[0m\u001b[0;34m)\u001b[0m\u001b[0;34m\u001b[0m\u001b[0;34m\u001b[0m\u001b[0m\n\u001b[0m",
            "\u001b[0;31mNameError\u001b[0m: name 'clf' is not defined"
          ]
        }
      ]
    },
    {
      "metadata": {
        "id": "qNm9Yw5ZYAy2",
        "colab_type": "code",
        "colab": {}
      },
      "cell_type": "code",
      "source": [
        "from sklearn.metrics import confusion_matrix, classification_report\n",
        "\n",
        "print(classification_report(y_test, prediction))\n",
        "confusion_matrix(y_test, prediction)"
      ],
      "execution_count": 0,
      "outputs": []
    },
    {
      "metadata": {
        "id": "Lf2WENFIZcja",
        "colab_type": "code",
        "colab": {}
      },
      "cell_type": "code",
      "source": [
        ""
      ],
      "execution_count": 0,
      "outputs": []
    }
  ]
}